{
 "cells": [
  {
   "cell_type": "code",
   "execution_count": 1,
   "id": "2d31a6ce",
   "metadata": {},
   "outputs": [],
   "source": [
    "import re\n",
    "from gensim.models.word2vec import Word2Vec"
   ]
  },
  {
   "cell_type": "code",
   "execution_count": 2,
   "id": "ed28e4c1",
   "metadata": {},
   "outputs": [],
   "source": [
    "import pandas as pd"
   ]
  },
  {
   "cell_type": "code",
   "execution_count": 3,
   "id": "c0e9e818",
   "metadata": {},
   "outputs": [],
   "source": [
    "train_df=pd.read_csv(\"./ratings_train.csv\")"
   ]
  },
  {
   "cell_type": "code",
   "execution_count": 4,
   "id": "e3f7590d",
   "metadata": {},
   "outputs": [],
   "source": [
    "test_df=pd.read_csv(\"./ratings_test.csv\")"
   ]
  },
  {
   "cell_type": "code",
   "execution_count": 5,
   "id": "adf7cf4f",
   "metadata": {},
   "outputs": [],
   "source": [
    "train_df.dropna(inplace=True)"
   ]
  },
  {
   "cell_type": "code",
   "execution_count": 6,
   "id": "4c6af2db",
   "metadata": {},
   "outputs": [
    {
     "name": "stdout",
     "output_type": "stream",
     "text": [
      "<class 'pandas.core.frame.DataFrame'>\n",
      "Int64Index: 149995 entries, 0 to 149999\n",
      "Data columns (total 4 columns):\n",
      " #   Column      Non-Null Count   Dtype \n",
      "---  ------      --------------   ----- \n",
      " 0   Unnamed: 0  149995 non-null  int64 \n",
      " 1   id          149995 non-null  int64 \n",
      " 2   document    149995 non-null  object\n",
      " 3   label       149995 non-null  int64 \n",
      "dtypes: int64(3), object(1)\n",
      "memory usage: 5.7+ MB\n"
     ]
    }
   ],
   "source": [
    "train_df.info()"
   ]
  },
  {
   "cell_type": "code",
   "execution_count": 7,
   "id": "b993fde5",
   "metadata": {},
   "outputs": [],
   "source": [
    "from Token import UserTokenizers"
   ]
  },
  {
   "cell_type": "code",
   "execution_count": 8,
   "id": "d9ea85ce",
   "metadata": {},
   "outputs": [],
   "source": [
    "ut_cls=UserTokenizers()"
   ]
  },
  {
   "cell_type": "code",
   "execution_count": 24,
   "id": "0596d50e",
   "metadata": {},
   "outputs": [],
   "source": [
    "sentences = []\n",
    "for sentence in train_df['document'][:500]:\n",
    "    #nouns = ut_cls.konlpyNounsTokenizer(sentence)\n",
    "    mps= ut_cls.konlyMorphsTokenizer(sentence)\n",
    "    #sentences.append(nouns)\n",
    "    sentences.append(mps)"
   ]
  },
  {
   "cell_type": "markdown",
   "id": "a5e43066",
   "metadata": {},
   "source": [
    "* size = 워드 백터의 특징값, 즉 임베딩 된 백터의 차원\n",
    "* window = context window 크기\n",
    "* min_count= 단어 최소 빈도수 제한\n",
    "* workers= 학습을 위한 프로세스 수\n",
    "* sg=0 은 CBOW, 1은 Skip-gram"
   ]
  },
  {
   "cell_type": "code",
   "execution_count": 25,
   "id": "d37f511b",
   "metadata": {},
   "outputs": [],
   "source": [
    "w2v_model=Word2Vec(sentences)"
   ]
  },
  {
   "cell_type": "code",
   "execution_count": 26,
   "id": "46601cf9",
   "metadata": {},
   "outputs": [
    {
     "name": "stderr",
     "output_type": "stream",
     "text": [
      "/tmp/ipykernel_5506/3118937589.py:2: DeprecationWarning: Call to deprecated `init_sims` (Gensim 4.0.0 implemented internal optimizations that make calls to init_sims() unnecessary. init_sims() is now obsoleted and will be completely removed in future versions. See https://github.com/RaRe-Technologies/gensim/wiki/Migrating-from-Gensim-3.x-to-4).\n",
      "  w2v_model.init_sims(replace=True)\n"
     ]
    }
   ],
   "source": [
    "# 메모리에서 필요없는 부분 제거\n",
    "w2v_model.init_sims(replace=True)"
   ]
  },
  {
   "cell_type": "markdown",
   "id": "c69430a2",
   "metadata": {},
   "source": [
    "### 단어간의 유사도 분석"
   ]
  },
  {
   "cell_type": "code",
   "execution_count": 27,
   "id": "f71967be",
   "metadata": {},
   "outputs": [
    {
     "name": "stdout",
     "output_type": "stream",
     "text": [
      "[['아', '더빙', '..', '진짜', '짜증나네요', '목소리'], ['흠', '...', '포스터', '보고', '초딩', '영화', '줄', '....', '오버', '연기', '조차', '가볍지', '않구나'], ['너', '무재', '밓었', '다그', '래서', '보는것을', '추천', '한', '다'], ['교도소', '이야기', '구먼', '..', '솔직히', '재미', '는', '없다', '..', '평점', '조정'], ['사이', '몬페', '그', '의', '익살스런', '연기', '가', '돋보였던', '영화', '!', '스파이더맨', '에서', '늙어', '보이기만', '했던', '커스틴', '던스트', '가', '너무나도', '이뻐', '보였다'], ['막', '걸음', '마', '뗀', '3', '세', '부터', '초등학교', '1', '학년', '생인', '8', '살용', '영화', '.', 'ㅋㅋㅋ', '...', '별', '반개', '도', '아까', '움', '.'], ['원작', '의', '긴장감', '을', '제대로', '살려내지못', '했다', '.'], ['별', '반개', '도', '아깝다', '욕', '나온다', '이응경', '길용우', '연', '기', '생활', '이', '몇', '년', '인지', '..', '정말', '발', '로', '해도', '그것', '보단', '낫겟다', '납치', '.', '감금', '만', '반복', '반복', '..', '이', '드라마', '는', '가족', '도', '없다', '연기', '못', '하는', '사람', '만', '모', '엿', '네'], ['액션', '이', '없는데도', '재미', '있는', '몇', '안되는', '영화'], ['왜케', '평점', '이', '낮은건데', '?', '꽤', '볼', '만', '한', '데', '..', '헐리우드', '식', '화려함에만', '너무', '길들여져', '있나', '?']]\n"
     ]
    }
   ],
   "source": [
    "print(sentences[:10])"
   ]
  },
  {
   "cell_type": "code",
   "execution_count": 28,
   "id": "992549b9",
   "metadata": {},
   "outputs": [
    {
     "data": {
      "text/plain": [
       "0.962069"
      ]
     },
     "execution_count": 28,
     "metadata": {},
     "output_type": "execute_result"
    }
   ],
   "source": [
    "w2v_model.wv.similarity('영화','연기')"
   ]
  },
  {
   "cell_type": "code",
   "execution_count": 29,
   "id": "87e0d45e",
   "metadata": {},
   "outputs": [
    {
     "data": {
      "text/plain": [
       "[('이', 0.9847264289855957),\n",
       " ('.', 0.9838294982910156),\n",
       " ('..', 0.9826337695121765),\n",
       " ('...', 0.9814320802688599),\n",
       " ('는', 0.9804033637046814),\n",
       " (',', 0.980101466178894),\n",
       " ('의', 0.9800487756729126),\n",
       " ('도', 0.978760838508606),\n",
       " ('들', 0.9760488271713257),\n",
       " ('에', 0.9758758544921875)]"
      ]
     },
     "execution_count": 29,
     "metadata": {},
     "output_type": "execute_result"
    }
   ],
   "source": [
    "#가장 유사도가 높은것\n",
    "w2v_model.wv.most_similar('영화')"
   ]
  },
  {
   "cell_type": "code",
   "execution_count": 21,
   "id": "35df7b4a",
   "metadata": {},
   "outputs": [
    {
     "data": {
      "text/plain": [
       "[('기억', 0.323464572429657),\n",
       " ('진심', 0.2573031485080719),\n",
       " ('하나', 0.24900397658348083),\n",
       " ('2', 0.2281615287065506),\n",
       " ('김', 0.22651612758636475)]"
      ]
     },
     "execution_count": 21,
     "metadata": {},
     "output_type": "execute_result"
    }
   ],
   "source": [
    "# topn = 출력할 숫자\n",
    "\n",
    "w2v_model.wv.most_similar('영화', topn=5)"
   ]
  },
  {
   "cell_type": "code",
   "execution_count": 31,
   "id": "819a9fa4",
   "metadata": {},
   "outputs": [
    {
     "data": {
      "text/plain": [
       "'감독'"
      ]
     },
     "execution_count": 31,
     "metadata": {},
     "output_type": "execute_result"
    }
   ],
   "source": [
    "# 한 문장에서 포함이 않되는 단어\n",
    "\n",
    "w2v_model.wv.doesnt_match(['영화','포스터','감독','드라마'])"
   ]
  },
  {
   "cell_type": "markdown",
   "id": "b06d9678",
   "metadata": {},
   "source": [
    "### gensin 모델 저장하기"
   ]
  },
  {
   "cell_type": "code",
   "execution_count": 32,
   "id": "217e75c9",
   "metadata": {},
   "outputs": [],
   "source": [
    "import tempfile"
   ]
  },
  {
   "cell_type": "code",
   "execution_count": 36,
   "id": "ffd85224",
   "metadata": {},
   "outputs": [],
   "source": [
    "import gensim"
   ]
  },
  {
   "cell_type": "code",
   "execution_count": 33,
   "id": "18cc0312",
   "metadata": {},
   "outputs": [],
   "source": [
    "tmp_path = './mode_data/'\n",
    "with tempfile.NamedTemporaryFile(prefix='gensim-model-',delete=False) as tmp:\n",
    "    tmp_path= tmp.name\n",
    "    w2v_model.save(tmp_path)"
   ]
  },
  {
   "cell_type": "code",
   "execution_count": 37,
   "id": "be57210d",
   "metadata": {},
   "outputs": [],
   "source": [
    "new_model = gensim.models.Word2Vec.load(tmp_path)"
   ]
  },
  {
   "cell_type": "code",
   "execution_count": 38,
   "id": "c73a2ee7",
   "metadata": {},
   "outputs": [
    {
     "data": {
      "text/plain": [
       "<gensim.models.word2vec.Word2Vec at 0x7f2f5d7206a0>"
      ]
     },
     "execution_count": 38,
     "metadata": {},
     "output_type": "execute_result"
    }
   ],
   "source": [
    "new_model"
   ]
  },
  {
   "cell_type": "code",
   "execution_count": 39,
   "id": "97659a38",
   "metadata": {},
   "outputs": [
    {
     "data": {
      "text/plain": [
       "'영화'"
      ]
     },
     "execution_count": 39,
     "metadata": {},
     "output_type": "execute_result"
    }
   ],
   "source": [
    "new_model.wv.doesnt_match(['영화','포스터','곰'])"
   ]
  },
  {
   "cell_type": "markdown",
   "id": "c9e7498c",
   "metadata": {},
   "source": [
    "### gensim  모델 저장방법 2"
   ]
  },
  {
   "cell_type": "code",
   "execution_count": 40,
   "id": "2e76cc4c",
   "metadata": {},
   "outputs": [],
   "source": [
    "from gensim.models import keyedvectors"
   ]
  },
  {
   "cell_type": "code",
   "execution_count": 41,
   "id": "2052d4a5",
   "metadata": {},
   "outputs": [],
   "source": [
    "w2v_model.wv.save_word2vec_format('naver_w2v') #모델 저장"
   ]
  },
  {
   "cell_type": "code",
   "execution_count": 42,
   "id": "bd5c7d82",
   "metadata": {},
   "outputs": [],
   "source": [
    "loaded_model= keyedvectors.load_word2vec_format('naver_w2v')"
   ]
  },
  {
   "cell_type": "code",
   "execution_count": 45,
   "id": "0f3575c0",
   "metadata": {},
   "outputs": [
    {
     "data": {
      "text/plain": [
       "'영화'"
      ]
     },
     "execution_count": 45,
     "metadata": {},
     "output_type": "execute_result"
    }
   ],
   "source": [
    "loaded_model.doesnt_match(['영화','포스터','곰']) ## wv모듈 없이 돌아감"
   ]
  }
 ],
 "metadata": {
  "kernelspec": {
   "display_name": "Python 3 (ipykernel)",
   "language": "python",
   "name": "python3"
  },
  "language_info": {
   "codemirror_mode": {
    "name": "ipython",
    "version": 3
   },
   "file_extension": ".py",
   "mimetype": "text/x-python",
   "name": "python",
   "nbconvert_exporter": "python",
   "pygments_lexer": "ipython3",
   "version": "3.10.10"
  }
 },
 "nbformat": 4,
 "nbformat_minor": 5
}
