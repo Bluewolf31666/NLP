{
 "cells": [
  {
   "cell_type": "markdown",
   "id": "df6ccddf",
   "metadata": {},
   "source": [
    "### 토크나이저 만들기\n",
    "* 토크나이저를 사용하는 곳\n",
    "   - 자연어\n",
    "   - 시퀀스 데이터 적용 가능\n",
    "\n",
    "* 토크나이저가 필요한 상황\n",
    "    - 우리의 데이터에 적용할수 있는 토크나이저가 필요함\n",
    "    - 예시) 로그 분석\n",
    "    - 학습 시작/ 학습 중지/ 학습 끝/ 볼륨 조절/...\n",
    "    - 1단계 : 데이터를 전환(한글 ->영어/ 영어단어가 긴경우(study_start) -> 코드화(A)\n",
    "        - nltk를 적용한다면?, 'study_start-study_end' -> 'study'. 'start' 'study', 'end'\n",
    "        - 따로 따로 토크나이징 해야함"
   ]
  },
  {
   "cell_type": "markdown",
   "id": "7e7603f2",
   "metadata": {},
   "source": [
    "### 기본토크나이저 만들기 - 기초\n",
    "* 공백으로 분리되는 토크나이저 만들기\n",
    "* 반드시 지켜줘야 할 부분:\n",
    "    - 최종 리턴은 꼭 리스트 타입으로 해야한다\n",
    "    - parameter는 data(텍스트)만 사용\n",
    "    "
   ]
  },
  {
   "cell_type": "code",
   "execution_count": 1,
   "id": "30eb83aa",
   "metadata": {},
   "outputs": [],
   "source": [
    "import os\n",
    "import re\n",
    "import pandas as pd"
   ]
  },
  {
   "cell_type": "code",
   "execution_count": 2,
   "id": "67513bd6",
   "metadata": {},
   "outputs": [
    {
     "name": "stdout",
     "output_type": "stream",
     "text": [
      "\u001b[33mWARNING: The directory '/home/jovyan/.cache/pip' or its parent directory is not owned or is not writable by the current user. The cache has been disabled. Check the permissions and owner of that directory. If executing pip with sudo, you should use sudo's -H flag.\u001b[0m\u001b[33m\n",
      "\u001b[0mRequirement already satisfied: tokenizers in /opt/conda/lib/python3.10/site-packages (0.13.3)\n",
      "\u001b[33mWARNING: Running pip as the 'root' user can result in broken permissions and conflicting behaviour with the system package manager. It is recommended to use a virtual environment instead: https://pip.pypa.io/warnings/venv\u001b[0m\u001b[33m\n",
      "\u001b[0m"
     ]
    }
   ],
   "source": [
    "!pip install tokenizers"
   ]
  },
  {
   "cell_type": "code",
   "execution_count": 3,
   "id": "b2f13c3d",
   "metadata": {},
   "outputs": [],
   "source": [
    "def basicTokenizer(data : str):\n",
    "    return data.split(' ')"
   ]
  },
  {
   "cell_type": "code",
   "execution_count": 4,
   "id": "2b59a059",
   "metadata": {},
   "outputs": [
    {
     "data": {
      "text/plain": [
       "['나는', '너구리가', '아니야.', '라쿤이라고!']"
      ]
     },
     "execution_count": 4,
     "metadata": {},
     "output_type": "execute_result"
    }
   ],
   "source": [
    "basicTokenizer('나는 너구리가 아니야. 라쿤이라고!')"
   ]
  },
  {
   "cell_type": "markdown",
   "id": "63f5da44",
   "metadata": {},
   "source": [
    "### 정규표현식으로 만들기"
   ]
  },
  {
   "cell_type": "code",
   "execution_count": 5,
   "id": "37769383",
   "metadata": {},
   "outputs": [],
   "source": [
    "from nltk.tokenize import RegexpTokenizer"
   ]
  },
  {
   "cell_type": "code",
   "execution_count": 6,
   "id": "33e1b7a8",
   "metadata": {},
   "outputs": [],
   "source": [
    "retokenizer = RegexpTokenizer(\"[\\w]+\")"
   ]
  },
  {
   "cell_type": "code",
   "execution_count": 7,
   "id": "bdafd556",
   "metadata": {},
   "outputs": [],
   "source": [
    "sample_data=\"\"\"\n",
    "손님 여러분 안녕하십니까? 우리열차는 서울행 고속열차입니다. 오늘도 빠르고 편안한 고속철도를 이용해주셔서 감사합니다.\n",
    "저희 승무원은 손님 여러분께서 즐겁고 편안하게 여행할 수 있도록 정성을 다하겠습니다. 감사합니다.\n",
    "\"\"\""
   ]
  },
  {
   "cell_type": "code",
   "execution_count": 8,
   "id": "b5874794",
   "metadata": {},
   "outputs": [
    {
     "name": "stdout",
     "output_type": "stream",
     "text": [
      "['손님', '여러분', '안녕하십니까', '우리열차는', '서울행', '고속열차입니다', '오늘도', '빠르고', '편안한', '고속철도를', '이용해주셔서', '감사합니다', '저희', '승무원은', '손님', '여러분께서', '즐겁고', '편안하게', '여행할', '수', '있도록', '정성을', '다하겠습니다', '감사합니다']\n"
     ]
    }
   ],
   "source": [
    "print(retokenizer.tokenize(sample_data))"
   ]
  },
  {
   "cell_type": "markdown",
   "id": "1a02e9fc",
   "metadata": {},
   "source": [
    "### 문장단위로 나눌수 있는 정규표현식으로 만들고, 적용해보기"
   ]
  },
  {
   "cell_type": "code",
   "execution_count": 9,
   "id": "bae0ca7c",
   "metadata": {},
   "outputs": [],
   "source": [
    "def customRegexp(data):\n",
    "    pattern='[\\,\\.!?\\n]'\n",
    "    rs=re.split(pattern, data, maxsplit=0)\n",
    "    return rs"
   ]
  },
  {
   "cell_type": "code",
   "execution_count": 10,
   "id": "a4b56423",
   "metadata": {},
   "outputs": [
    {
     "data": {
      "text/plain": [
       "['',\n",
       " '손님 여러분 안녕하십니까',\n",
       " ' 우리열차는 서울행 고속열차입니다',\n",
       " ' 오늘도 빠르고 편안한 고속철도를 이용해주셔서 감사합니다',\n",
       " '',\n",
       " '저희 승무원은 손님 여러분께서 즐겁고 편안하게 여행할 수 있도록 정성을 다하겠습니다',\n",
       " ' 감사합니다',\n",
       " '',\n",
       " '']"
      ]
     },
     "execution_count": 10,
     "metadata": {},
     "output_type": "execute_result"
    }
   ],
   "source": [
    "customRegexp(sample_data)"
   ]
  },
  {
   "cell_type": "code",
   "execution_count": 11,
   "id": "9b920526",
   "metadata": {},
   "outputs": [],
   "source": [
    "re_rs = customRegexp(sample_data)"
   ]
  },
  {
   "cell_type": "code",
   "execution_count": 12,
   "id": "d8d15c72",
   "metadata": {},
   "outputs": [],
   "source": [
    "re_rs= [rs_unit.strip() for rs_unit in re_rs if len(rs_unit.strip())>1]"
   ]
  },
  {
   "cell_type": "code",
   "execution_count": 13,
   "id": "4dcf542e",
   "metadata": {},
   "outputs": [
    {
     "data": {
      "text/plain": [
       "['손님 여러분 안녕하십니까',\n",
       " '우리열차는 서울행 고속열차입니다',\n",
       " '오늘도 빠르고 편안한 고속철도를 이용해주셔서 감사합니다',\n",
       " '저희 승무원은 손님 여러분께서 즐겁고 편안하게 여행할 수 있도록 정성을 다하겠습니다',\n",
       " '감사합니다']"
      ]
     },
     "execution_count": 13,
     "metadata": {},
     "output_type": "execute_result"
    }
   ],
   "source": [
    "re_rs"
   ]
  },
  {
   "cell_type": "code",
   "execution_count": 14,
   "id": "a71110cc",
   "metadata": {},
   "outputs": [],
   "source": [
    "def customRegexp(data):\n",
    "    pattern='[\\,\\.!?\\n]'\n",
    "    rs=re.split(pattern, data, maxsplit=0)\n",
    "    f_rs = [rs_unit.strip() for rs_unit in rs if len(rs_unit.strip())>1]\n",
    "    return f_rs"
   ]
  },
  {
   "cell_type": "code",
   "execution_count": 15,
   "id": "c5529a61",
   "metadata": {},
   "outputs": [
    {
     "data": {
      "text/plain": [
       "['손님 여러분 안녕하십니까',\n",
       " '우리열차는 서울행 고속열차입니다',\n",
       " '오늘도 빠르고 편안한 고속철도를 이용해주셔서 감사합니다',\n",
       " '저희 승무원은 손님 여러분께서 즐겁고 편안하게 여행할 수 있도록 정성을 다하겠습니다',\n",
       " '감사합니다']"
      ]
     },
     "execution_count": 15,
     "metadata": {},
     "output_type": "execute_result"
    }
   ],
   "source": [
    "customRegexp(sample_data)"
   ]
  },
  {
   "cell_type": "markdown",
   "id": "55493500",
   "metadata": {},
   "source": [
    "### re.split(maxsplit=)\n",
    " - 최대 몇번까지 나누눌 것인지 \n",
    " - 이값이 만약 0이다. 모든 문자열을 나눠줌\n",
    " - 이값이 0보다 크면, 그횟수만큼 난누고, 남은 문자열은 그대로 반환\n",
    " - 단 읍수는 않됨"
   ]
  },
  {
   "cell_type": "code",
   "execution_count": 16,
   "id": "e475c462",
   "metadata": {},
   "outputs": [],
   "source": [
    "def customRegexp_limit3(data):\n",
    "    pattern='[\\,\\.!?\\n]'\n",
    "    rs=re.split(pattern, data, maxsplit=3)\n",
    "    f_rs = [rs_unit.strip() for rs_unit in rs if len(rs_unit.strip())>1]\n",
    "    return f_rs"
   ]
  },
  {
   "cell_type": "code",
   "execution_count": 17,
   "id": "3f3e759e",
   "metadata": {},
   "outputs": [
    {
     "data": {
      "text/plain": [
       "['손님 여러분 안녕하십니까',\n",
       " '우리열차는 서울행 고속열차입니다',\n",
       " '오늘도 빠르고 편안한 고속철도를 이용해주셔서 감사합니다.\\n저희 승무원은 손님 여러분께서 즐겁고 편안하게 여행할 수 있도록 정성을 다하겠습니다. 감사합니다.']"
      ]
     },
     "execution_count": 17,
     "metadata": {},
     "output_type": "execute_result"
    }
   ],
   "source": [
    "customRegexp_limit3(sample_data)"
   ]
  },
  {
   "cell_type": "markdown",
   "id": "b3df970b",
   "metadata": {},
   "source": [
    "### 데이터 프레임으로 최종결과를 넣을떄, \n"
   ]
  },
  {
   "cell_type": "code",
   "execution_count": 18,
   "id": "f871836d",
   "metadata": {},
   "outputs": [
    {
     "data": {
      "text/html": [
       "<div>\n",
       "<style scoped>\n",
       "    .dataframe tbody tr th:only-of-type {\n",
       "        vertical-align: middle;\n",
       "    }\n",
       "\n",
       "    .dataframe tbody tr th {\n",
       "        vertical-align: top;\n",
       "    }\n",
       "\n",
       "    .dataframe thead th {\n",
       "        text-align: right;\n",
       "    }\n",
       "</style>\n",
       "<table border=\"1\" class=\"dataframe\">\n",
       "  <thead>\n",
       "    <tr style=\"text-align: right;\">\n",
       "      <th></th>\n",
       "      <th>sen1</th>\n",
       "      <th>sen2</th>\n",
       "      <th>sen3</th>\n",
       "    </tr>\n",
       "  </thead>\n",
       "  <tbody>\n",
       "    <tr>\n",
       "      <th>0</th>\n",
       "      <td>손님 여러분 안녕하십니까</td>\n",
       "      <td>우리열차는 서울행 고속열차입니다</td>\n",
       "      <td>오늘도 빠르고 편안한 고속철도를 이용해주셔서 감사합니다.\\n저희 승무원은 손님 여러...</td>\n",
       "    </tr>\n",
       "  </tbody>\n",
       "</table>\n",
       "</div>"
      ],
      "text/plain": [
       "            sen1               sen2  \\\n",
       "0  손님 여러분 안녕하십니까  우리열차는 서울행 고속열차입니다   \n",
       "\n",
       "                                                sen3  \n",
       "0  오늘도 빠르고 편안한 고속철도를 이용해주셔서 감사합니다.\\n저희 승무원은 손님 여러...  "
      ]
     },
     "execution_count": 18,
     "metadata": {},
     "output_type": "execute_result"
    }
   ],
   "source": [
    "tmp_df= pd.DataFrame(customRegexp_limit3(sample_data))\n",
    "tmp_df_T= tmp_df.T\n",
    "tmp_df_T.columns = ['sen1','sen2','sen3']\n",
    "tmp_df_T\n"
   ]
  },
  {
   "cell_type": "markdown",
   "id": "6ff58121",
   "metadata": {},
   "source": [
    "### BPE 토크나이저를 훈련시키기\n",
    "\n",
    "* 어휘 집합 (vocab.josn)과 병합 우선순위(merge.txt)가 있어야 토큰화가 가능하다"
   ]
  },
  {
   "cell_type": "code",
   "execution_count": 19,
   "id": "e319e262",
   "metadata": {},
   "outputs": [],
   "source": [
    "train_df= pd.read_csv('./ratings_train.csv')\n",
    "test_df=pd.read_csv('./ratings_test.csv')"
   ]
  },
  {
   "cell_type": "code",
   "execution_count": 20,
   "id": "e536047d",
   "metadata": {},
   "outputs": [
    {
     "name": "stdout",
     "output_type": "stream",
     "text": [
      "<class 'pandas.core.frame.DataFrame'>\n",
      "RangeIndex: 150000 entries, 0 to 149999\n",
      "Data columns (total 4 columns):\n",
      " #   Column      Non-Null Count   Dtype \n",
      "---  ------      --------------   ----- \n",
      " 0   Unnamed: 0  150000 non-null  int64 \n",
      " 1   id          150000 non-null  int64 \n",
      " 2   document    149995 non-null  object\n",
      " 3   label       150000 non-null  int64 \n",
      "dtypes: int64(3), object(1)\n",
      "memory usage: 4.6+ MB\n"
     ]
    }
   ],
   "source": [
    "train_df.info()"
   ]
  },
  {
   "cell_type": "code",
   "execution_count": 21,
   "id": "32c28f0c",
   "metadata": {},
   "outputs": [],
   "source": [
    "train_df.dropna(inplace=True)"
   ]
  },
  {
   "cell_type": "code",
   "execution_count": 22,
   "id": "1db7b2a1",
   "metadata": {},
   "outputs": [
    {
     "name": "stdout",
     "output_type": "stream",
     "text": [
      "<class 'pandas.core.frame.DataFrame'>\n",
      "RangeIndex: 50000 entries, 0 to 49999\n",
      "Data columns (total 4 columns):\n",
      " #   Column      Non-Null Count  Dtype \n",
      "---  ------      --------------  ----- \n",
      " 0   Unnamed: 0  50000 non-null  int64 \n",
      " 1   id          50000 non-null  int64 \n",
      " 2   document    49997 non-null  object\n",
      " 3   label       50000 non-null  int64 \n",
      "dtypes: int64(3), object(1)\n",
      "memory usage: 1.5+ MB\n"
     ]
    }
   ],
   "source": [
    "test_df.info()"
   ]
  },
  {
   "cell_type": "code",
   "execution_count": 23,
   "id": "72b5de7d",
   "metadata": {},
   "outputs": [],
   "source": [
    "test_df.dropna(inplace=True)"
   ]
  },
  {
   "cell_type": "code",
   "execution_count": 24,
   "id": "29ed2057",
   "metadata": {},
   "outputs": [],
   "source": [
    "train_file_nm='bpe_ratings_train.txt'"
   ]
  },
  {
   "cell_type": "code",
   "execution_count": 25,
   "id": "62893255",
   "metadata": {},
   "outputs": [],
   "source": [
    "text_file=open(train_file_nm, 'w')\n",
    "\n",
    "corp, stri_train_add= set(), str()\n",
    "\n",
    "train_series= train_df['document'].drop_duplicates()"
   ]
  },
  {
   "cell_type": "code",
   "execution_count": 26,
   "id": "bab11eb9",
   "metadata": {},
   "outputs": [
    {
     "name": "stdout",
     "output_type": "stream",
     "text": [
      "0                                  아 더빙.. 진짜 짜증나네요 목소리\n",
      "1                    흠...포스터보고 초딩영화줄....오버연기조차 가볍지 않구나\n",
      "2                                    너무재밓었다그래서보는것을추천한다\n",
      "3                        교도소 이야기구먼 ..솔직히 재미는 없다..평점 조정\n",
      "4    사이몬페그의 익살스런 연기가 돋보였던 영화!스파이더맨에서 늙어보이기만 했던 커스틴 ...\n",
      "Name: document, dtype: object\n"
     ]
    }
   ],
   "source": [
    "## 훈련 데이터로 사용하기 위해서는 str로 변환해야 함\n",
    "print(train_series[:5])"
   ]
  },
  {
   "cell_type": "code",
   "execution_count": 27,
   "id": "f03811c2",
   "metadata": {},
   "outputs": [],
   "source": [
    "train_str = \"\\n\".join(train_series.tolist())\n",
    "text_file.write(train_str)\n",
    "text_file.close()\n",
    "# 말뭉치\n",
    "train_list=train_str.split(' ')\n",
    "train_set=set(train_list)## 말뭉치에는 중복되는 문자와 단어가 없도록함"
   ]
  },
  {
   "cell_type": "code",
   "execution_count": 28,
   "id": "4cd803af",
   "metadata": {},
   "outputs": [],
   "source": [
    "corp.update(train_set)"
   ]
  },
  {
   "cell_type": "code",
   "execution_count": 29,
   "id": "929dbf5c",
   "metadata": {},
   "outputs": [
    {
     "ename": "SyntaxError",
     "evalue": "invalid syntax (3410852924.py, line 2)",
     "output_type": "error",
     "traceback": [
      "\u001b[0;36m  Cell \u001b[0;32mIn[29], line 2\u001b[0;36m\u001b[0m\n\u001b[0;31m    corp_tmp=set() : str_train_add_tmp= str()\u001b[0m\n\u001b[0m                   ^\u001b[0m\n\u001b[0;31mSyntaxError\u001b[0m\u001b[0;31m:\u001b[0m invalid syntax\n"
     ]
    }
   ],
   "source": [
    "corp_tmp, str_train_add_tmp = set(), str()\n",
    "corp_tmp=set() : str_train_add_tmp= str()"
   ]
  },
  {
   "cell_type": "code",
   "execution_count": 30,
   "id": "e2eee3d3",
   "metadata": {},
   "outputs": [
    {
     "name": "stdout",
     "output_type": "stream",
     "text": [
      "0                                                  굳 ㅋ\n",
      "1                                 GDNTOPCLASSINTHECLUB\n",
      "2               뭐야 이 평점들은.... 나쁘진 않지만 10점 짜리는 더더욱 아니잖아\n",
      "3                     지루하지는 않은데 완전 막장임... 돈주고 보기에는....\n",
      "4    3D만 아니었어도 별 다섯 개 줬을텐데.. 왜 3D로 나와서 제 심기를 불편하게 하죠??\n",
      "Name: document, dtype: object\n"
     ]
    }
   ],
   "source": [
    "test_file_nm ='bpe_ratings_test.txt'\n",
    "test_file=open(test_file_nm,'w')\n",
    "test_series= test_df['document'].drop_duplicates()\n",
    "print(test_series[:5])"
   ]
  },
  {
   "cell_type": "code",
   "execution_count": 31,
   "id": "db0ace58",
   "metadata": {},
   "outputs": [],
   "source": [
    "test_str=\"\\n\".join(test_series.tolist())\n",
    "test_file.write(test_str)\n",
    "test_file.close()"
   ]
  },
  {
   "cell_type": "code",
   "execution_count": 32,
   "id": "c6a050b4",
   "metadata": {},
   "outputs": [],
   "source": [
    "test_list= test_str.split(' ')\n",
    "test_set= set(test_list)\n",
    "test_corp=set()\n",
    "test_corp.update(test_set)"
   ]
  },
  {
   "cell_type": "code",
   "execution_count": 33,
   "id": "fe42117e",
   "metadata": {},
   "outputs": [],
   "source": [
    "from tokenizers import CharBPETokenizer"
   ]
  },
  {
   "cell_type": "code",
   "execution_count": 84,
   "id": "d1b554b5",
   "metadata": {},
   "outputs": [
    {
     "name": "stdout",
     "output_type": "stream",
     "text": [
      "\n",
      "\n",
      "\n"
     ]
    }
   ],
   "source": [
    "### 토크나이저 훈련시키기\n",
    "\n",
    "vocab= 10000\n",
    "#train_file_nm\n",
    "bpe_tokenizer = CharBPETokenizer()\n",
    "bpe_tokenizer.train(\n",
    "    files= [train_file_nm,test_file_nm],\n",
    "    vocab_size=vocab,\n",
    "    special_tokens = [\"<unk>\"]\n",
    ")"
   ]
  },
  {
   "cell_type": "code",
   "execution_count": 85,
   "id": "fed99511",
   "metadata": {},
   "outputs": [
    {
     "data": {
      "text/plain": [
       "['./mode_data/vocab.json', './mode_data/merges.txt']"
      ]
     },
     "execution_count": 85,
     "metadata": {},
     "output_type": "execute_result"
    }
   ],
   "source": [
    "bpe_tokenizer.save_model('./mode_data')"
   ]
  },
  {
   "cell_type": "code",
   "execution_count": 86,
   "id": "d223cdb8",
   "metadata": {},
   "outputs": [],
   "source": [
    "bpe_tokenizer.save('./mode_data/bpe_tokenizer.json')"
   ]
  },
  {
   "cell_type": "markdown",
   "id": "c560a950",
   "metadata": {},
   "source": [
    "### 훈련한 bpe 토크나이저로 토큰화하기"
   ]
  },
  {
   "cell_type": "code",
   "execution_count": 37,
   "id": "60f58711",
   "metadata": {},
   "outputs": [],
   "source": [
    "from tokenizers import Tokenizer"
   ]
  },
  {
   "cell_type": "code",
   "execution_count": 38,
   "id": "25fb06de",
   "metadata": {},
   "outputs": [],
   "source": [
    "bpe_tokenizer_pretrained= Tokenizer.from_file(\"./mode_data/bpe_tokenizer.json\")"
   ]
  },
  {
   "cell_type": "code",
   "execution_count": 39,
   "id": "ebc75d97",
   "metadata": {},
   "outputs": [],
   "source": [
    "global bpe_tokenizer_pretrained"
   ]
  },
  {
   "cell_type": "code",
   "execution_count": 40,
   "id": "381eb8b8",
   "metadata": {},
   "outputs": [],
   "source": [
    "def usingBPETokenizer(data) -> list:\n",
    "    return bpe_tokenizer_pretrained.encode(data).tokens"
   ]
  },
  {
   "cell_type": "code",
   "execution_count": 41,
   "id": "0b7e83d2",
   "metadata": {},
   "outputs": [],
   "source": [
    "sample_str=train_df['document'][0]"
   ]
  },
  {
   "cell_type": "code",
   "execution_count": 42,
   "id": "690ea10c",
   "metadata": {},
   "outputs": [
    {
     "data": {
      "text/plain": [
       "['아</w>', '더빙</w>', '.</w>', '.</w>', '진짜</w>', '짜증나', '네요</w>', '목소리</w>']"
      ]
     },
     "execution_count": 42,
     "metadata": {},
     "output_type": "execute_result"
    }
   ],
   "source": [
    "usingBPETokenizer(sample_str)"
   ]
  },
  {
   "cell_type": "markdown",
   "id": "8b56360f",
   "metadata": {},
   "source": [
    "### 워드 피스 토크나이저 만들기"
   ]
  },
  {
   "cell_type": "code",
   "execution_count": 43,
   "id": "ce2556d4",
   "metadata": {},
   "outputs": [],
   "source": [
    "from tokenizers import BertWordPieceTokenizer"
   ]
  },
  {
   "cell_type": "code",
   "execution_count": 44,
   "id": "7b836714",
   "metadata": {},
   "outputs": [
    {
     "name": "stdout",
     "output_type": "stream",
     "text": [
      "\n",
      "\n",
      "\n"
     ]
    }
   ],
   "source": [
    "wordpiece_tokenizer = BertWordPieceTokenizer(lowercase=False)\n",
    "wordpiece_tokenizer.train(\n",
    "    files=[train_file_nm,test_file_nm],\n",
    "    vocab_size=vocab\n",
    ")"
   ]
  },
  {
   "cell_type": "code",
   "execution_count": 45,
   "id": "84848957",
   "metadata": {},
   "outputs": [
    {
     "data": {
      "text/plain": [
       "['./mode_data/vocab.txt']"
      ]
     },
     "execution_count": 45,
     "metadata": {},
     "output_type": "execute_result"
    }
   ],
   "source": [
    "wordpiece_tokenizer.save_model('./mode_data')"
   ]
  },
  {
   "cell_type": "code",
   "execution_count": 46,
   "id": "3970736c",
   "metadata": {},
   "outputs": [],
   "source": [
    "wordpiece_tokenizer.save('./mode_data/wp_tokenizer.josn')"
   ]
  },
  {
   "cell_type": "markdown",
   "id": "fbf3c248",
   "metadata": {},
   "source": [
    "### 워드피스 토크나이저 적용하기"
   ]
  },
  {
   "cell_type": "code",
   "execution_count": 48,
   "id": "e695f8bd",
   "metadata": {},
   "outputs": [],
   "source": [
    "wp_tokenizer_pretrained = Tokenizer.from_file('./mode_data/wp_tokenizer.josn')"
   ]
  },
  {
   "cell_type": "code",
   "execution_count": 49,
   "id": "f5aa3c9a",
   "metadata": {},
   "outputs": [],
   "source": [
    "global wp_tokenizer_pretrained"
   ]
  },
  {
   "cell_type": "code",
   "execution_count": 50,
   "id": "e0a3050e",
   "metadata": {},
   "outputs": [],
   "source": [
    "def usingWordPieceTokenizer(data) -> list:\n",
    "    return wp_tokenizer_pretrained.encode(data).tokens"
   ]
  },
  {
   "cell_type": "code",
   "execution_count": 51,
   "id": "e3fa9333",
   "metadata": {},
   "outputs": [
    {
     "data": {
      "text/plain": [
       "['아', '더빙', '.', '.', '진짜', '짜증나', '##네요', '목소리']"
      ]
     },
     "execution_count": 51,
     "metadata": {},
     "output_type": "execute_result"
    }
   ],
   "source": [
    "usingWordPieceTokenizer(sample_str)"
   ]
  },
  {
   "cell_type": "code",
   "execution_count": 52,
   "id": "05354341",
   "metadata": {},
   "outputs": [
    {
     "data": {
      "text/plain": [
       "32766    바라고 원하던 판타지 상상. 드래곤+ 바이킹+ 하늘 그리고 중국풍에 개성이 너무 황...\n",
       "49899    이게 왜 평점이 높은지 이해불가... 날라리 30대남자에게 철없는 어린마음에 몸까지...\n",
       "10760                           소녀에 대한 연민과 겉잡을수 없는 집착의 딜레마\n",
       "22441                                 평점가지고 장난금지... 생애 최악!\n",
       "22831    사람 사는 곳은 어디나 똑같다. 미국이나 한국이나 시골이나 도시나 부자나 가난한 자...\n",
       "36569                         초반에 일었던 흥미를 굴곡 있게 변주시키지 못한다.\n",
       "47993                                               불쌍하다..\n",
       "4467                    일단 화려한 영상이 수준급,배우들의 연기또한 수준급..굿이다.\n",
       "15994                                    명작 다시봐도 또 보고싶은 영화\n",
       "13136    주인공부터 대통령딸, 주변인 모두 멍청한 짓만 골라하다가 수조 수천억원의 우주선을 ...\n",
       "Name: document, dtype: object"
      ]
     },
     "execution_count": 52,
     "metadata": {},
     "output_type": "execute_result"
    }
   ],
   "source": [
    "test_df['document'].sample(10)"
   ]
  },
  {
   "cell_type": "code",
   "execution_count": 53,
   "id": "68ebaace",
   "metadata": {},
   "outputs": [
    {
     "name": "stdout",
     "output_type": "stream",
     "text": [
      "['바', '라고</w>', '원', '하던</w>', '판타지</w>', '상', '상</w>', '.</w>', '드래', '곤</w>', '+</w>', '바이', '킹</w>', '+</w>', '하', '늘</w>', '그리고</w>', '중국', '풍', '에</w>', '개', '성이</w>', '너무</w>', '황', '홀', '하다</w>', '.</w>']\n",
      "['바라', '##고', '원', '##하던', '판타지', '상상', '.', '드래곤', '+', '바이', '##킹', '+', '하늘', '그리고', '중국', '##풍', '##에', '개성', '##이', '너무', '황', '##홀', '##하다', '.']\n"
     ]
    }
   ],
   "source": [
    "print(usingBPETokenizer(test_df['document'].loc[32766]))\n",
    "print(usingWordPieceTokenizer(test_df['document'].loc[32766]))"
   ]
  },
  {
   "cell_type": "code",
   "execution_count": null,
   "id": "3428e38f",
   "metadata": {},
   "outputs": [],
   "source": []
  }
 ],
 "metadata": {
  "kernelspec": {
   "display_name": "Python 3 (ipykernel)",
   "language": "python",
   "name": "python3"
  },
  "language_info": {
   "codemirror_mode": {
    "name": "ipython",
    "version": 3
   },
   "file_extension": ".py",
   "mimetype": "text/x-python",
   "name": "python",
   "nbconvert_exporter": "python",
   "pygments_lexer": "ipython3",
   "version": "3.10.10"
  }
 },
 "nbformat": 4,
 "nbformat_minor": 5
}
