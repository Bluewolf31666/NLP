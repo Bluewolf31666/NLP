{
 "cells": [
  {
   "cell_type": "code",
   "execution_count": 1,
   "id": "2501a451",
   "metadata": {},
   "outputs": [],
   "source": [
    "## 정규표현식으로 데이터를 제거, 변환\n",
    "## 판다스 라이브러리 에서 정규표현식 사용해서 제거"
   ]
  },
  {
   "cell_type": "code",
   "execution_count": 3,
   "id": "c7a1d137",
   "metadata": {},
   "outputs": [],
   "source": [
    "import re\n",
    "import pandas as pd"
   ]
  },
  {
   "cell_type": "code",
   "execution_count": 4,
   "id": "2cdd89b6",
   "metadata": {},
   "outputs": [],
   "source": [
    "train_data = pd.read_csv('ratings_train.csv')"
   ]
  },
  {
   "cell_type": "code",
   "execution_count": 5,
   "id": "2705878a",
   "metadata": {},
   "outputs": [],
   "source": [
    "## 파이썬 Re 모듈 사용하기\n"
   ]
  },
  {
   "cell_type": "code",
   "execution_count": 6,
   "id": "0b002a18",
   "metadata": {},
   "outputs": [],
   "source": [
    "phone_number=\"\"\"010-3456-3234 02-3459-3424 032-3242-1533\"\"\"\n",
    "str_sample='''abcd apple banana'''"
   ]
  },
  {
   "cell_type": "code",
   "execution_count": 7,
   "id": "17479876",
   "metadata": {},
   "outputs": [],
   "source": [
    "pn_p=re.compile('([0-9]+)-([0-9]+)-([0-9]+)')\n",
    "s_p_start_a=re.compile('(^a)\\w+')\n",
    "s_p_end_a=re.compile('\\w+(a$)')\n",
    "s_p_inside_pn= re.compile('\\w+[pn]\\w+')"
   ]
  },
  {
   "cell_type": "markdown",
   "id": "75d5683b",
   "metadata": {},
   "source": [
    "## match\n",
    "* 문자열의 처음부터 정규식과 매치되는지 조사한다\n",
    "* group(): 매치되는 문자열을 리턴\n",
    "* start(): 매치된 문자열의 시작위치를 리턴\n",
    "* end(): 매치된 문자열의  끝 위치를 리턴\n",
    "* span(): 매치된 문자열의 (시작,끝)헤당 하는 위치를 튜플로 리턴한다\n"
   ]
  },
  {
   "cell_type": "code",
   "execution_count": 10,
   "id": "0f2c0a09",
   "metadata": {},
   "outputs": [
    {
     "name": "stdout",
     "output_type": "stream",
     "text": [
      "<re.Match object; span=(0, 13), match='010-3456-3234'>\n"
     ]
    }
   ],
   "source": [
    "print(pn_p.match(phone_number))"
   ]
  },
  {
   "cell_type": "code",
   "execution_count": 11,
   "id": "9a410769",
   "metadata": {},
   "outputs": [
    {
     "name": "stdout",
     "output_type": "stream",
     "text": [
      "010-3456-3234\n",
      "0\n",
      "13\n",
      "(0, 13)\n"
     ]
    }
   ],
   "source": [
    "pn_p_rs=pn_p.match(phone_number)\n",
    "if pn_p_rs:\n",
    "    print(pn_p_rs.group())\n",
    "    print(pn_p_rs.start())\n",
    "    print(pn_p_rs.end())\n",
    "    print(pn_p_rs.span())\n",
    "else:\n",
    "    print(\"일치하는게 없단다\")"
   ]
  },
  {
   "cell_type": "code",
   "execution_count": 18,
   "id": "0239781d",
   "metadata": {},
   "outputs": [
    {
     "data": {
      "text/plain": [
       "'3234'"
      ]
     },
     "execution_count": 18,
     "metadata": {},
     "output_type": "execute_result"
    }
   ],
   "source": [
    "pn_p_rs.group(3)"
   ]
  },
  {
   "cell_type": "code",
   "execution_count": 19,
   "id": "a847b3d4",
   "metadata": {},
   "outputs": [
    {
     "data": {
      "text/plain": [
       "{'first': '010', 'middle': '3456', 'end': '3234'}"
      ]
     },
     "execution_count": 19,
     "metadata": {},
     "output_type": "execute_result"
    }
   ],
   "source": [
    "re.match(\"(?P<first>[0-9]+)-(?P<middle>[0-9]+)-(?P<end>[0-9]+)\",phone_number).groupdict()"
   ]
  },
  {
   "cell_type": "code",
   "execution_count": 20,
   "id": "ff7bc2b9",
   "metadata": {},
   "outputs": [],
   "source": [
    "def patRS(p):\n",
    "    if p:\n",
    "        print(p.group())\n",
    "    else:\n",
    "        print(\"Nope!\")"
   ]
  },
  {
   "cell_type": "code",
   "execution_count": 21,
   "id": "9a45ea80",
   "metadata": {},
   "outputs": [
    {
     "data": {
      "text/plain": [
       "<re.Match object; span=(0, 4), match='abcd'>"
      ]
     },
     "execution_count": 21,
     "metadata": {},
     "output_type": "execute_result"
    }
   ],
   "source": [
    "spsa = s_p_start_a.match(str_sample)\n",
    "spsa"
   ]
  },
  {
   "cell_type": "code",
   "execution_count": 22,
   "id": "56f6cb97",
   "metadata": {},
   "outputs": [
    {
     "name": "stdout",
     "output_type": "stream",
     "text": [
      "abcd\n"
     ]
    }
   ],
   "source": [
    "patRS(spsa)"
   ]
  },
  {
   "cell_type": "code",
   "execution_count": 23,
   "id": "92e36f79",
   "metadata": {},
   "outputs": [],
   "source": [
    "spea = s_p_end_a.match(str_sample)\n",
    "spea"
   ]
  },
  {
   "cell_type": "code",
   "execution_count": 25,
   "id": "e794e463",
   "metadata": {},
   "outputs": [
    {
     "name": "stdout",
     "output_type": "stream",
     "text": [
      "Nope!\n"
     ]
    }
   ],
   "source": [
    "patRS(spea)"
   ]
  },
  {
   "cell_type": "code",
   "execution_count": 27,
   "id": "d3f97d83",
   "metadata": {},
   "outputs": [],
   "source": [
    "spipn = s_p_inside_pn.match(str_sample)\n",
    "spipn"
   ]
  },
  {
   "cell_type": "code",
   "execution_count": 28,
   "id": "8ecc3198",
   "metadata": {},
   "outputs": [
    {
     "name": "stdout",
     "output_type": "stream",
     "text": [
      "Nope!\n"
     ]
    }
   ],
   "source": [
    "patRS(spipn)"
   ]
  },
  {
   "cell_type": "markdown",
   "id": "696e1a46",
   "metadata": {},
   "source": [
    "## serach 메서드 사용하기\n",
    "* 문자열 전체를 검색하여 정규식과 매치되는지 확인한다"
   ]
  },
  {
   "cell_type": "code",
   "execution_count": 30,
   "id": "2249c34a",
   "metadata": {},
   "outputs": [
    {
     "data": {
      "text/plain": [
       "<re.Match object; span=(0, 13), match='010-3456-3234'>"
      ]
     },
     "execution_count": 30,
     "metadata": {},
     "output_type": "execute_result"
    }
   ],
   "source": [
    "pn_p_rs=pn_p.search(phone_number)\n",
    "pn_p_rs"
   ]
  },
  {
   "cell_type": "code",
   "execution_count": 31,
   "id": "27c51050",
   "metadata": {},
   "outputs": [
    {
     "data": {
      "text/plain": [
       "<re.Match object; span=(5, 10), match='apple'>"
      ]
     },
     "execution_count": 31,
     "metadata": {},
     "output_type": "execute_result"
    }
   ],
   "source": [
    "s_p_inside_pn.search(str_sample)"
   ]
  },
  {
   "cell_type": "code",
   "execution_count": 32,
   "id": "4c048db7",
   "metadata": {},
   "outputs": [
    {
     "data": {
      "text/plain": [
       "<re.Match object; span=(11, 17), match='banana'>"
      ]
     },
     "execution_count": 32,
     "metadata": {},
     "output_type": "execute_result"
    }
   ],
   "source": [
    "s_p_end_a.search(str_sample)"
   ]
  },
  {
   "cell_type": "markdown",
   "id": "41ed59dc",
   "metadata": {},
   "source": [
    "### findall \n",
    "* 패턴을 문자열에서 모두 찾아 리스트로 리턴한다"
   ]
  },
  {
   "cell_type": "code",
   "execution_count": 33,
   "id": "a5f0020e",
   "metadata": {},
   "outputs": [
    {
     "data": {
      "text/plain": [
       "[('010', '3456', '3234'), ('02', '3459', '3424'), ('032', '3242', '1533')]"
      ]
     },
     "execution_count": 33,
     "metadata": {},
     "output_type": "execute_result"
    }
   ],
   "source": [
    "pn_p.findall(phone_number)"
   ]
  },
  {
   "cell_type": "code",
   "execution_count": 34,
   "id": "d83bba42",
   "metadata": {},
   "outputs": [
    {
     "data": {
      "text/plain": [
       "['apple', 'banana']"
      ]
     },
     "execution_count": 34,
     "metadata": {},
     "output_type": "execute_result"
    }
   ],
   "source": [
    "s_p_inside_pn.findall(str_sample)"
   ]
  },
  {
   "cell_type": "markdown",
   "id": "24035f72",
   "metadata": {},
   "source": [
    "### finditer"
   ]
  },
  {
   "cell_type": "code",
   "execution_count": 35,
   "id": "1ef8e0a8",
   "metadata": {},
   "outputs": [
    {
     "data": {
      "text/plain": [
       "<callable_iterator at 0x7f38e979aad0>"
      ]
     },
     "execution_count": 35,
     "metadata": {},
     "output_type": "execute_result"
    }
   ],
   "source": [
    "pn_p_rs=pn_p.finditer(phone_number)\n",
    "pn_p_rs"
   ]
  },
  {
   "cell_type": "code",
   "execution_count": 36,
   "id": "176966e0",
   "metadata": {},
   "outputs": [
    {
     "name": "stdout",
     "output_type": "stream",
     "text": [
      "<re.Match object; span=(0, 13), match='010-3456-3234'>\n",
      "<re.Match object; span=(14, 26), match='02-3459-3424'>\n",
      "<re.Match object; span=(27, 40), match='032-3242-1533'>\n"
     ]
    }
   ],
   "source": [
    "for r in pn_p_rs:\n",
    "    print(r)"
   ]
  },
  {
   "cell_type": "markdown",
   "id": "da494aa1",
   "metadata": {},
   "source": [
    "### sub로 데이터 바꾸기"
   ]
  },
  {
   "cell_type": "code",
   "execution_count": 37,
   "id": "9a248309",
   "metadata": {},
   "outputs": [
    {
     "name": "stdout",
     "output_type": "stream",
     "text": [
      "abcd apple banana\n"
     ]
    },
    {
     "data": {
      "text/plain": [
       "'zzz apple banana'"
      ]
     },
     "execution_count": 37,
     "metadata": {},
     "output_type": "execute_result"
    }
   ],
   "source": [
    "print(str_sample)\n",
    "s_p_start_a.sub('zzz',str_sample)"
   ]
  },
  {
   "cell_type": "markdown",
   "id": "ad315d94",
   "metadata": {},
   "source": [
    "### pandas 정규표현식"
   ]
  },
  {
   "cell_type": "code",
   "execution_count": 38,
   "id": "cb53896d",
   "metadata": {},
   "outputs": [
    {
     "data": {
      "text/html": [
       "<div>\n",
       "<style scoped>\n",
       "    .dataframe tbody tr th:only-of-type {\n",
       "        vertical-align: middle;\n",
       "    }\n",
       "\n",
       "    .dataframe tbody tr th {\n",
       "        vertical-align: top;\n",
       "    }\n",
       "\n",
       "    .dataframe thead th {\n",
       "        text-align: right;\n",
       "    }\n",
       "</style>\n",
       "<table border=\"1\" class=\"dataframe\">\n",
       "  <thead>\n",
       "    <tr style=\"text-align: right;\">\n",
       "      <th></th>\n",
       "      <th>0</th>\n",
       "    </tr>\n",
       "  </thead>\n",
       "  <tbody>\n",
       "    <tr>\n",
       "      <th>0</th>\n",
       "      <td>010-3456-3234</td>\n",
       "    </tr>\n",
       "    <tr>\n",
       "      <th>1</th>\n",
       "      <td>02-3459-3424</td>\n",
       "    </tr>\n",
       "    <tr>\n",
       "      <th>2</th>\n",
       "      <td>032-3242-1533</td>\n",
       "    </tr>\n",
       "  </tbody>\n",
       "</table>\n",
       "</div>"
      ],
      "text/plain": [
       "               0\n",
       "0  010-3456-3234\n",
       "1   02-3459-3424\n",
       "2  032-3242-1533"
      ]
     },
     "execution_count": 38,
     "metadata": {},
     "output_type": "execute_result"
    }
   ],
   "source": [
    "phone_number_df=pd.DataFrame(data=phone_number.split(' '))\n",
    "str_sample_df = pd.DataFrame(data=str_sample.split(' '))\n",
    "phone_number_df"
   ]
  },
  {
   "cell_type": "code",
   "execution_count": 39,
   "id": "2f39da35",
   "metadata": {},
   "outputs": [
    {
     "data": {
      "text/plain": [
       "0     00-3456-3234\n",
       "1     02-3459-3424\n",
       "2    032-3242-1533\n",
       "Name: 0, dtype: object"
      ]
     },
     "execution_count": 39,
     "metadata": {},
     "output_type": "execute_result"
    }
   ],
   "source": [
    "phone_number_df[0].str.replace(\"010\",\"00\")"
   ]
  },
  {
   "cell_type": "code",
   "execution_count": 43,
   "id": "da905367",
   "metadata": {},
   "outputs": [
    {
     "name": "stderr",
     "output_type": "stream",
     "text": [
      "/tmp/ipykernel_3645/594732280.py:1: UserWarning: This pattern is interpreted as a regular expression, and has match groups. To actually get the groups, use str.extract.\n",
      "  phone_number_df[0].str.contains(\"([0-9]+)-([0-9]+)-([0-9]+)\", regex=True)\n"
     ]
    },
    {
     "data": {
      "text/plain": [
       "0    True\n",
       "1    True\n",
       "2    True\n",
       "Name: 0, dtype: bool"
      ]
     },
     "execution_count": 43,
     "metadata": {},
     "output_type": "execute_result"
    }
   ],
   "source": [
    "phone_number_df[0].str.contains(\"([0-9]+)-([0-9]+)-([0-9]+)\", regex=True)"
   ]
  },
  {
   "cell_type": "code",
   "execution_count": 45,
   "id": "cf42b59c",
   "metadata": {},
   "outputs": [
    {
     "data": {
      "text/plain": [
       "0    False\n",
       "1     True\n",
       "2     True\n",
       "Name: 0, dtype: bool"
      ]
     },
     "execution_count": 45,
     "metadata": {},
     "output_type": "execute_result"
    }
   ],
   "source": [
    "str_sample_df[0].str.contains('\\w+[pn]\\w+')"
   ]
  },
  {
   "cell_type": "code",
   "execution_count": 47,
   "id": "53ba34e9",
   "metadata": {},
   "outputs": [
    {
     "data": {
      "text/html": [
       "<div>\n",
       "<style scoped>\n",
       "    .dataframe tbody tr th:only-of-type {\n",
       "        vertical-align: middle;\n",
       "    }\n",
       "\n",
       "    .dataframe tbody tr th {\n",
       "        vertical-align: top;\n",
       "    }\n",
       "\n",
       "    .dataframe thead th {\n",
       "        text-align: right;\n",
       "    }\n",
       "</style>\n",
       "<table border=\"1\" class=\"dataframe\">\n",
       "  <thead>\n",
       "    <tr style=\"text-align: right;\">\n",
       "      <th></th>\n",
       "      <th>0</th>\n",
       "      <th>TR</th>\n",
       "    </tr>\n",
       "  </thead>\n",
       "  <tbody>\n",
       "    <tr>\n",
       "      <th>0</th>\n",
       "      <td>abcd</td>\n",
       "      <td>False</td>\n",
       "    </tr>\n",
       "    <tr>\n",
       "      <th>1</th>\n",
       "      <td>apple</td>\n",
       "      <td>True</td>\n",
       "    </tr>\n",
       "    <tr>\n",
       "      <th>2</th>\n",
       "      <td>banana</td>\n",
       "      <td>True</td>\n",
       "    </tr>\n",
       "  </tbody>\n",
       "</table>\n",
       "</div>"
      ],
      "text/plain": [
       "        0     TR\n",
       "0    abcd  False\n",
       "1   apple   True\n",
       "2  banana   True"
      ]
     },
     "execution_count": 47,
     "metadata": {},
     "output_type": "execute_result"
    }
   ],
   "source": [
    "str_sample_df['TR']=str_sample_df[0].str.contains('\\w+[pn]\\w+')\n",
    "str_sample_df"
   ]
  },
  {
   "cell_type": "code",
   "execution_count": 49,
   "id": "ca7fa52a",
   "metadata": {},
   "outputs": [],
   "source": [
    "tmp=str_sample_df[(str_sample_df['TR']==True)][0].tolist()"
   ]
  },
  {
   "cell_type": "code",
   "execution_count": 50,
   "id": "06d2f9ef",
   "metadata": {},
   "outputs": [
    {
     "data": {
      "text/plain": [
       "'apple banana'"
      ]
     },
     "execution_count": 50,
     "metadata": {},
     "output_type": "execute_result"
    }
   ],
   "source": [
    "' '.join(tmp)"
   ]
  },
  {
   "cell_type": "code",
   "execution_count": 51,
   "id": "0172b1c4",
   "metadata": {},
   "outputs": [
    {
     "data": {
      "text/plain": [
       "0    [(010, 3456, 3234)]\n",
       "1     [(02, 3459, 3424)]\n",
       "2    [(032, 3242, 1533)]\n",
       "Name: 0, dtype: object"
      ]
     },
     "execution_count": 51,
     "metadata": {},
     "output_type": "execute_result"
    }
   ],
   "source": [
    "phone_number_df[0].str.findall('([0-9]+)-([0-9]+)-([0-9]+)')"
   ]
  },
  {
   "cell_type": "code",
   "execution_count": 53,
   "id": "b34676eb",
   "metadata": {},
   "outputs": [
    {
     "data": {
      "text/html": [
       "<div>\n",
       "<style scoped>\n",
       "    .dataframe tbody tr th:only-of-type {\n",
       "        vertical-align: middle;\n",
       "    }\n",
       "\n",
       "    .dataframe tbody tr th {\n",
       "        vertical-align: top;\n",
       "    }\n",
       "\n",
       "    .dataframe thead th {\n",
       "        text-align: right;\n",
       "    }\n",
       "</style>\n",
       "<table border=\"1\" class=\"dataframe\">\n",
       "  <thead>\n",
       "    <tr style=\"text-align: right;\">\n",
       "      <th></th>\n",
       "      <th>0</th>\n",
       "      <th>1</th>\n",
       "      <th>2</th>\n",
       "    </tr>\n",
       "  </thead>\n",
       "  <tbody>\n",
       "    <tr>\n",
       "      <th>0</th>\n",
       "      <td>010</td>\n",
       "      <td>3456</td>\n",
       "      <td>3234</td>\n",
       "    </tr>\n",
       "    <tr>\n",
       "      <th>1</th>\n",
       "      <td>02</td>\n",
       "      <td>3459</td>\n",
       "      <td>3424</td>\n",
       "    </tr>\n",
       "    <tr>\n",
       "      <th>2</th>\n",
       "      <td>032</td>\n",
       "      <td>3242</td>\n",
       "      <td>1533</td>\n",
       "    </tr>\n",
       "  </tbody>\n",
       "</table>\n",
       "</div>"
      ],
      "text/plain": [
       "     0     1     2\n",
       "0  010  3456  3234\n",
       "1   02  3459  3424\n",
       "2  032  3242  1533"
      ]
     },
     "execution_count": 53,
     "metadata": {},
     "output_type": "execute_result"
    }
   ],
   "source": [
    "phone_number_df[0].str.split('-',expand=True)"
   ]
  },
  {
   "cell_type": "code",
   "execution_count": 94,
   "id": "9f6d110e",
   "metadata": {},
   "outputs": [],
   "source": [
    "### 데이터 변환, .을 미리 제거하기\n",
    "train_data=pd.read_csv('ratings_train.csv',sep=',',encoding='utf8')\n",
    "test_data=pd.read_csv('ratings_test.csv',sep=',',encoding='utf8')"
   ]
  },
  {
   "cell_type": "code",
   "execution_count": 95,
   "id": "3d86f9dd",
   "metadata": {},
   "outputs": [],
   "source": [
    "email_pattern = '([a-zA-Z0-9_.+-]+@[a-zA-Z0-9-]+\\.[a-zA-Z0-9-.]+)'\n",
    "url_pattern = '(http|ftp|https)://(?:[-\\w.]|(?:%[\\da-fA-F]{2}))+'\n",
    "sperate_pattern = '([ㄱ-ㅎㅏ-ㅣ]+)'\n",
    "HTML_tag_pattern= '<[^>]*>'\n",
    "special_pattern='[^\\w\\s]'"
   ]
  },
  {
   "cell_type": "code",
   "execution_count": 97,
   "id": "15c9cca2",
   "metadata": {},
   "outputs": [
    {
     "name": "stderr",
     "output_type": "stream",
     "text": [
      "/tmp/ipykernel_3645/1774706402.py:1: FutureWarning: The default value of regex will change from True to False in a future version.\n",
      "  train_data['document']=train_data['document'].str.replace(email_pattern,'')\n",
      "/tmp/ipykernel_3645/1774706402.py:2: FutureWarning: The default value of regex will change from True to False in a future version.\n",
      "  train_data['document']=train_data['document'].str.replace(url_pattern,'')\n",
      "/tmp/ipykernel_3645/1774706402.py:3: FutureWarning: The default value of regex will change from True to False in a future version.\n",
      "  train_data['document']=train_data['document'].str.replace(sperate_pattern,'')\n",
      "/tmp/ipykernel_3645/1774706402.py:4: FutureWarning: The default value of regex will change from True to False in a future version.\n",
      "  train_data['document']=train_data['document'].str.replace(HTML_tag_pattern,'')\n",
      "/tmp/ipykernel_3645/1774706402.py:5: FutureWarning: The default value of regex will change from True to False in a future version.\n",
      "  train_data['document']=train_data['document'].str.replace(special_pattern,'')\n"
     ]
    }
   ],
   "source": [
    "train_data['document']=train_data['document'].str.replace(email_pattern,'')\n",
    "train_data['document']=train_data['document'].str.replace(url_pattern,'')\n",
    "train_data['document']=train_data['document'].str.replace(sperate_pattern,'')\n",
    "train_data['document']=train_data['document'].str.replace(HTML_tag_pattern,'')\n",
    "train_data['document']=train_data['document'].str.replace(special_pattern,'')"
   ]
  },
  {
   "cell_type": "code",
   "execution_count": 102,
   "id": "85d14637",
   "metadata": {},
   "outputs": [
    {
     "data": {
      "text/plain": [
       "0                                         아 더빙 진짜 짜증나네요 목소리\n",
       "1                                흠포스터보고 초딩영화줄오버연기조차 가볍지 않구나\n",
       "2                                         너무재밓었다그래서보는것을추천한다\n",
       "3                                 교도소 이야기구먼 솔직히 재미는 없다평점 조정\n",
       "4         사이몬페그의 익살스런 연기가 돋보였던 영화스파이더맨에서 늙어보이기만 했던 커스틴 던...\n",
       "                                ...                        \n",
       "149995                                      인간이 문제지 소는 뭔죄인가\n",
       "149996                                           평점이 너무 낮아서\n",
       "149997                        이게 뭐요 한국인은 거들먹거리고 필리핀 혼혈은 착하다\n",
       "149998                           청춘 영화의 최고봉방황과 우울했던 날들의 자화상\n",
       "149999                             한국 영화 최초로 수간하는 내용이 담긴 영화\n",
       "Name: document, Length: 150000, dtype: object"
      ]
     },
     "execution_count": 102,
     "metadata": {},
     "output_type": "execute_result"
    }
   ],
   "source": [
    "train_data['document']"
   ]
  },
  {
   "cell_type": "code",
   "execution_count": 106,
   "id": "e0718beb",
   "metadata": {},
   "outputs": [
    {
     "name": "stderr",
     "output_type": "stream",
     "text": [
      "/tmp/ipykernel_3645/474021862.py:1: UserWarning: This pattern is interpreted as a regular expression, and has match groups. To actually get the groups, use str.extract.\n",
      "  train_data['document'].str.contains(\"([.]+)\")\n"
     ]
    },
    {
     "data": {
      "text/plain": [
       "0         False\n",
       "1         False\n",
       "2         False\n",
       "3         False\n",
       "4         False\n",
       "          ...  \n",
       "149995    False\n",
       "149996    False\n",
       "149997    False\n",
       "149998    False\n",
       "149999    False\n",
       "Name: document, Length: 150000, dtype: object"
      ]
     },
     "execution_count": 106,
     "metadata": {},
     "output_type": "execute_result"
    }
   ],
   "source": [
    "train_data['document'].str.contains(\"([.]+)\")"
   ]
  },
  {
   "cell_type": "code",
   "execution_count": null,
   "id": "aba2081c",
   "metadata": {},
   "outputs": [],
   "source": []
  }
 ],
 "metadata": {
  "kernelspec": {
   "display_name": "Python 3 (ipykernel)",
   "language": "python",
   "name": "python3"
  },
  "language_info": {
   "codemirror_mode": {
    "name": "ipython",
    "version": 3
   },
   "file_extension": ".py",
   "mimetype": "text/x-python",
   "name": "python",
   "nbconvert_exporter": "python",
   "pygments_lexer": "ipython3",
   "version": "3.10.10"
  }
 },
 "nbformat": 4,
 "nbformat_minor": 5
}
