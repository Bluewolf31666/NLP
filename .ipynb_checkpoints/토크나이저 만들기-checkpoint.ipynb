{
 "cells": [
  {
   "cell_type": "markdown",
   "id": "0cf8e29b",
   "metadata": {},
   "source": [
    "### 토크나이저 만들기\n",
    "* 토크나이저를 사용하는 곳\n",
    "   - 자연어\n",
    "   - 시퀀스 데이터 적용 가능\n",
    "\n",
    "* 토크나이저가 필요한 상황\n",
    "    - 우리의 데이터에 적용할수 있는 토크나이저가 필요함\n",
    "    - 예시) 로그 분석\n",
    "    - 학습 시작/ 학습 중지/ 학습 끝/ 볼륨 조절/...\n",
    "    - 1단계 : 데이터를 전환(한글 ->영어/ 영어단어가 긴경우(study_start) -> 코드화(A)\n",
    "        - nltk를 적용한다면?, 'study_start-study_end' -> 'study'. 'start' 'study', 'end'\n",
    "        - 따로 따로 토크나이징 해야함"
   ]
  },
  {
   "cell_type": "markdown",
   "id": "e925a50c",
   "metadata": {},
   "source": [
    "### 기본토크나이저 만들기 - 기초\n",
    "* 공백으로 분리되는 토크나이저 만들기\n",
    "* 반드시 지켜줘야 할 부분:\n",
    "    - 최종 리턴은 꼭 리스트 타입으로 해야한다\n",
    "    - parameter는 data(텍스트)만 사용\n",
    "    "
   ]
  },
  {
   "cell_type": "code",
   "execution_count": 2,
   "id": "faf1cb37",
   "metadata": {},
   "outputs": [],
   "source": [
    "import os\n",
    "import re\n",
    "import pandas as pd"
   ]
  },
  {
   "cell_type": "code",
   "execution_count": 3,
   "id": "c19a2a33",
   "metadata": {},
   "outputs": [
    {
     "name": "stdout",
     "output_type": "stream",
     "text": [
      "\u001b[33mWARNING: The directory '/home/jovyan/.cache/pip' or its parent directory is not owned or is not writable by the current user. The cache has been disabled. Check the permissions and owner of that directory. If executing pip with sudo, you should use sudo's -H flag.\u001b[0m\u001b[33m\n",
      "\u001b[0mCollecting tokenizers\n",
      "  Downloading tokenizers-0.13.3-cp310-cp310-manylinux_2_17_x86_64.manylinux2014_x86_64.whl (7.8 MB)\n",
      "\u001b[2K     \u001b[90m━━━━━━━━━━━━━━━━━━━━━━━━━━━━━━━━━━━━━━━━\u001b[0m \u001b[32m7.8/7.8 MB\u001b[0m \u001b[31m146.3 kB/s\u001b[0m eta \u001b[36m0:00:00\u001b[0m00:01\u001b[0m00:02\u001b[0m\n",
      "\u001b[?25hInstalling collected packages: tokenizers\n",
      "Successfully installed tokenizers-0.13.3\n",
      "\u001b[33mWARNING: Running pip as the 'root' user can result in broken permissions and conflicting behaviour with the system package manager. It is recommended to use a virtual environment instead: https://pip.pypa.io/warnings/venv\u001b[0m\u001b[33m\n",
      "\u001b[0m"
     ]
    }
   ],
   "source": [
    "!pip install tokenizers"
   ]
  },
  {
   "cell_type": "code",
   "execution_count": 4,
   "id": "73954005",
   "metadata": {},
   "outputs": [],
   "source": [
    "def basicTokenizer(data : str):\n",
    "    return data.split(' ')"
   ]
  },
  {
   "cell_type": "code",
   "execution_count": 5,
   "id": "cf53bd5e",
   "metadata": {},
   "outputs": [
    {
     "data": {
      "text/plain": [
       "['나는', '너구리가', '아니야.', '라쿤이라고!']"
      ]
     },
     "execution_count": 5,
     "metadata": {},
     "output_type": "execute_result"
    }
   ],
   "source": [
    "basicTokenizer('나는 너구리가 아니야. 라쿤이라고!')"
   ]
  },
  {
   "cell_type": "markdown",
   "id": "3acef29a",
   "metadata": {},
   "source": [
    "### 정규표현식으로 만들기"
   ]
  },
  {
   "cell_type": "code",
   "execution_count": 6,
   "id": "4577516c",
   "metadata": {},
   "outputs": [],
   "source": [
    "from nltk.tokenize import RegexpTokenizer"
   ]
  },
  {
   "cell_type": "code",
   "execution_count": 7,
   "id": "bb1b4898",
   "metadata": {},
   "outputs": [],
   "source": [
    "retokenizer = RegexpTokenizer(\"[\\w]+\")"
   ]
  },
  {
   "cell_type": "code",
   "execution_count": 8,
   "id": "37ee0160",
   "metadata": {},
   "outputs": [],
   "source": [
    "sample_data=\"\"\"\n",
    "손님 여러분 안녕하십니까? 우리열차는 서울행 고속열차입니다. 오늘도 빠르고 편안한 고속철도를 이용해주셔서 감사합니다.\n",
    "저희 승무원은 손님 여러분께서 즐겁고 편안하게 여행할 수 있도록 정성을 다하겠습니다. 감사합니다.\n",
    "\"\"\""
   ]
  },
  {
   "cell_type": "code",
   "execution_count": 9,
   "id": "2cbaee2c",
   "metadata": {},
   "outputs": [
    {
     "name": "stdout",
     "output_type": "stream",
     "text": [
      "['손님', '여러분', '안녕하십니까', '우리열차는', '서울행', '고속열차입니다', '오늘도', '빠르고', '편안한', '고속철도를', '이용해주셔서', '감사합니다', '저희', '승무원은', '손님', '여러분께서', '즐겁고', '편안하게', '여행할', '수', '있도록', '정성을', '다하겠습니다', '감사합니다']\n"
     ]
    }
   ],
   "source": [
    "print(retokenizer.tokenize(sample_data))"
   ]
  },
  {
   "cell_type": "markdown",
   "id": "124bc8a7",
   "metadata": {},
   "source": [
    "### 문장단위로 나눌수 있는 정규표현식으로 만들고, 적용해보기"
   ]
  },
  {
   "cell_type": "code",
   "execution_count": 13,
   "id": "f58d3591",
   "metadata": {},
   "outputs": [],
   "source": [
    "def customRegexp(data):\n",
    "    pattern='[\\,\\.!?\\n]'\n",
    "    rs=re.split(pattern, data, maxsplit=0)\n",
    "    return rs"
   ]
  },
  {
   "cell_type": "code",
   "execution_count": 14,
   "id": "5d139d64",
   "metadata": {},
   "outputs": [
    {
     "data": {
      "text/plain": [
       "['',\n",
       " '손님 여러분 안녕하십니까',\n",
       " ' 우리열차는 서울행 고속열차입니다',\n",
       " ' 오늘도 빠르고 편안한 고속철도를 이용해주셔서 감사합니다',\n",
       " '',\n",
       " '저희 승무원은 손님 여러분께서 즐겁고 편안하게 여행할 수 있도록 정성을 다하겠습니다',\n",
       " ' 감사합니다',\n",
       " '',\n",
       " '']"
      ]
     },
     "execution_count": 14,
     "metadata": {},
     "output_type": "execute_result"
    }
   ],
   "source": [
    "customRegexp(sample_data)"
   ]
  },
  {
   "cell_type": "code",
   "execution_count": 15,
   "id": "d70a7b34",
   "metadata": {},
   "outputs": [],
   "source": [
    "re_rs = customRegexp(sample_data)"
   ]
  },
  {
   "cell_type": "code",
   "execution_count": 18,
   "id": "0cc15e29",
   "metadata": {},
   "outputs": [],
   "source": [
    "re_rs= [rs_unit.strip() for rs_unit in re_rs if len(rs_unit.strip())>1]"
   ]
  },
  {
   "cell_type": "code",
   "execution_count": 19,
   "id": "af5c1466",
   "metadata": {},
   "outputs": [
    {
     "data": {
      "text/plain": [
       "['손님 여러분 안녕하십니까',\n",
       " '우리열차는 서울행 고속열차입니다',\n",
       " '오늘도 빠르고 편안한 고속철도를 이용해주셔서 감사합니다',\n",
       " '저희 승무원은 손님 여러분께서 즐겁고 편안하게 여행할 수 있도록 정성을 다하겠습니다',\n",
       " '감사합니다']"
      ]
     },
     "execution_count": 19,
     "metadata": {},
     "output_type": "execute_result"
    }
   ],
   "source": [
    "re_rs"
   ]
  },
  {
   "cell_type": "code",
   "execution_count": 20,
   "id": "814dddae",
   "metadata": {},
   "outputs": [],
   "source": [
    "def customRegexp(data):\n",
    "    pattern='[\\,\\.!?\\n]'\n",
    "    rs=re.split(pattern, data, maxsplit=0)\n",
    "    f_rs = [rs_unit.strip() for rs_unit in rs if len(rs_unit.strip())>1]\n",
    "    return f_rs"
   ]
  },
  {
   "cell_type": "code",
   "execution_count": 21,
   "id": "1b65685b",
   "metadata": {},
   "outputs": [
    {
     "data": {
      "text/plain": [
       "['손님 여러분 안녕하십니까',\n",
       " '우리열차는 서울행 고속열차입니다',\n",
       " '오늘도 빠르고 편안한 고속철도를 이용해주셔서 감사합니다',\n",
       " '저희 승무원은 손님 여러분께서 즐겁고 편안하게 여행할 수 있도록 정성을 다하겠습니다',\n",
       " '감사합니다']"
      ]
     },
     "execution_count": 21,
     "metadata": {},
     "output_type": "execute_result"
    }
   ],
   "source": [
    "customRegexp(sample_data)"
   ]
  },
  {
   "cell_type": "markdown",
   "id": "358f3463",
   "metadata": {},
   "source": [
    "### re.split(maxsplit=)\n",
    " - 최대 몇번까지 나누눌 것인지 \n",
    " - 이값이 만약 0이다. 모든 문자열을 나눠줌\n",
    " - 이값이 0보다 크면, 그횟수만큼 난누고, 남은 문자열은 그대로 반환\n",
    " - 단 읍수는 않됨"
   ]
  },
  {
   "cell_type": "code",
   "execution_count": 23,
   "id": "29a85ae0",
   "metadata": {},
   "outputs": [],
   "source": [
    "def customRegexp_limit3(data):\n",
    "    pattern='[\\,\\.!?\\n]'\n",
    "    rs=re.split(pattern, data, maxsplit=3)\n",
    "    f_rs = [rs_unit.strip() for rs_unit in rs if len(rs_unit.strip())>1]\n",
    "    return f_rs"
   ]
  },
  {
   "cell_type": "code",
   "execution_count": 24,
   "id": "f6d83035",
   "metadata": {},
   "outputs": [
    {
     "data": {
      "text/plain": [
       "['손님 여러분 안녕하십니까',\n",
       " '우리열차는 서울행 고속열차입니다',\n",
       " '오늘도 빠르고 편안한 고속철도를 이용해주셔서 감사합니다.\\n저희 승무원은 손님 여러분께서 즐겁고 편안하게 여행할 수 있도록 정성을 다하겠습니다. 감사합니다.']"
      ]
     },
     "execution_count": 24,
     "metadata": {},
     "output_type": "execute_result"
    }
   ],
   "source": [
    "customRegexp_limit3(sample_data)"
   ]
  },
  {
   "cell_type": "markdown",
   "id": "113c20e3",
   "metadata": {},
   "source": [
    "### 데이터 프레임으로 최종결과를 넣을떄, \n"
   ]
  },
  {
   "cell_type": "code",
   "execution_count": 30,
   "id": "b47e5160",
   "metadata": {},
   "outputs": [
    {
     "data": {
      "text/html": [
       "<div>\n",
       "<style scoped>\n",
       "    .dataframe tbody tr th:only-of-type {\n",
       "        vertical-align: middle;\n",
       "    }\n",
       "\n",
       "    .dataframe tbody tr th {\n",
       "        vertical-align: top;\n",
       "    }\n",
       "\n",
       "    .dataframe thead th {\n",
       "        text-align: right;\n",
       "    }\n",
       "</style>\n",
       "<table border=\"1\" class=\"dataframe\">\n",
       "  <thead>\n",
       "    <tr style=\"text-align: right;\">\n",
       "      <th></th>\n",
       "      <th>sen1</th>\n",
       "      <th>sen2</th>\n",
       "      <th>sen3</th>\n",
       "    </tr>\n",
       "  </thead>\n",
       "  <tbody>\n",
       "    <tr>\n",
       "      <th>0</th>\n",
       "      <td>손님 여러분 안녕하십니까</td>\n",
       "      <td>우리열차는 서울행 고속열차입니다</td>\n",
       "      <td>오늘도 빠르고 편안한 고속철도를 이용해주셔서 감사합니다.\\n저희 승무원은 손님 여러...</td>\n",
       "    </tr>\n",
       "  </tbody>\n",
       "</table>\n",
       "</div>"
      ],
      "text/plain": [
       "            sen1               sen2  \\\n",
       "0  손님 여러분 안녕하십니까  우리열차는 서울행 고속열차입니다   \n",
       "\n",
       "                                                sen3  \n",
       "0  오늘도 빠르고 편안한 고속철도를 이용해주셔서 감사합니다.\\n저희 승무원은 손님 여러...  "
      ]
     },
     "execution_count": 30,
     "metadata": {},
     "output_type": "execute_result"
    }
   ],
   "source": [
    "tmp_df= pd.DataFrame(customRegexp_limit3(sample_data))\n",
    "tmp_df_T= tmp_df.T\n",
    "tmp_df_T.columns = ['sen1','sen2','sen3']\n",
    "tmp_df_T\n"
   ]
  },
  {
   "cell_type": "markdown",
   "id": "60b52c87",
   "metadata": {},
   "source": [
    "### BPE 토크나이저를 훈련시키기\n",
    "\n",
    "* 어휘 집합 (vocab.josn)과 병합 우선순위(merge.txt)가 있어야 토큰화가 가능하다"
   ]
  },
  {
   "cell_type": "code",
   "execution_count": 31,
   "id": "ad565de0",
   "metadata": {},
   "outputs": [],
   "source": [
    "train_df= pd.read_csv('./ratings_train.csv')\n",
    "test_df=pd.read_csv('./ratings_test.csv')"
   ]
  },
  {
   "cell_type": "code",
   "execution_count": 32,
   "id": "2acc57e7",
   "metadata": {},
   "outputs": [
    {
     "name": "stdout",
     "output_type": "stream",
     "text": [
      "<class 'pandas.core.frame.DataFrame'>\n",
      "RangeIndex: 150000 entries, 0 to 149999\n",
      "Data columns (total 4 columns):\n",
      " #   Column      Non-Null Count   Dtype \n",
      "---  ------      --------------   ----- \n",
      " 0   Unnamed: 0  150000 non-null  int64 \n",
      " 1   id          150000 non-null  int64 \n",
      " 2   document    149995 non-null  object\n",
      " 3   label       150000 non-null  int64 \n",
      "dtypes: int64(3), object(1)\n",
      "memory usage: 4.6+ MB\n"
     ]
    }
   ],
   "source": [
    "train_df.info()"
   ]
  },
  {
   "cell_type": "code",
   "execution_count": 33,
   "id": "918c525c",
   "metadata": {},
   "outputs": [],
   "source": [
    "train_df.dropna(inplace=True)"
   ]
  },
  {
   "cell_type": "code",
   "execution_count": 35,
   "id": "dcfde6a6",
   "metadata": {},
   "outputs": [
    {
     "name": "stdout",
     "output_type": "stream",
     "text": [
      "<class 'pandas.core.frame.DataFrame'>\n",
      "RangeIndex: 50000 entries, 0 to 49999\n",
      "Data columns (total 4 columns):\n",
      " #   Column      Non-Null Count  Dtype \n",
      "---  ------      --------------  ----- \n",
      " 0   Unnamed: 0  50000 non-null  int64 \n",
      " 1   id          50000 non-null  int64 \n",
      " 2   document    49997 non-null  object\n",
      " 3   label       50000 non-null  int64 \n",
      "dtypes: int64(3), object(1)\n",
      "memory usage: 1.5+ MB\n"
     ]
    }
   ],
   "source": [
    "test_df.info()"
   ]
  },
  {
   "cell_type": "code",
   "execution_count": 36,
   "id": "d10ac873",
   "metadata": {},
   "outputs": [],
   "source": [
    "test_df.dropna(inplace=True)"
   ]
  },
  {
   "cell_type": "code",
   "execution_count": 37,
   "id": "11dc29bc",
   "metadata": {},
   "outputs": [],
   "source": [
    "train_file_nm='bpe_ratings_train.txt'"
   ]
  },
  {
   "cell_type": "code",
   "execution_count": 40,
   "id": "278e9d40",
   "metadata": {},
   "outputs": [],
   "source": [
    "text_file=open(train_file_nm, 'w')\n",
    "\n",
    "corp, stri_train_add= set(), str()\n",
    "\n",
    "train_series= train_df['document'].drop_duplicates()"
   ]
  },
  {
   "cell_type": "code",
   "execution_count": 41,
   "id": "65261d95",
   "metadata": {},
   "outputs": [
    {
     "name": "stdout",
     "output_type": "stream",
     "text": [
      "0                                  아 더빙.. 진짜 짜증나네요 목소리\n",
      "1                    흠...포스터보고 초딩영화줄....오버연기조차 가볍지 않구나\n",
      "2                                    너무재밓었다그래서보는것을추천한다\n",
      "3                        교도소 이야기구먼 ..솔직히 재미는 없다..평점 조정\n",
      "4    사이몬페그의 익살스런 연기가 돋보였던 영화!스파이더맨에서 늙어보이기만 했던 커스틴 ...\n",
      "Name: document, dtype: object\n"
     ]
    }
   ],
   "source": [
    "## 훈련 데이터로 사용하기 위해서는 str로 변환해야 함\n",
    "print(train_series[:5])"
   ]
  },
  {
   "cell_type": "code",
   "execution_count": 44,
   "id": "35cfc5df",
   "metadata": {},
   "outputs": [],
   "source": [
    "train_str = \"\\n\".join(train_series.tolist())\n",
    "text_file.write(train_str)\n",
    "text_file.close()\n",
    "# 말뭉치\n",
    "train_list=train_str.split(' ')\n",
    "train_set=set(train_list)## 말뭉치에는 중복되는 문자와 단어가 없도록함"
   ]
  },
  {
   "cell_type": "code",
   "execution_count": 45,
   "id": "5adbdded",
   "metadata": {},
   "outputs": [],
   "source": [
    "corp.update(train_set)"
   ]
  },
  {
   "cell_type": "code",
   "execution_count": 46,
   "id": "47f1b4d9",
   "metadata": {},
   "outputs": [],
   "source": [
    "corp_tmp, str_train_add_tmp = set(), str()\n",
    "corp_tmp=set() : str_train_add_tmp= str()"
   ]
  },
  {
   "cell_type": "code",
   "execution_count": 48,
   "id": "834fac71",
   "metadata": {},
   "outputs": [
    {
     "name": "stdout",
     "output_type": "stream",
     "text": [
      "0                                                  굳 ㅋ\n",
      "1                                 GDNTOPCLASSINTHECLUB\n",
      "2               뭐야 이 평점들은.... 나쁘진 않지만 10점 짜리는 더더욱 아니잖아\n",
      "3                     지루하지는 않은데 완전 막장임... 돈주고 보기에는....\n",
      "4    3D만 아니었어도 별 다섯 개 줬을텐데.. 왜 3D로 나와서 제 심기를 불편하게 하죠??\n",
      "Name: document, dtype: object\n"
     ]
    }
   ],
   "source": [
    "test_file_nm ='bpe_ratings_test.txt'\n",
    "test_file=open(test_file_nm,'w')\n",
    "test_series= test_df['document'].drop_duplicates()\n",
    "print(test_series[:5])"
   ]
  },
  {
   "cell_type": "code",
   "execution_count": 49,
   "id": "94b9bd34",
   "metadata": {},
   "outputs": [],
   "source": [
    "test_str=\"\\n\".join(test_series.tolist())\n",
    "test_file.write(test_str)\n",
    "test_file.close()"
   ]
  },
  {
   "cell_type": "code",
   "execution_count": 50,
   "id": "70628bcc",
   "metadata": {},
   "outputs": [],
   "source": [
    "test_list= test_str.split(' ')\n",
    "test_set= set(test_list)\n",
    "test_corp=set()\n",
    "test_corp.update(test_set)"
   ]
  },
  {
   "cell_type": "code",
   "execution_count": 56,
   "id": "e8421a4a",
   "metadata": {},
   "outputs": [],
   "source": [
    "from tokenizers import CharBPETokenizer"
   ]
  },
  {
   "cell_type": "code",
   "execution_count": 57,
   "id": "b9364360",
   "metadata": {},
   "outputs": [
    {
     "name": "stdout",
     "output_type": "stream",
     "text": [
      "\n",
      "\n",
      "\n"
     ]
    }
   ],
   "source": [
    "### 토크나이저 훈련시키기\n",
    "\n",
    "vocab= 10000\n",
    "#train_file_nm\n",
    "bpe_tokenizer = CharBPETokenizer()\n",
    "bpe_tokenizer.train(\n",
    "    files= [train_file_nm,test_file_nm],\n",
    "    vocab_size=vocab,\n",
    "    special_tokens = [\"[PAD]\"]\n",
    ")"
   ]
  },
  {
   "cell_type": "code",
   "execution_count": 59,
   "id": "57dc8bc9",
   "metadata": {},
   "outputs": [
    {
     "data": {
      "text/plain": [
       "['./mode_data/vocab.json', './mode_data/merges.txt']"
      ]
     },
     "execution_count": 59,
     "metadata": {},
     "output_type": "execute_result"
    }
   ],
   "source": [
    "bpe_tokenizer.save_model('./mode_data')"
   ]
  },
  {
   "cell_type": "code",
   "execution_count": 62,
   "id": "9ee82661",
   "metadata": {},
   "outputs": [],
   "source": [
    "bpe_tokenizer.save('./mode_data/bpe_tokenizer.json')"
   ]
  },
  {
   "cell_type": "markdown",
   "id": "0e1debc6",
   "metadata": {},
   "source": [
    "### 훈련한 bpe 토크나이저로 토큰화하기"
   ]
  },
  {
   "cell_type": "code",
   "execution_count": 60,
   "id": "f00cf4af",
   "metadata": {},
   "outputs": [],
   "source": [
    "from tokenizers import Tokenizer"
   ]
  },
  {
   "cell_type": "code",
   "execution_count": 63,
   "id": "3f29f41a",
   "metadata": {},
   "outputs": [],
   "source": [
    "bpe_tokenizer_pretrained= Tokenizer.from_file(\"./mode_data/bpe_tokenizer.json\")"
   ]
  },
  {
   "cell_type": "code",
   "execution_count": 64,
   "id": "64347b59",
   "metadata": {},
   "outputs": [],
   "source": [
    "global bpe_tokenizer_pretrained"
   ]
  },
  {
   "cell_type": "code",
   "execution_count": 66,
   "id": "ced14401",
   "metadata": {},
   "outputs": [],
   "source": [
    "def usingBPETokenizer(data) -> list:\n",
    "    return bpe_tokenizer_pretrained.encode(data).tokens"
   ]
  },
  {
   "cell_type": "code",
   "execution_count": 67,
   "id": "1f7f0311",
   "metadata": {},
   "outputs": [],
   "source": [
    "sample_str=train_df['document'][0]"
   ]
  },
  {
   "cell_type": "code",
   "execution_count": 68,
   "id": "34683b4a",
   "metadata": {},
   "outputs": [
    {
     "data": {
      "text/plain": [
       "['아</w>', '더빙</w>', '.</w>', '.</w>', '진짜</w>', '짜증나', '네요</w>', '목소리</w>']"
      ]
     },
     "execution_count": 68,
     "metadata": {},
     "output_type": "execute_result"
    }
   ],
   "source": [
    "usingBPETokenizer(sample_str)"
   ]
  },
  {
   "cell_type": "code",
   "execution_count": null,
   "id": "1be80805",
   "metadata": {},
   "outputs": [],
   "source": []
  }
 ],
 "metadata": {
  "kernelspec": {
   "display_name": "Python 3 (ipykernel)",
   "language": "python",
   "name": "python3"
  },
  "language_info": {
   "codemirror_mode": {
    "name": "ipython",
    "version": 3
   },
   "file_extension": ".py",
   "mimetype": "text/x-python",
   "name": "python",
   "nbconvert_exporter": "python",
   "pygments_lexer": "ipython3",
   "version": "3.10.10"
  }
 },
 "nbformat": 4,
 "nbformat_minor": 5
}
