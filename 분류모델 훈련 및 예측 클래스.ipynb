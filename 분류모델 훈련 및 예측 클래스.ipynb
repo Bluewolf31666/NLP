{
 "cells": [
  {
   "cell_type": "code",
   "execution_count": null,
   "id": "22176e36",
   "metadata": {},
   "outputs": [],
   "source": [
    "import numpy as np\n",
    "import pandas as pd\n",
    "import pickle\n",
    "\n",
    "from sklearn.linear_model import LogisticRegression\n",
    "from sklearn.neighbors import KNeighborsClassifier\n",
    "from sklearn.tree import DecisionTreeClassifier\n",
    "from sklearn.ensemble import RandomForestClassifier\n",
    "from sklearn.neural_network import MLPClassifier\n",
    "from xgboost import XGBClassifier\n",
    "\n",
    "from sklearn.ensemble import VotingClassifier\n",
    "\n",
    "from sklearn.semi_supervised import SelfTrainingClassifier\n",
    "\n",
    "from sklearn.metrics import classification_report\n",
    "\n",
    "from tqdm import tqdm"
   ]
  },
  {
   "cell_type": "code",
   "execution_count": null,
   "id": "49a78a24",
   "metadata": {},
   "outputs": [],
   "source": [
    "class TrainingMLModels:\n",
    "    def __init__(self):\n",
    "        self.random_state_num=0\n",
    "        \n",
    "    def trainingSupvisedMLModel(self, x_train,x_test,y_train,y_test):\n",
    "        #의사결정나무\n",
    "        clf_decision= DecisionTreeClassifier(random_state=self.random_state_num, max_depth=7)\n",
    "        clf_randomF= RandomForestClassifier(random_state=self.random_state_num, max_depth=7)\n",
    "        clf_kneighbors= KNeighborsClassifier(n_neighbors=2, weights='distance', leaf_size=50)\n",
    "        clf_logistic= LogisticRegression(max_iter=5000,random_state=self.random_state_num)\n",
    "        clf_mlp= MLPClassifier(solver='lbfgs',alpha=0.5,max_iter=100,random_state=self.random_state_num)\n",
    "        clf_mlp= MLPClassifier(solver='lbfgs',alpha=0.5,max_iter=100,random_state=self.random_state_num)\n",
    "        clf_xgboost= XGBClassifier(random_state=self.random_state_num, max_depth=7)\n",
    "        clf_ensemble=VotingClassifier(estimators=[('xgoboost',clf_xgboost),('randomforest',clf_randomF),('logistic',clf_logistic)], voting='soft')\n",
    "        \n",
    "        models = {'decision':clf_decision, 'kneighbors':clf_kneighbors, 'randomF': clf_randomF, 'logistic':clf_logistic, 'mlp':clf_mlp, 'xgboost':clf_xgboost, 'ensemble_soft': clf_ensemble}\n",
    "        \n",
    "        for models_nm, model_obj in tqdm(models.items(), desc=\"training ml classification model\"):\n",
    "            print(f\"----------{models_nm}을 진행합니다\")\n",
    "            #모델 훈련\n",
    "            model_obj.fit(x_train, y_train)\n",
    "            #모델 저장\n",
    "            #dump(model_obj, f\"./mode_data/{models_nm}.joblib\")\n",
    "            #모델 예측 도출\n",
    "            y_train_pred= model_obj.predict(x_train)\n",
    "            y_test_pred=model_obj.predict(x_test)\n",
    "            #모델의 성능 평가\n",
    "            print(f\"-----모델 훈련 결과 ----\")\n",
    "            print(classification_report(y_train,y_train_pred))\n",
    "            print(f\"-----테스트 결과 ----\")\n",
    "            print(classification_report(y_test,y_test_pred))"
   ]
  },
  {
   "cell_type": "code",
   "execution_count": null,
   "id": "7901628b",
   "metadata": {},
   "outputs": [],
   "source": [
    "tmm_csl=TrainingMLModels()"
   ]
  },
  {
   "cell_type": "code",
   "execution_count": 130,
   "id": "6447dab3",
   "metadata": {},
   "outputs": [],
   "source": [
    "train_df=pd.read_csv('ratings_train.csv')\n",
    "\n",
    "test_df = pd.read_csv('ratings_test.csv')\n",
    "\n",
    "train_df.dropna(inplace=True)\n",
    "\n",
    "test_df.dropna(inplace=True)"
   ]
  },
  {
   "cell_type": "code",
   "execution_count": 131,
   "id": "b61a338b",
   "metadata": {},
   "outputs": [],
   "source": [
    "## 모델 훈련시 사용할 랜덤 변수(계속 모델 훈련해도 고정된 결과가 나옴)\n",
    "train_df_num=1000 #훈련 데이터 중에서 훈련에 사용할 데이터 수\n",
    "test_df_num= 500 #테스트 데이터 중에서 훈련에 사용할 데이터 "
   ]
  },
  {
   "cell_type": "code",
   "execution_count": 132,
   "id": "99e048de",
   "metadata": {},
   "outputs": [],
   "source": [
    "# 1. 데이터 분리\n",
    "x_train, y_train = train_df['document'][:train_df_num], train_df['label'][:train_df_num]\n",
    "x_test, y_test = test_df['document'][:test_df_num], test_df['label'][:test_df_num]"
   ]
  },
  {
   "cell_type": "code",
   "execution_count": 133,
   "id": "ffec4294",
   "metadata": {},
   "outputs": [],
   "source": [
    "from nlp_preprocessing import TrainTransfromVect"
   ]
  },
  {
   "cell_type": "code",
   "execution_count": 134,
   "id": "a7d2b0c6",
   "metadata": {},
   "outputs": [],
   "source": [
    "ttv = TrainTransfromVect()"
   ]
  },
  {
   "cell_type": "code",
   "execution_count": 135,
   "id": "0d03e8ee",
   "metadata": {},
   "outputs": [
    {
     "name": "stderr",
     "output_type": "stream",
     "text": [
      "/opt/conda/lib/python3.10/site-packages/sklearn/feature_extraction/text.py:528: UserWarning: The parameter 'token_pattern' will not be used since 'tokenizer' is not None'\n",
      "  warnings.warn(\n"
     ]
    }
   ],
   "source": [
    "ttv.fit_run('wp', x_train)"
   ]
  },
  {
   "cell_type": "code",
   "execution_count": 136,
   "id": "910d56fd",
   "metadata": {},
   "outputs": [
    {
     "name": "stderr",
     "output_type": "stream",
     "text": [
      "100%|██████████████████████████████████████████████████████████████████████████████████| 10/10 [00:00<00:00, 170.46it/s]\n",
      "100%|██████████████████████████████████████████████████████████████████████████████████| 10/10 [00:00<00:00, 172.40it/s]\n"
     ]
    }
   ],
   "source": [
    "wp_vec_train= ttv.transform_run(x_train, chunk_size=100)\n",
    "wp_vec_test= ttv.transform_run(x_train, chunk_size=100)"
   ]
  },
  {
   "cell_type": "markdown",
   "id": "5a4e425b",
   "metadata": {},
   "source": [
    "## 모델 훈련부분"
   ]
  },
  {
   "cell_type": "code",
   "execution_count": 137,
   "id": "29084d9a",
   "metadata": {},
   "outputs": [],
   "source": [
    "t_ml_model_cls= TrainingMLModels()"
   ]
  },
  {
   "cell_type": "code",
   "execution_count": null,
   "id": "85a6e2a8",
   "metadata": {},
   "outputs": [],
   "source": [
    "t_ml_model_cls.trainingSupvisedMLModel(wp_vec_train, wp_vec_test, y_train,y_test)"
   ]
  }
 ],
 "metadata": {
  "kernelspec": {
   "display_name": "Python 3 (ipykernel)",
   "language": "python",
   "name": "python3"
  },
  "language_info": {
   "codemirror_mode": {
    "name": "ipython",
    "version": 3
   },
   "file_extension": ".py",
   "mimetype": "text/x-python",
   "name": "python",
   "nbconvert_exporter": "python",
   "pygments_lexer": "ipython3",
   "version": "3.10.10"
  }
 },
 "nbformat": 4,
 "nbformat_minor": 5
}
