{
 "cells": [
  {
   "cell_type": "code",
   "execution_count": 1,
   "id": "eae485a1",
   "metadata": {},
   "outputs": [],
   "source": [
    "## 정규표현식으로 데이터를 제거, 변환\n",
    "## 판다스 라이브러리 에서 정규표현식 사용해서 제거"
   ]
  },
  {
   "cell_type": "code",
   "execution_count": 3,
   "id": "b8d9fe67",
   "metadata": {},
   "outputs": [],
   "source": [
    "import re\n",
    "import pandas as pd"
   ]
  },
  {
   "cell_type": "code",
   "execution_count": 4,
   "id": "60f9e080",
   "metadata": {},
   "outputs": [],
   "source": [
    "train_data = pd.read_csv('ratings_train.csv')"
   ]
  },
  {
   "cell_type": "code",
   "execution_count": 5,
   "id": "2cea0679",
   "metadata": {},
   "outputs": [],
   "source": [
    "## 파이썬 Re 모듈 사용하기\n"
   ]
  },
  {
   "cell_type": "code",
   "execution_count": 6,
   "id": "832e8253",
   "metadata": {},
   "outputs": [],
   "source": [
    "phone_number=\"\"\"010-3456-3234 02-3459-3424 032-3242-1533\"\"\"\n",
    "str_sample='''abcd apple banana'''"
   ]
  },
  {
   "cell_type": "code",
   "execution_count": 7,
   "id": "c4c62d0d",
   "metadata": {},
   "outputs": [],
   "source": [
    "pn_p=re.compile('([0-9]+)-([0-9]+)-([0-9]+)')\n",
    "s_p_start_a=re.compile('(^a)\\w+')\n",
    "s_p_end_a=re.compile('\\w+(a$)')\n",
    "s_p_inside_pn= re.compile('\\w+[pn]\\w+')"
   ]
  },
  {
   "cell_type": "markdown",
   "id": "32d32b4b",
   "metadata": {},
   "source": [
    "## match\n",
    "* 문자열의 처음부터 정규식과 매치되는지 조사한다\n",
    "* group(): 매치되는 문자열을 리턴\n",
    "* start(): 매치된 문자열의 시작위치를 리턴\n",
    "* end(): 매치된 문자열의  끝 위치를 리턴\n",
    "* span(): 매치된 문자열의 (시작,끝)헤당 하는 위치를 튜플로 리턴한다\n"
   ]
  },
  {
   "cell_type": "code",
   "execution_count": 10,
   "id": "e2358bc2",
   "metadata": {},
   "outputs": [
    {
     "name": "stdout",
     "output_type": "stream",
     "text": [
      "<re.Match object; span=(0, 13), match='010-3456-3234'>\n"
     ]
    }
   ],
   "source": [
    "print(pn_p.match(phone_number))"
   ]
  },
  {
   "cell_type": "code",
   "execution_count": 11,
   "id": "417cd40d",
   "metadata": {},
   "outputs": [
    {
     "name": "stdout",
     "output_type": "stream",
     "text": [
      "010-3456-3234\n",
      "0\n",
      "13\n",
      "(0, 13)\n"
     ]
    }
   ],
   "source": [
    "pn_p_rs=pn_p.match(phone_number)\n",
    "if pn_p_rs:\n",
    "    print(pn_p_rs.group())\n",
    "    print(pn_p_rs.start())\n",
    "    print(pn_p_rs.end())\n",
    "    print(pn_p_rs.span())\n",
    "else:\n",
    "    print(\"일치하는게 없단다\")"
   ]
  },
  {
   "cell_type": "code",
   "execution_count": 18,
   "id": "9edab2f3",
   "metadata": {},
   "outputs": [
    {
     "data": {
      "text/plain": [
       "'3234'"
      ]
     },
     "execution_count": 18,
     "metadata": {},
     "output_type": "execute_result"
    }
   ],
   "source": [
    "pn_p_rs.group(3)"
   ]
  },
  {
   "cell_type": "code",
   "execution_count": 19,
   "id": "e875a22e",
   "metadata": {},
   "outputs": [
    {
     "data": {
      "text/plain": [
       "{'first': '010', 'middle': '3456', 'end': '3234'}"
      ]
     },
     "execution_count": 19,
     "metadata": {},
     "output_type": "execute_result"
    }
   ],
   "source": [
    "re.match(\"(?P<first>[0-9]+)-(?P<middle>[0-9]+)-(?P<end>[0-9]+)\",phone_number).groupdict()"
   ]
  },
  {
   "cell_type": "code",
   "execution_count": 20,
   "id": "1c09b370",
   "metadata": {},
   "outputs": [],
   "source": [
    "def patRS(p):\n",
    "    if p:\n",
    "        print(p.group())\n",
    "    else:\n",
    "        print(\"Nope!\")"
   ]
  },
  {
   "cell_type": "code",
   "execution_count": 21,
   "id": "6ce52914",
   "metadata": {},
   "outputs": [
    {
     "data": {
      "text/plain": [
       "<re.Match object; span=(0, 4), match='abcd'>"
      ]
     },
     "execution_count": 21,
     "metadata": {},
     "output_type": "execute_result"
    }
   ],
   "source": [
    "spsa = s_p_start_a.match(str_sample)\n",
    "spsa"
   ]
  },
  {
   "cell_type": "code",
   "execution_count": 22,
   "id": "16bad992",
   "metadata": {},
   "outputs": [
    {
     "name": "stdout",
     "output_type": "stream",
     "text": [
      "abcd\n"
     ]
    }
   ],
   "source": [
    "patRS(spsa)"
   ]
  },
  {
   "cell_type": "code",
   "execution_count": 23,
   "id": "52fad572",
   "metadata": {},
   "outputs": [],
   "source": [
    "spea = s_p_end_a.match(str_sample)\n",
    "spea"
   ]
  },
  {
   "cell_type": "code",
   "execution_count": 25,
   "id": "dbf7c575",
   "metadata": {},
   "outputs": [
    {
     "name": "stdout",
     "output_type": "stream",
     "text": [
      "Nope!\n"
     ]
    }
   ],
   "source": [
    "patRS(spea)"
   ]
  },
  {
   "cell_type": "code",
   "execution_count": 27,
   "id": "409cd789",
   "metadata": {},
   "outputs": [],
   "source": [
    "spipn = s_p_inside_pn.match(str_sample)\n",
    "spipn"
   ]
  },
  {
   "cell_type": "code",
   "execution_count": 28,
   "id": "205d0369",
   "metadata": {},
   "outputs": [
    {
     "name": "stdout",
     "output_type": "stream",
     "text": [
      "Nope!\n"
     ]
    }
   ],
   "source": [
    "patRS(spipn)"
   ]
  },
  {
   "cell_type": "markdown",
   "id": "b388fe44",
   "metadata": {},
   "source": [
    "## serach 메서드 사용하기\n",
    "* 문자열 전체를 검색하여 정규식과 매치되는지 확인한다"
   ]
  },
  {
   "cell_type": "code",
   "execution_count": 30,
   "id": "783c99c8",
   "metadata": {},
   "outputs": [
    {
     "data": {
      "text/plain": [
       "<re.Match object; span=(0, 13), match='010-3456-3234'>"
      ]
     },
     "execution_count": 30,
     "metadata": {},
     "output_type": "execute_result"
    }
   ],
   "source": [
    "pn_p_rs=pn_p.search(phone_number)\n",
    "pn_p_rs"
   ]
  },
  {
   "cell_type": "code",
   "execution_count": 31,
   "id": "0690f3c6",
   "metadata": {},
   "outputs": [
    {
     "data": {
      "text/plain": [
       "<re.Match object; span=(5, 10), match='apple'>"
      ]
     },
     "execution_count": 31,
     "metadata": {},
     "output_type": "execute_result"
    }
   ],
   "source": [
    "s_p_inside_pn.search(str_sample)"
   ]
  },
  {
   "cell_type": "code",
   "execution_count": 32,
   "id": "51894519",
   "metadata": {},
   "outputs": [
    {
     "data": {
      "text/plain": [
       "<re.Match object; span=(11, 17), match='banana'>"
      ]
     },
     "execution_count": 32,
     "metadata": {},
     "output_type": "execute_result"
    }
   ],
   "source": [
    "s_p_end_a.search(str_sample)"
   ]
  },
  {
   "cell_type": "markdown",
   "id": "46b2b654",
   "metadata": {},
   "source": [
    "### findall \n",
    "* 패턴을 문자열에서 모두 찾아 리스트로 리턴한다"
   ]
  },
  {
   "cell_type": "code",
   "execution_count": 33,
   "id": "ffcdd37f",
   "metadata": {},
   "outputs": [
    {
     "data": {
      "text/plain": [
       "[('010', '3456', '3234'), ('02', '3459', '3424'), ('032', '3242', '1533')]"
      ]
     },
     "execution_count": 33,
     "metadata": {},
     "output_type": "execute_result"
    }
   ],
   "source": [
    "pn_p.findall(phone_number)"
   ]
  },
  {
   "cell_type": "code",
   "execution_count": 34,
   "id": "1ed472cc",
   "metadata": {},
   "outputs": [
    {
     "data": {
      "text/plain": [
       "['apple', 'banana']"
      ]
     },
     "execution_count": 34,
     "metadata": {},
     "output_type": "execute_result"
    }
   ],
   "source": [
    "s_p_inside_pn.findall(str_sample)"
   ]
  },
  {
   "cell_type": "markdown",
   "id": "7aec8e40",
   "metadata": {},
   "source": [
    "### finditer"
   ]
  },
  {
   "cell_type": "code",
   "execution_count": 35,
   "id": "8515852f",
   "metadata": {},
   "outputs": [
    {
     "data": {
      "text/plain": [
       "<callable_iterator at 0x7f38e979aad0>"
      ]
     },
     "execution_count": 35,
     "metadata": {},
     "output_type": "execute_result"
    }
   ],
   "source": [
    "pn_p_rs=pn_p.finditer(phone_number)\n",
    "pn_p_rs"
   ]
  },
  {
   "cell_type": "code",
   "execution_count": 36,
   "id": "af08c25f",
   "metadata": {},
   "outputs": [
    {
     "name": "stdout",
     "output_type": "stream",
     "text": [
      "<re.Match object; span=(0, 13), match='010-3456-3234'>\n",
      "<re.Match object; span=(14, 26), match='02-3459-3424'>\n",
      "<re.Match object; span=(27, 40), match='032-3242-1533'>\n"
     ]
    }
   ],
   "source": [
    "for r in pn_p_rs:\n",
    "    print(r)"
   ]
  },
  {
   "cell_type": "markdown",
   "id": "14556229",
   "metadata": {},
   "source": [
    "### sub로 데이터 바꾸기"
   ]
  },
  {
   "cell_type": "code",
   "execution_count": 37,
   "id": "76729acb",
   "metadata": {},
   "outputs": [
    {
     "name": "stdout",
     "output_type": "stream",
     "text": [
      "abcd apple banana\n"
     ]
    },
    {
     "data": {
      "text/plain": [
       "'zzz apple banana'"
      ]
     },
     "execution_count": 37,
     "metadata": {},
     "output_type": "execute_result"
    }
   ],
   "source": [
    "print(str_sample)\n",
    "s_p_start_a.sub('zzz',str_sample)"
   ]
  },
  {
   "cell_type": "markdown",
   "id": "1639af65",
   "metadata": {},
   "source": [
    "### pandas 정규표현식"
   ]
  },
  {
   "cell_type": "code",
   "execution_count": 38,
   "id": "3aade9e6",
   "metadata": {},
   "outputs": [
    {
     "data": {
      "text/html": [
       "<div>\n",
       "<style scoped>\n",
       "    .dataframe tbody tr th:only-of-type {\n",
       "        vertical-align: middle;\n",
       "    }\n",
       "\n",
       "    .dataframe tbody tr th {\n",
       "        vertical-align: top;\n",
       "    }\n",
       "\n",
       "    .dataframe thead th {\n",
       "        text-align: right;\n",
       "    }\n",
       "</style>\n",
       "<table border=\"1\" class=\"dataframe\">\n",
       "  <thead>\n",
       "    <tr style=\"text-align: right;\">\n",
       "      <th></th>\n",
       "      <th>0</th>\n",
       "    </tr>\n",
       "  </thead>\n",
       "  <tbody>\n",
       "    <tr>\n",
       "      <th>0</th>\n",
       "      <td>010-3456-3234</td>\n",
       "    </tr>\n",
       "    <tr>\n",
       "      <th>1</th>\n",
       "      <td>02-3459-3424</td>\n",
       "    </tr>\n",
       "    <tr>\n",
       "      <th>2</th>\n",
       "      <td>032-3242-1533</td>\n",
       "    </tr>\n",
       "  </tbody>\n",
       "</table>\n",
       "</div>"
      ],
      "text/plain": [
       "               0\n",
       "0  010-3456-3234\n",
       "1   02-3459-3424\n",
       "2  032-3242-1533"
      ]
     },
     "execution_count": 38,
     "metadata": {},
     "output_type": "execute_result"
    }
   ],
   "source": [
    "phone_number_df=pd.DataFrame(data=phone_number.split(' '))\n",
    "str_sample_df = pd.DataFrame(data=str_sample.split(' '))\n",
    "phone_number_df"
   ]
  },
  {
   "cell_type": "code",
   "execution_count": 39,
   "id": "e2bded0d",
   "metadata": {},
   "outputs": [
    {
     "data": {
      "text/plain": [
       "0     00-3456-3234\n",
       "1     02-3459-3424\n",
       "2    032-3242-1533\n",
       "Name: 0, dtype: object"
      ]
     },
     "execution_count": 39,
     "metadata": {},
     "output_type": "execute_result"
    }
   ],
   "source": [
    "phone_number_df[0].str.replace(\"010\",\"00\")"
   ]
  },
  {
   "cell_type": "code",
   "execution_count": 43,
   "id": "3c8c7745",
   "metadata": {},
   "outputs": [
    {
     "name": "stderr",
     "output_type": "stream",
     "text": [
      "/tmp/ipykernel_3645/594732280.py:1: UserWarning: This pattern is interpreted as a regular expression, and has match groups. To actually get the groups, use str.extract.\n",
      "  phone_number_df[0].str.contains(\"([0-9]+)-([0-9]+)-([0-9]+)\", regex=True)\n"
     ]
    },
    {
     "data": {
      "text/plain": [
       "0    True\n",
       "1    True\n",
       "2    True\n",
       "Name: 0, dtype: bool"
      ]
     },
     "execution_count": 43,
     "metadata": {},
     "output_type": "execute_result"
    }
   ],
   "source": [
    "phone_number_df[0].str.contains(\"([0-9]+)-([0-9]+)-([0-9]+)\", regex=True)"
   ]
  },
  {
   "cell_type": "code",
   "execution_count": 45,
   "id": "486501a6",
   "metadata": {},
   "outputs": [
    {
     "data": {
      "text/plain": [
       "0    False\n",
       "1     True\n",
       "2     True\n",
       "Name: 0, dtype: bool"
      ]
     },
     "execution_count": 45,
     "metadata": {},
     "output_type": "execute_result"
    }
   ],
   "source": [
    "str_sample_df[0].str.contains('\\w+[pn]\\w+')"
   ]
  },
  {
   "cell_type": "code",
   "execution_count": 47,
   "id": "3ba69ce4",
   "metadata": {},
   "outputs": [
    {
     "data": {
      "text/html": [
       "<div>\n",
       "<style scoped>\n",
       "    .dataframe tbody tr th:only-of-type {\n",
       "        vertical-align: middle;\n",
       "    }\n",
       "\n",
       "    .dataframe tbody tr th {\n",
       "        vertical-align: top;\n",
       "    }\n",
       "\n",
       "    .dataframe thead th {\n",
       "        text-align: right;\n",
       "    }\n",
       "</style>\n",
       "<table border=\"1\" class=\"dataframe\">\n",
       "  <thead>\n",
       "    <tr style=\"text-align: right;\">\n",
       "      <th></th>\n",
       "      <th>0</th>\n",
       "      <th>TR</th>\n",
       "    </tr>\n",
       "  </thead>\n",
       "  <tbody>\n",
       "    <tr>\n",
       "      <th>0</th>\n",
       "      <td>abcd</td>\n",
       "      <td>False</td>\n",
       "    </tr>\n",
       "    <tr>\n",
       "      <th>1</th>\n",
       "      <td>apple</td>\n",
       "      <td>True</td>\n",
       "    </tr>\n",
       "    <tr>\n",
       "      <th>2</th>\n",
       "      <td>banana</td>\n",
       "      <td>True</td>\n",
       "    </tr>\n",
       "  </tbody>\n",
       "</table>\n",
       "</div>"
      ],
      "text/plain": [
       "        0     TR\n",
       "0    abcd  False\n",
       "1   apple   True\n",
       "2  banana   True"
      ]
     },
     "execution_count": 47,
     "metadata": {},
     "output_type": "execute_result"
    }
   ],
   "source": [
    "str_sample_df['TR']=str_sample_df[0].str.contains('\\w+[pn]\\w+')\n",
    "str_sample_df"
   ]
  },
  {
   "cell_type": "code",
   "execution_count": 49,
   "id": "af4514ef",
   "metadata": {},
   "outputs": [],
   "source": [
    "tmp=str_sample_df[(str_sample_df['TR']==True)][0].tolist()"
   ]
  },
  {
   "cell_type": "code",
   "execution_count": 50,
   "id": "6760c85e",
   "metadata": {},
   "outputs": [
    {
     "data": {
      "text/plain": [
       "'apple banana'"
      ]
     },
     "execution_count": 50,
     "metadata": {},
     "output_type": "execute_result"
    }
   ],
   "source": [
    "' '.join(tmp)"
   ]
  },
  {
   "cell_type": "code",
   "execution_count": 51,
   "id": "8cc76af0",
   "metadata": {},
   "outputs": [
    {
     "data": {
      "text/plain": [
       "0    [(010, 3456, 3234)]\n",
       "1     [(02, 3459, 3424)]\n",
       "2    [(032, 3242, 1533)]\n",
       "Name: 0, dtype: object"
      ]
     },
     "execution_count": 51,
     "metadata": {},
     "output_type": "execute_result"
    }
   ],
   "source": [
    "phone_number_df[0].str.findall('([0-9]+)-([0-9]+)-([0-9]+)')"
   ]
  },
  {
   "cell_type": "code",
   "execution_count": 53,
   "id": "bcc837ab",
   "metadata": {},
   "outputs": [
    {
     "data": {
      "text/html": [
       "<div>\n",
       "<style scoped>\n",
       "    .dataframe tbody tr th:only-of-type {\n",
       "        vertical-align: middle;\n",
       "    }\n",
       "\n",
       "    .dataframe tbody tr th {\n",
       "        vertical-align: top;\n",
       "    }\n",
       "\n",
       "    .dataframe thead th {\n",
       "        text-align: right;\n",
       "    }\n",
       "</style>\n",
       "<table border=\"1\" class=\"dataframe\">\n",
       "  <thead>\n",
       "    <tr style=\"text-align: right;\">\n",
       "      <th></th>\n",
       "      <th>0</th>\n",
       "      <th>1</th>\n",
       "      <th>2</th>\n",
       "    </tr>\n",
       "  </thead>\n",
       "  <tbody>\n",
       "    <tr>\n",
       "      <th>0</th>\n",
       "      <td>010</td>\n",
       "      <td>3456</td>\n",
       "      <td>3234</td>\n",
       "    </tr>\n",
       "    <tr>\n",
       "      <th>1</th>\n",
       "      <td>02</td>\n",
       "      <td>3459</td>\n",
       "      <td>3424</td>\n",
       "    </tr>\n",
       "    <tr>\n",
       "      <th>2</th>\n",
       "      <td>032</td>\n",
       "      <td>3242</td>\n",
       "      <td>1533</td>\n",
       "    </tr>\n",
       "  </tbody>\n",
       "</table>\n",
       "</div>"
      ],
      "text/plain": [
       "     0     1     2\n",
       "0  010  3456  3234\n",
       "1   02  3459  3424\n",
       "2  032  3242  1533"
      ]
     },
     "execution_count": 53,
     "metadata": {},
     "output_type": "execute_result"
    }
   ],
   "source": [
    "phone_number_df[0].str.split('-',expand=True)"
   ]
  },
  {
   "cell_type": "code",
   "execution_count": 114,
   "id": "2d4e16af",
   "metadata": {},
   "outputs": [],
   "source": [
    "### 데이터 변환, .을 미리 제거하기\n",
    "train_data=pd.read_csv('ratings_train.csv',sep=',',encoding='utf8')\n",
    "test_data=pd.read_csv('ratings_test.csv',sep=',',encoding='utf8')"
   ]
  },
  {
   "cell_type": "code",
   "execution_count": 115,
   "id": "3a0fa80e",
   "metadata": {},
   "outputs": [
    {
     "data": {
      "text/html": [
       "<div>\n",
       "<style scoped>\n",
       "    .dataframe tbody tr th:only-of-type {\n",
       "        vertical-align: middle;\n",
       "    }\n",
       "\n",
       "    .dataframe tbody tr th {\n",
       "        vertical-align: top;\n",
       "    }\n",
       "\n",
       "    .dataframe thead th {\n",
       "        text-align: right;\n",
       "    }\n",
       "</style>\n",
       "<table border=\"1\" class=\"dataframe\">\n",
       "  <thead>\n",
       "    <tr style=\"text-align: right;\">\n",
       "      <th></th>\n",
       "      <th>Unnamed: 0</th>\n",
       "      <th>id</th>\n",
       "      <th>document</th>\n",
       "      <th>label</th>\n",
       "    </tr>\n",
       "  </thead>\n",
       "  <tbody>\n",
       "    <tr>\n",
       "      <th>0</th>\n",
       "      <td>0</td>\n",
       "      <td>9976970</td>\n",
       "      <td>아 더빙.. 진짜 짜증나네요 목소리</td>\n",
       "      <td>0</td>\n",
       "    </tr>\n",
       "    <tr>\n",
       "      <th>1</th>\n",
       "      <td>1</td>\n",
       "      <td>3819312</td>\n",
       "      <td>흠...포스터보고 초딩영화줄....오버연기조차 가볍지 않구나</td>\n",
       "      <td>1</td>\n",
       "    </tr>\n",
       "    <tr>\n",
       "      <th>2</th>\n",
       "      <td>2</td>\n",
       "      <td>10265843</td>\n",
       "      <td>너무재밓었다그래서보는것을추천한다</td>\n",
       "      <td>0</td>\n",
       "    </tr>\n",
       "    <tr>\n",
       "      <th>3</th>\n",
       "      <td>3</td>\n",
       "      <td>9045019</td>\n",
       "      <td>교도소 이야기구먼 ..솔직히 재미는 없다..평점 조정</td>\n",
       "      <td>0</td>\n",
       "    </tr>\n",
       "    <tr>\n",
       "      <th>4</th>\n",
       "      <td>4</td>\n",
       "      <td>6483659</td>\n",
       "      <td>사이몬페그의 익살스런 연기가 돋보였던 영화!스파이더맨에서 늙어보이기만 했던 커스틴 ...</td>\n",
       "      <td>1</td>\n",
       "    </tr>\n",
       "    <tr>\n",
       "      <th>...</th>\n",
       "      <td>...</td>\n",
       "      <td>...</td>\n",
       "      <td>...</td>\n",
       "      <td>...</td>\n",
       "    </tr>\n",
       "    <tr>\n",
       "      <th>149995</th>\n",
       "      <td>149995</td>\n",
       "      <td>6222902</td>\n",
       "      <td>인간이 문제지.. 소는 뭔죄인가..</td>\n",
       "      <td>0</td>\n",
       "    </tr>\n",
       "    <tr>\n",
       "      <th>149996</th>\n",
       "      <td>149996</td>\n",
       "      <td>8549745</td>\n",
       "      <td>평점이 너무 낮아서...</td>\n",
       "      <td>1</td>\n",
       "    </tr>\n",
       "    <tr>\n",
       "      <th>149997</th>\n",
       "      <td>149997</td>\n",
       "      <td>9311800</td>\n",
       "      <td>이게 뭐요? 한국인은 거들먹거리고 필리핀 혼혈은 착하다?</td>\n",
       "      <td>0</td>\n",
       "    </tr>\n",
       "    <tr>\n",
       "      <th>149998</th>\n",
       "      <td>149998</td>\n",
       "      <td>2376369</td>\n",
       "      <td>청춘 영화의 최고봉.방황과 우울했던 날들의 자화상</td>\n",
       "      <td>1</td>\n",
       "    </tr>\n",
       "    <tr>\n",
       "      <th>149999</th>\n",
       "      <td>149999</td>\n",
       "      <td>9619869</td>\n",
       "      <td>한국 영화 최초로 수간하는 내용이 담긴 영화</td>\n",
       "      <td>0</td>\n",
       "    </tr>\n",
       "  </tbody>\n",
       "</table>\n",
       "<p>150000 rows × 4 columns</p>\n",
       "</div>"
      ],
      "text/plain": [
       "        Unnamed: 0        id  \\\n",
       "0                0   9976970   \n",
       "1                1   3819312   \n",
       "2                2  10265843   \n",
       "3                3   9045019   \n",
       "4                4   6483659   \n",
       "...            ...       ...   \n",
       "149995      149995   6222902   \n",
       "149996      149996   8549745   \n",
       "149997      149997   9311800   \n",
       "149998      149998   2376369   \n",
       "149999      149999   9619869   \n",
       "\n",
       "                                                 document  label  \n",
       "0                                     아 더빙.. 진짜 짜증나네요 목소리      0  \n",
       "1                       흠...포스터보고 초딩영화줄....오버연기조차 가볍지 않구나      1  \n",
       "2                                       너무재밓었다그래서보는것을추천한다      0  \n",
       "3                           교도소 이야기구먼 ..솔직히 재미는 없다..평점 조정      0  \n",
       "4       사이몬페그의 익살스런 연기가 돋보였던 영화!스파이더맨에서 늙어보이기만 했던 커스틴 ...      1  \n",
       "...                                                   ...    ...  \n",
       "149995                                인간이 문제지.. 소는 뭔죄인가..      0  \n",
       "149996                                      평점이 너무 낮아서...      1  \n",
       "149997                    이게 뭐요? 한국인은 거들먹거리고 필리핀 혼혈은 착하다?      0  \n",
       "149998                        청춘 영화의 최고봉.방황과 우울했던 날들의 자화상      1  \n",
       "149999                           한국 영화 최초로 수간하는 내용이 담긴 영화      0  \n",
       "\n",
       "[150000 rows x 4 columns]"
      ]
     },
     "execution_count": 115,
     "metadata": {},
     "output_type": "execute_result"
    }
   ],
   "source": [
    "train_data"
   ]
  },
  {
   "cell_type": "code",
   "execution_count": 95,
   "id": "2200caff",
   "metadata": {},
   "outputs": [],
   "source": [
    "email_pattern = '([a-zA-Z0-9_.+-]+@[a-zA-Z0-9-]+\\.[a-zA-Z0-9-.]+)'\n",
    "url_pattern = '(http|ftp|https)://(?:[-\\w.]|(?:%[\\da-fA-F]{2}))+'\n",
    "sperate_pattern = '([ㄱ-ㅎㅏ-ㅣ]+)'\n",
    "HTML_tag_pattern= '<[^>]*>'\n",
    "special_pattern='[^\\w\\s]'"
   ]
  },
  {
   "cell_type": "code",
   "execution_count": 116,
   "id": "b1395c74",
   "metadata": {},
   "outputs": [
    {
     "name": "stderr",
     "output_type": "stream",
     "text": [
      "/tmp/ipykernel_3645/3011231259.py:1: FutureWarning: The default value of regex will change from True to False in a future version.\n",
      "  train_data['documentre']=train_data['document'].str.replace(email_pattern,'')\n",
      "/tmp/ipykernel_3645/3011231259.py:2: FutureWarning: The default value of regex will change from True to False in a future version.\n",
      "  train_data['documentre']=train_data['documentre'].str.replace(url_pattern,'')\n",
      "/tmp/ipykernel_3645/3011231259.py:3: FutureWarning: The default value of regex will change from True to False in a future version.\n",
      "  train_data['documentre']=train_data['documentre'].str.replace(sperate_pattern,'')\n",
      "/tmp/ipykernel_3645/3011231259.py:4: FutureWarning: The default value of regex will change from True to False in a future version.\n",
      "  train_data['documentre']=train_data['documentre'].str.replace(HTML_tag_pattern,'')\n",
      "/tmp/ipykernel_3645/3011231259.py:5: FutureWarning: The default value of regex will change from True to False in a future version.\n",
      "  train_data['documentre']=train_data['documentre'].str.replace(special_pattern,'')\n"
     ]
    }
   ],
   "source": [
    "train_data['documentre']=train_data['document'].str.replace(email_pattern,'')\n",
    "train_data['documentre']=train_data['documentre'].str.replace(url_pattern,'')\n",
    "train_data['documentre']=train_data['documentre'].str.replace(sperate_pattern,'')\n",
    "train_data['documentre']=train_data['documentre'].str.replace(HTML_tag_pattern,'')\n",
    "train_data['documentre']=train_data['documentre'].str.replace(special_pattern,'')"
   ]
  },
  {
   "cell_type": "code",
   "execution_count": 112,
   "id": "5522b163",
   "metadata": {},
   "outputs": [
    {
     "data": {
      "text/plain": [
       "0                                       아 더빙.. 진짜 짜증나네요 목소리\n",
       "1                         흠...포스터보고 초딩영화줄....오버연기조차 가볍지 않구나\n",
       "2                                         너무재밓었다그래서보는것을추천한다\n",
       "3                             교도소 이야기구먼 ..솔직히 재미는 없다..평점 조정\n",
       "4         사이몬페그의 익살스런 연기가 돋보였던 영화!스파이더맨에서 늙어보이기만 했던 커스틴 ...\n",
       "                                ...                        \n",
       "149995                                  인간이 문제지.. 소는 뭔죄인가..\n",
       "149996                                        평점이 너무 낮아서...\n",
       "149997                      이게 뭐요? 한국인은 거들먹거리고 필리핀 혼혈은 착하다?\n",
       "149998                          청춘 영화의 최고봉.방황과 우울했던 날들의 자화상\n",
       "149999                             한국 영화 최초로 수간하는 내용이 담긴 영화\n",
       "Name: document, Length: 150000, dtype: object"
      ]
     },
     "execution_count": 112,
     "metadata": {},
     "output_type": "execute_result"
    }
   ],
   "source": [
    "train_data['document']"
   ]
  },
  {
   "cell_type": "code",
   "execution_count": 117,
   "id": "079b060a",
   "metadata": {},
   "outputs": [
    {
     "name": "stderr",
     "output_type": "stream",
     "text": [
      "/tmp/ipykernel_3645/474021862.py:1: UserWarning: This pattern is interpreted as a regular expression, and has match groups. To actually get the groups, use str.extract.\n",
      "  train_data['document'].str.contains(\"([.]+)\")\n"
     ]
    },
    {
     "data": {
      "text/plain": [
       "0          True\n",
       "1          True\n",
       "2         False\n",
       "3          True\n",
       "4         False\n",
       "          ...  \n",
       "149995     True\n",
       "149996     True\n",
       "149997    False\n",
       "149998     True\n",
       "149999    False\n",
       "Name: document, Length: 150000, dtype: object"
      ]
     },
     "execution_count": 117,
     "metadata": {},
     "output_type": "execute_result"
    }
   ],
   "source": [
    "train_data['document'].str.contains(\"([.]+)\")"
   ]
  },
  {
   "cell_type": "code",
   "execution_count": 118,
   "id": "994a198c",
   "metadata": {},
   "outputs": [
    {
     "name": "stderr",
     "output_type": "stream",
     "text": [
      "/tmp/ipykernel_3645/3340452938.py:1: FutureWarning: The default value of regex will change from True to False in a future version.\n",
      "  train_data['documentre']=train_data['documentre'].str.replace('good|굳','굿')\n"
     ]
    }
   ],
   "source": [
    "train_data['documentre']=train_data['documentre'].str.replace('good|굳','굿')"
   ]
  },
  {
   "cell_type": "code",
   "execution_count": 128,
   "id": "e81869b0",
   "metadata": {},
   "outputs": [
    {
     "data": {
      "text/html": [
       "<div>\n",
       "<style scoped>\n",
       "    .dataframe tbody tr th:only-of-type {\n",
       "        vertical-align: middle;\n",
       "    }\n",
       "\n",
       "    .dataframe tbody tr th {\n",
       "        vertical-align: top;\n",
       "    }\n",
       "\n",
       "    .dataframe thead th {\n",
       "        text-align: right;\n",
       "    }\n",
       "</style>\n",
       "<table border=\"1\" class=\"dataframe\">\n",
       "  <thead>\n",
       "    <tr style=\"text-align: right;\">\n",
       "      <th></th>\n",
       "      <th>Unnamed: 0</th>\n",
       "      <th>id</th>\n",
       "      <th>document</th>\n",
       "      <th>label</th>\n",
       "      <th>documentre</th>\n",
       "    </tr>\n",
       "  </thead>\n",
       "  <tbody>\n",
       "    <tr>\n",
       "      <th>5</th>\n",
       "      <td>5</td>\n",
       "      <td>5403919</td>\n",
       "      <td>막 걸음마 뗀 3세부터 초등학교 1학년생인 8살용영화.ㅋㅋㅋ...별반개도 아까움.</td>\n",
       "      <td>0</td>\n",
       "      <td>막 걸음마 뗀 3세부터 초등학교 1학년생인 8살용영화별반개도 아까움</td>\n",
       "    </tr>\n",
       "    <tr>\n",
       "      <th>15</th>\n",
       "      <td>15</td>\n",
       "      <td>6852435</td>\n",
       "      <td>ㄱ냥 매번 긴장되고 재밋음ㅠㅠ</td>\n",
       "      <td>1</td>\n",
       "      <td>냥 매번 긴장되고 재밋음</td>\n",
       "    </tr>\n",
       "    <tr>\n",
       "      <th>22</th>\n",
       "      <td>22</td>\n",
       "      <td>9705777</td>\n",
       "      <td>재미없다 지루하고. 같은 음식 영화인데도 바베트의 만찬하고 넘 차이남....바베트의...</td>\n",
       "      <td>0</td>\n",
       "      <td>재미없다 지루하고 같은 음식 영화인데도 바베트의 만찬하고 넘 차이남바베트의 만찬은 ...</td>\n",
       "    </tr>\n",
       "    <tr>\n",
       "      <th>31</th>\n",
       "      <td>31</td>\n",
       "      <td>9005897</td>\n",
       "      <td>졸쓰레기 진부하고말도안됌ㅋㅋ 아..시간아까워</td>\n",
       "      <td>0</td>\n",
       "      <td>졸쓰레기 진부하고말도안됌 아시간아까워</td>\n",
       "    </tr>\n",
       "    <tr>\n",
       "      <th>41</th>\n",
       "      <td>41</td>\n",
       "      <td>9994900</td>\n",
       "      <td>'다 알바생인가 내용도 없고 무서운거도 없고 웃긴거도 하나도 없음 완전 별싱거운 영...</td>\n",
       "      <td>0</td>\n",
       "      <td>다 알바생인가 내용도 없고 무서운거도 없고 웃긴거도 하나도 없음 완전 별싱거운 영화...</td>\n",
       "    </tr>\n",
       "    <tr>\n",
       "      <th>...</th>\n",
       "      <td>...</td>\n",
       "      <td>...</td>\n",
       "      <td>...</td>\n",
       "      <td>...</td>\n",
       "      <td>...</td>\n",
       "    </tr>\n",
       "    <tr>\n",
       "      <th>149956</th>\n",
       "      <td>149956</td>\n",
       "      <td>9262820</td>\n",
       "      <td>초반엔 괜찮을줄알았다...갈수록 이런막장이라니ㅡㅡ</td>\n",
       "      <td>0</td>\n",
       "      <td>초반엔 괜찮을줄알았다갈수록 이런막장이라니</td>\n",
       "    </tr>\n",
       "    <tr>\n",
       "      <th>149957</th>\n",
       "      <td>149957</td>\n",
       "      <td>8708717</td>\n",
       "      <td>초코케이크 때문에 10점ㅋㅋㅋ 마틸다 재밋게 봄^^</td>\n",
       "      <td>1</td>\n",
       "      <td>초코케이크 때문에 10점 마틸다 재밋게 봄</td>\n",
       "    </tr>\n",
       "    <tr>\n",
       "      <th>149965</th>\n",
       "      <td>149965</td>\n",
       "      <td>9907479</td>\n",
       "      <td>ㄱ, ㅈ같ㅇ ㅍㄹㄱ 섹귀들~!!!</td>\n",
       "      <td>1</td>\n",
       "      <td>같  섹귀들</td>\n",
       "    </tr>\n",
       "    <tr>\n",
       "      <th>149982</th>\n",
       "      <td>149982</td>\n",
       "      <td>9845927</td>\n",
       "      <td>평점너무낮아서 십점줌ㅋㅋㅋㅋ난진짜재밌던데 이런가벼운영화도 한번씩보면좋을듯</td>\n",
       "      <td>1</td>\n",
       "      <td>평점너무낮아서 십점줌난진짜재밌던데 이런가벼운영화도 한번씩보면좋을듯</td>\n",
       "    </tr>\n",
       "    <tr>\n",
       "      <th>149992</th>\n",
       "      <td>149992</td>\n",
       "      <td>9335962</td>\n",
       "      <td>공포나 재난영화가 아니라 아예 대놓고 비급 크리쳐개그물임ㅋㅋ 음악 완전 흥겹다ㅋ 5...</td>\n",
       "      <td>0</td>\n",
       "      <td>공포나 재난영화가 아니라 아예 대놓고 비급 크리쳐개그물임 음악 완전 흥겹다 5점정도...</td>\n",
       "    </tr>\n",
       "  </tbody>\n",
       "</table>\n",
       "<p>21566 rows × 5 columns</p>\n",
       "</div>"
      ],
      "text/plain": [
       "        Unnamed: 0       id  \\\n",
       "5                5  5403919   \n",
       "15              15  6852435   \n",
       "22              22  9705777   \n",
       "31              31  9005897   \n",
       "41              41  9994900   \n",
       "...            ...      ...   \n",
       "149956      149956  9262820   \n",
       "149957      149957  8708717   \n",
       "149965      149965  9907479   \n",
       "149982      149982  9845927   \n",
       "149992      149992  9335962   \n",
       "\n",
       "                                                 document  label  \\\n",
       "5           막 걸음마 뗀 3세부터 초등학교 1학년생인 8살용영화.ㅋㅋㅋ...별반개도 아까움.      0   \n",
       "15                                       ㄱ냥 매번 긴장되고 재밋음ㅠㅠ      1   \n",
       "22      재미없다 지루하고. 같은 음식 영화인데도 바베트의 만찬하고 넘 차이남....바베트의...      0   \n",
       "31                               졸쓰레기 진부하고말도안됌ㅋㅋ 아..시간아까워      0   \n",
       "41      '다 알바생인가 내용도 없고 무서운거도 없고 웃긴거도 하나도 없음 완전 별싱거운 영...      0   \n",
       "...                                                   ...    ...   \n",
       "149956                        초반엔 괜찮을줄알았다...갈수록 이런막장이라니ㅡㅡ      0   \n",
       "149957                       초코케이크 때문에 10점ㅋㅋㅋ 마틸다 재밋게 봄^^      1   \n",
       "149965                                 ㄱ, ㅈ같ㅇ ㅍㄹㄱ 섹귀들~!!!      1   \n",
       "149982           평점너무낮아서 십점줌ㅋㅋㅋㅋ난진짜재밌던데 이런가벼운영화도 한번씩보면좋을듯      1   \n",
       "149992  공포나 재난영화가 아니라 아예 대놓고 비급 크리쳐개그물임ㅋㅋ 음악 완전 흥겹다ㅋ 5...      0   \n",
       "\n",
       "                                               documentre  \n",
       "5                   막 걸음마 뗀 3세부터 초등학교 1학년생인 8살용영화별반개도 아까움  \n",
       "15                                          냥 매번 긴장되고 재밋음  \n",
       "22      재미없다 지루하고 같은 음식 영화인데도 바베트의 만찬하고 넘 차이남바베트의 만찬은 ...  \n",
       "31                                   졸쓰레기 진부하고말도안됌 아시간아까워  \n",
       "41      다 알바생인가 내용도 없고 무서운거도 없고 웃긴거도 하나도 없음 완전 별싱거운 영화...  \n",
       "...                                                   ...  \n",
       "149956                             초반엔 괜찮을줄알았다갈수록 이런막장이라니  \n",
       "149957                            초코케이크 때문에 10점 마틸다 재밋게 봄  \n",
       "149965                                             같  섹귀들  \n",
       "149982               평점너무낮아서 십점줌난진짜재밌던데 이런가벼운영화도 한번씩보면좋을듯  \n",
       "149992  공포나 재난영화가 아니라 아예 대놓고 비급 크리쳐개그물임 음악 완전 흥겹다 5점정도...  \n",
       "\n",
       "[21566 rows x 5 columns]"
      ]
     },
     "execution_count": 128,
     "metadata": {},
     "output_type": "execute_result"
    }
   ],
   "source": [
    "train_data=train_data.dropna()\n",
    "train_data[(train_data['document'].str.contains('[ㄱ-ㅎㅏ-ㅣ]+'))]"
   ]
  },
  {
   "cell_type": "code",
   "execution_count": null,
   "id": "b1a50278",
   "metadata": {},
   "outputs": [],
   "source": []
  }
 ],
 "metadata": {
  "kernelspec": {
   "display_name": "Python 3 (ipykernel)",
   "language": "python",
   "name": "python3"
  },
  "language_info": {
   "codemirror_mode": {
    "name": "ipython",
    "version": 3
   },
   "file_extension": ".py",
   "mimetype": "text/x-python",
   "name": "python",
   "nbconvert_exporter": "python",
   "pygments_lexer": "ipython3",
   "version": "3.10.10"
  }
 },
 "nbformat": 4,
 "nbformat_minor": 5
}
