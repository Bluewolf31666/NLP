{
 "cells": [
  {
   "cell_type": "markdown",
   "id": "0b6fffda",
   "metadata": {},
   "source": [
    "### 개체명 인식\n",
    "\n",
    "* 도메인 또는 특정 목저(텍스트 마이닝)에 맞게 개체명 인식\n",
    "* 과거\n",
    "    - 구문분석 : \n",
    "        * 오늘 여러분은 점심 식사 이후에 12시 45분에 맞은편 커피숍인 빽다방 앞으로 오시면 커피를 드실 수 있습니다.\n",
    "        * 1딘계 : 토크나이징\n",
    "        * 2단계 : 품사를 태깅\n",
    "        * 3단계 : 문법적 관계 파악: 주어 동사 목적어 보어\n",
    "        * 4단계 : 주어에 있는 개체명 인식/ 목적에 있는 개체명 인식/ 보어에 있는 개체명 인식\n",
    "        * 5단계 : 개체명으로 추정되는 데이터를 선택 예) '커피를'\n",
    "        * 6단계 : (예: 가게명에 대한 개체명 인식) 뻭다방/ (예: 음식과 관련된 개체명 인식) 커피\n",
    "        * 7단계 : 어떤 개체명인지 판단\n",
    "        - 단점: 소요시간, 새로운 데이터가 들어왔을 때 인식이 어려움(유지보수가 필요)\n",
    "* 딥러닝\n",
    "    * 1단계: 훈련데이터셋 만들기\n",
    "        * 1-1단계 : 토크나이징\n",
    "        * 1-2 단계 :BIO 표현으로 라벨링 ( 아모레 퍼시픽 )\n",
    "            - BIO: Begin(개체명의 시작되는 부분) (아모레), Inside(개체명의 내부부분) (퍼시픽), Outside(개체명이 아닌부분) (나머지)\n",
    "    * 2단계: 모델 훈련하기\n",
    "        - RNN, LSTM, GRU\n",
    "    - 장점 : 소요시간 다소 줄었음 . 신규 데이터에 대한 개체명 인식 가능\n",
    "            "
   ]
  },
  {
   "cell_type": "code",
   "execution_count": 50,
   "id": "318412e8",
   "metadata": {},
   "outputs": [],
   "source": [
    "import re\n",
    "import urllib.request"
   ]
  },
  {
   "cell_type": "code",
   "execution_count": 51,
   "id": "4c62e1d2",
   "metadata": {},
   "outputs": [
    {
     "data": {
      "text/plain": [
       "('train.txt', <http.client.HTTPMessage at 0x7f1fdfa6c520>)"
      ]
     },
     "execution_count": 51,
     "metadata": {},
     "output_type": "execute_result"
    }
   ],
   "source": [
    "urllib.request.urlretrieve(\"https://raw.githubusercontent.com/ukairia777/tensorflow-nlp-tutorial/main/12.%20RNN%20Sequence%20Labeling/dataset/train.txt\",\n",
    "                          filename=\"train.txt\")"
   ]
  },
  {
   "cell_type": "code",
   "execution_count": 52,
   "id": "74a066dd",
   "metadata": {},
   "outputs": [],
   "source": [
    "f = open(\"train.txt\", 'r')\n",
    "tagged_sentences=[]\n",
    "sentence= []\n",
    "\n",
    "for line in f:\n",
    "    if len(line)==0 or line.startswith('-DOCSTART') or line[0]=='\\n':\n",
    "        if len(sentence) >0:\n",
    "            tagged_sentences.append(sentence)\n",
    "            sentence = []\n",
    "        continue\n",
    "    splits = line.split(' ') #공백 기준으로 속성 분리\n",
    "    splits[-1] = re.sub(\"\\n\",\"\",splits[-1]) #BIO 태깅 부분 개행문자 제거\n",
    "    word = splits[0].lower() #소문자로 변경\n",
    "    sentence.append([word, splits[-1]])# 단어와 개체명 태깅만 저장\n",
    "    "
   ]
  },
  {
   "cell_type": "code",
   "execution_count": 53,
   "id": "3173371a",
   "metadata": {},
   "outputs": [
    {
     "name": "stdout",
     "output_type": "stream",
     "text": [
      "14041\n"
     ]
    }
   ],
   "source": [
    "print(len(tagged_sentences))"
   ]
  },
  {
   "cell_type": "code",
   "execution_count": 54,
   "id": "33e33074",
   "metadata": {},
   "outputs": [
    {
     "data": {
      "text/plain": [
       "[['eu', 'B-ORG'],\n",
       " ['rejects', 'O'],\n",
       " ['german', 'B-MISC'],\n",
       " ['call', 'O'],\n",
       " ['to', 'O'],\n",
       " ['boycott', 'O'],\n",
       " ['british', 'B-MISC'],\n",
       " ['lamb', 'O'],\n",
       " ['.', 'O']]"
      ]
     },
     "execution_count": 54,
     "metadata": {},
     "output_type": "execute_result"
    }
   ],
   "source": [
    "tagged_sentences[0]"
   ]
  },
  {
   "cell_type": "code",
   "execution_count": 55,
   "id": "ac5a80f1",
   "metadata": {},
   "outputs": [
    {
     "data": {
      "text/plain": [
       "(('eu', 'rejects', 'german', 'call', 'to', 'boycott', 'british', 'lamb', '.'),\n",
       " ('B-ORG', 'O', 'B-MISC', 'O', 'O', 'O', 'B-MISC', 'O', 'O'))"
      ]
     },
     "execution_count": 55,
     "metadata": {},
     "output_type": "execute_result"
    }
   ],
   "source": [
    "# 단어만 , 태깅만 데이터를 묶음\n",
    "sentence, tag_info = zip(*tagged_sentences[0])\n",
    "sentence, tag_info"
   ]
  },
  {
   "cell_type": "code",
   "execution_count": 56,
   "id": "5e624e94",
   "metadata": {},
   "outputs": [],
   "source": [
    "sentences, nar_tag = [], []\n",
    "for tagged_sentence in tagged_sentences :\n",
    "    sentence, tag_info = zip(*tagged_sentence)\n",
    "    sentences.append(list(sentence))#단어정보\n",
    "    nar_tag.append(list(tag_info)) #개체명 정보"
   ]
  },
  {
   "cell_type": "code",
   "execution_count": 57,
   "id": "dd4e13df",
   "metadata": {},
   "outputs": [
    {
     "data": {
      "text/plain": [
       "['eu', 'rejects', 'german', 'call', 'to', 'boycott', 'british', 'lamb', '.']"
      ]
     },
     "execution_count": 57,
     "metadata": {},
     "output_type": "execute_result"
    }
   ],
   "source": [
    "sentences[0]"
   ]
  },
  {
   "cell_type": "markdown",
   "id": "b94451a5",
   "metadata": {},
   "source": [
    "### 개체명 인식을 위한 전처리"
   ]
  },
  {
   "cell_type": "code",
   "execution_count": 58,
   "id": "2e7648e7",
   "metadata": {},
   "outputs": [],
   "source": [
    "import re\n",
    "import numpy as np\n",
    "import matplotlib.pyplot as plt\n",
    "import urllib.request\n",
    "\n",
    "from tensorflow.keras.preprocessing.text import Tokenizer\n",
    "from tensorflow.keras.preprocessing.sequence import pad_sequences #문장 간 길이 조절\n",
    "from tensorflow.keras.utils import to_categorical\n",
    "from sklearn.model_selection import train_test_split"
   ]
  },
  {
   "cell_type": "code",
   "execution_count": 59,
   "id": "6c571595",
   "metadata": {},
   "outputs": [],
   "source": [
    "vacab_size = 4000"
   ]
  },
  {
   "cell_type": "code",
   "execution_count": 60,
   "id": "9b53b631",
   "metadata": {},
   "outputs": [],
   "source": [
    "src_tokenizer = Tokenizer(num_words=vacab_size, oov_token='OOV')\n",
    "src_tokenizer.fit_on_texts(sentences)\n",
    "\n",
    "tar_tokenizer = Tokenizer()\n",
    "tar_tokenizer.fit_on_texts(nar_tag)"
   ]
  },
  {
   "cell_type": "code",
   "execution_count": 61,
   "id": "1d3cbc79",
   "metadata": {},
   "outputs": [
    {
     "name": "stdout",
     "output_type": "stream",
     "text": [
      "4000\n",
      "10\n"
     ]
    }
   ],
   "source": [
    "tag_size= len(tar_tokenizer.word_index) +1\n",
    "# 단어집합의 크기\n",
    "print(vacab_size)\n",
    "# 개체명 태깅 정보 집합 크기/라벨\n",
    "print(tag_size)"
   ]
  },
  {
   "cell_type": "code",
   "execution_count": 62,
   "id": "cb967c3a",
   "metadata": {},
   "outputs": [],
   "source": [
    "#정수 인코딩\n",
    "X_train= src_tokenizer.texts_to_sequences(sentences)\n",
    "y_train= tar_tokenizer.texts_to_sequences(nar_tag)"
   ]
  },
  {
   "cell_type": "code",
   "execution_count": 63,
   "id": "a846bfd4",
   "metadata": {},
   "outputs": [
    {
     "data": {
      "text/plain": [
       "([989, 1, 205, 629, 7, 3939, 216, 1, 3], [4, 1, 7, 1, 1, 1, 7, 1, 1])"
      ]
     },
     "execution_count": 63,
     "metadata": {},
     "output_type": "execute_result"
    }
   ],
   "source": [
    "X_train[0], y_train[0]"
   ]
  },
  {
   "cell_type": "code",
   "execution_count": 64,
   "id": "5ba43b18",
   "metadata": {},
   "outputs": [
    {
     "name": "stdout",
     "output_type": "stream",
     "text": [
      "기존 문장 : ['eu', 'rejects', 'german', 'call', 'to', 'boycott', 'british', 'lamb', '.']\n",
      "빈도수가 낮은 문장은 OOV로 표현됨 :['eu', 'OOV', 'german', 'call', 'to', 'boycott', 'british', 'OOV', '.']\n"
     ]
    }
   ],
   "source": [
    "# 원문 데이터\n",
    "index_to_word= src_tokenizer.index_word\n",
    "index_to_ner=tar_tokenizer.index_word\n",
    "\n",
    "decoded = []\n",
    "\n",
    "for index in X_train[0]:\n",
    "    decoded.append(index_to_word[index])\n",
    "print (f'기존 문장 : {sentences[0]}')   \n",
    "print(f'빈도수가 낮은 문장은 OOV로 표현됨 :{decoded}')"
   ]
  },
  {
   "cell_type": "code",
   "execution_count": 65,
   "id": "3132ea69",
   "metadata": {},
   "outputs": [],
   "source": [
    "# 텍스트의 각 문장들의 길이가 다르기 떄문에 padding으로 모두 길이가 같게 조정\n",
    "max_len=70\n",
    "X_train = pad_sequences(X_train,padding='post', maxlen=max_len)\n",
    "y_train = pad_sequences(y_train,padding='post',maxlen=max_len)"
   ]
  },
  {
   "cell_type": "code",
   "execution_count": 66,
   "id": "1de765ce",
   "metadata": {},
   "outputs": [],
   "source": [
    "# 훈련 데이터 셋과 테스트 데이터 셋 분리\n",
    "X_train, X_test, y_train, y_test = train_test_split(X_train,y_train, test_size=0.3, random_state=42)"
   ]
  },
  {
   "cell_type": "code",
   "execution_count": 67,
   "id": "d3d562ad",
   "metadata": {},
   "outputs": [],
   "source": [
    "# 원핫 인코딩\n",
    "y_train = to_categorical(y_train, num_classes=tag_size)\n",
    "y_test = to_categorical(y_test, num_classes=tag_size)"
   ]
  },
  {
   "cell_type": "code",
   "execution_count": 68,
   "id": "971a8af0",
   "metadata": {},
   "outputs": [
    {
     "name": "stdout",
     "output_type": "stream",
     "text": [
      "훈련 데이터 문장의 크기 :  (9828, 70)\n",
      "훈련 데이터 태깅/라벨의 크기 :  (9828, 70, 10)\n",
      "테스트 데이터 문장의 크기 :  (4213, 70)\n",
      "테스트 데이터 태깅/라벨의 크기 :  (4213, 70, 10)\n"
     ]
    }
   ],
   "source": [
    "# 훈련 데이터 셋과 테스트 데이터 셋의 shape 확인\n",
    "print('훈련 데이터 문장의 크기 : ', X_train.shape)\n",
    "print('훈련 데이터 태깅/라벨의 크기 : ', y_train.shape)\n",
    "print('테스트 데이터 문장의 크기 : ', X_test.shape)\n",
    "print('테스트 데이터 태깅/라벨의 크기 : ', y_test.shape)"
   ]
  },
  {
   "cell_type": "code",
   "execution_count": 69,
   "id": "07219900",
   "metadata": {},
   "outputs": [],
   "source": [
    "from tensorflow.keras.models import Sequential\n",
    "from tensorflow.keras.layers import Dense, Embedding, LSTM, Bidirectional, TimeDistributed\n",
    "from tensorflow.keras.optimizers import Adam\n",
    "from tensorflow.keras.callbacks import EarlyStopping, ModelCheckpoint"
   ]
  },
  {
   "cell_type": "code",
   "execution_count": 70,
   "id": "ca3ba49c",
   "metadata": {},
   "outputs": [],
   "source": [
    "from tensorflow import random as tf_ramdom, constant_initializer\n",
    "import random\n",
    "import numpy as np\n",
    "#모델의 훈련 결과가 동일하게 나오도록 random_seed 값을 초기화\n",
    "def reset_model_random():\n",
    "    random_seed_num=0\n",
    "    tf_ramdom.set_seed(random_seed_num)\n",
    "    np.random.seed(random_seed_num)\n",
    "    random.seed(random_seed_num)\n",
    "    constant_initializer()"
   ]
  },
  {
   "cell_type": "code",
   "execution_count": 71,
   "id": "b7defe05",
   "metadata": {},
   "outputs": [],
   "source": [
    "embedding_dim= 128\n",
    "hidden_units= 128"
   ]
  },
  {
   "cell_type": "code",
   "execution_count": 74,
   "id": "e1f9ccf1",
   "metadata": {},
   "outputs": [],
   "source": [
    "model= Sequential()\n",
    "model.add(Embedding(input_dim=vacab_size, output_dim=embedding_dim, input_length=max_len, mask_zero=True))\n",
    "model.add(Bidirectional(LSTM(hidden_units, return_sequences=True)))\n",
    "model.add(TimeDistributed(Dense(tag_size, activation='softmax')))\n",
    "#TimeDistributed() : LSTM을 다 vs 다로 구조로 출력"
   ]
  },
  {
   "cell_type": "code",
   "execution_count": 75,
   "id": "d28071c3",
   "metadata": {},
   "outputs": [
    {
     "name": "stdout",
     "output_type": "stream",
     "text": [
      "Model: \"sequential_1\"\n",
      "_________________________________________________________________\n",
      " Layer (type)                Output Shape              Param #   \n",
      "=================================================================\n",
      " embedding (Embedding)       (None, 70, 128)           512000    \n",
      "                                                                 \n",
      " bidirectional (Bidirectiona  (None, 70, 256)          263168    \n",
      " l)                                                              \n",
      "                                                                 \n",
      " time_distributed (TimeDistr  (None, 70, 10)           2570      \n",
      " ibuted)                                                         \n",
      "                                                                 \n",
      "=================================================================\n",
      "Total params: 777,738\n",
      "Trainable params: 777,738\n",
      "Non-trainable params: 0\n",
      "_________________________________________________________________\n"
     ]
    }
   ],
   "source": [
    "model.summary()"
   ]
  },
  {
   "cell_type": "code",
   "execution_count": 78,
   "id": "0a9e6ab5",
   "metadata": {},
   "outputs": [
    {
     "name": "stdout",
     "output_type": "stream",
     "text": [
      "Epoch 1/8\n"
     ]
    },
    {
     "name": "stderr",
     "output_type": "stream",
     "text": [
      "2023-05-12 04:23:29.968559: I tensorflow/core/common_runtime/executor.cc:1197] [/device:CPU:0] (DEBUG INFO) Executor start aborting (this does not indicate an error and you can ignore this message): INVALID_ARGUMENT: You must feed a value for placeholder tensor 'gradients/ReverseV2_grad/ReverseV2/ReverseV2/axis' with dtype int32 and shape [1]\n",
      "\t [[{{node gradients/ReverseV2_grad/ReverseV2/ReverseV2/axis}}]]\n",
      "2023-05-12 04:23:31.362578: I tensorflow/core/common_runtime/executor.cc:1197] [/device:CPU:0] (DEBUG INFO) Executor start aborting (this does not indicate an error and you can ignore this message): INVALID_ARGUMENT: You must feed a value for placeholder tensor 'gradients/ReverseV2_grad/ReverseV2/ReverseV2/axis' with dtype int32 and shape [1]\n",
      "\t [[{{node gradients/ReverseV2_grad/ReverseV2/ReverseV2/axis}}]]\n"
     ]
    },
    {
     "name": "stdout",
     "output_type": "stream",
     "text": [
      "77/77 [==============================] - 13s 117ms/step - loss: 0.1076 - accuracy: 0.9680 - val_loss: 0.1641 - val_accuracy: 0.9550\n",
      "Epoch 2/8\n",
      "77/77 [==============================] - 8s 102ms/step - loss: 0.0936 - accuracy: 0.9725 - val_loss: 0.1652 - val_accuracy: 0.9556\n",
      "Epoch 3/8\n",
      "77/77 [==============================] - 8s 101ms/step - loss: 0.0854 - accuracy: 0.9744 - val_loss: 0.1654 - val_accuracy: 0.9564\n",
      "Epoch 4/8\n",
      "77/77 [==============================] - 8s 101ms/step - loss: 0.0759 - accuracy: 0.9772 - val_loss: 0.1675 - val_accuracy: 0.9551\n",
      "Epoch 5/8\n",
      "77/77 [==============================] - 8s 101ms/step - loss: 0.0671 - accuracy: 0.9801 - val_loss: 0.1705 - val_accuracy: 0.9541\n",
      "Epoch 6/8\n",
      "77/77 [==============================] - 8s 101ms/step - loss: 0.0607 - accuracy: 0.9821 - val_loss: 0.1746 - val_accuracy: 0.9565\n",
      "Epoch 7/8\n",
      "77/77 [==============================] - 8s 101ms/step - loss: 0.0548 - accuracy: 0.9839 - val_loss: 0.1797 - val_accuracy: 0.9540\n",
      "Epoch 8/8\n",
      "77/77 [==============================] - 8s 102ms/step - loss: 0.0474 - accuracy: 0.9863 - val_loss: 0.1890 - val_accuracy: 0.9517\n"
     ]
    }
   ],
   "source": [
    "reset_model_random()\n",
    "\n",
    "es= EarlyStopping(patience=2, monitor='accuracy')\n",
    "mc= ModelCheckpoint(\"NER_model.h5\", save_best_only=True)\n",
    "\n",
    "model.compile(loss='categorical_crossentropy', optimizer=Adam(0.001), metrics=['accuracy'])\n",
    "\n",
    "history = model.fit(X_train,y_train, batch_size=128,epochs=8, validation_data=(X_test,y_test)\n",
    "                   ,callbacks=[es,mc])"
   ]
  },
  {
   "cell_type": "code",
   "execution_count": 80,
   "id": "0184552e",
   "metadata": {},
   "outputs": [
    {
     "data": {
      "text/plain": [
       "{'loss': [0.1076156497001648,\n",
       "  0.09362948685884476,\n",
       "  0.08539018034934998,\n",
       "  0.07586663961410522,\n",
       "  0.06705216318368912,\n",
       "  0.06070725619792938,\n",
       "  0.05480876937508583,\n",
       "  0.04738142341375351],\n",
       " 'accuracy': [0.96796053647995,\n",
       "  0.9724546074867249,\n",
       "  0.9744076132774353,\n",
       "  0.9771796464920044,\n",
       "  0.9800707101821899,\n",
       "  0.9821427464485168,\n",
       "  0.983934760093689,\n",
       "  0.9862728118896484],\n",
       " 'val_loss': [0.16407333314418793,\n",
       "  0.1652088165283203,\n",
       "  0.16536372900009155,\n",
       "  0.1675347536802292,\n",
       "  0.17047347128391266,\n",
       "  0.17464490234851837,\n",
       "  0.17965906858444214,\n",
       "  0.18901048600673676],\n",
       " 'val_accuracy': [0.9549534916877747,\n",
       "  0.9556287527084351,\n",
       "  0.956369936466217,\n",
       "  0.9550852179527283,\n",
       "  0.9541299343109131,\n",
       "  0.9564687609672546,\n",
       "  0.9539652466773987,\n",
       "  0.9516593813896179]}"
      ]
     },
     "execution_count": 80,
     "metadata": {},
     "output_type": "execute_result"
    }
   ],
   "source": [
    "history.history"
   ]
  },
  {
   "cell_type": "code",
   "execution_count": 81,
   "id": "ee1d11ba",
   "metadata": {},
   "outputs": [
    {
     "name": "stdout",
     "output_type": "stream",
     "text": [
      "132/132 [==============================] - 2s 14ms/step - loss: 0.1880 - accuracy: 0.9517\n"
     ]
    },
    {
     "data": {
      "text/plain": [
       "[0.18799300491809845, 0.9516593813896179]"
      ]
     },
     "execution_count": 81,
     "metadata": {},
     "output_type": "execute_result"
    }
   ],
   "source": [
    "#모델 평가\n",
    "model.evaluate (X_test, y_test)"
   ]
  },
  {
   "cell_type": "code",
   "execution_count": 82,
   "id": "a61f72b9",
   "metadata": {},
   "outputs": [
    {
     "name": "stdout",
     "output_type": "stream",
     "text": [
      "1/1 [==============================] - 1s 1s/step\n"
     ]
    }
   ],
   "source": [
    "#입력한 테스트용 샘플 데이터 y를 리턴\n",
    "y_predicted = model.predict(np.array([X_test[0]]))\n"
   ]
  },
  {
   "cell_type": "code",
   "execution_count": 83,
   "id": "083bddd0",
   "metadata": {},
   "outputs": [
    {
     "data": {
      "text/plain": [
       "array([[[3.64546476e-10, 9.99989867e-01, 1.36511085e-06, 1.75370246e-07,\n",
       "         1.58650528e-06, 6.63754873e-09, 1.26299852e-07, 3.70170051e-06,\n",
       "         8.78501396e-08, 2.94582037e-06],\n",
       "        [1.02009807e-12, 9.99999762e-01, 1.26269608e-08, 5.37134504e-10,\n",
       "         2.45928566e-09, 3.77602507e-12, 1.39514633e-09, 1.28637510e-07,\n",
       "         3.31148331e-09, 1.01545133e-07],\n",
       "        [1.30335271e-08, 9.96686637e-01, 5.90017939e-04, 2.93726858e-04,\n",
       "         4.99723945e-04, 3.81677836e-08, 6.47259355e-07, 1.92341942e-03,\n",
       "         4.28361773e-07, 5.39477651e-06],\n",
       "        [8.80187005e-02, 1.10491298e-01, 1.08842015e-01, 9.89490077e-02,\n",
       "         1.07820198e-01, 9.15997475e-02, 9.61341038e-02, 1.02968432e-01,\n",
       "         9.61207896e-02, 9.90557447e-02],\n",
       "        [8.80187005e-02, 1.10491298e-01, 1.08842015e-01, 9.89490077e-02,\n",
       "         1.07820198e-01, 9.15997475e-02, 9.61341038e-02, 1.02968432e-01,\n",
       "         9.61207896e-02, 9.90557447e-02],\n",
       "        [8.80187005e-02, 1.10491298e-01, 1.08842015e-01, 9.89490077e-02,\n",
       "         1.07820198e-01, 9.15997475e-02, 9.61341038e-02, 1.02968432e-01,\n",
       "         9.61207896e-02, 9.90557447e-02],\n",
       "        [8.80187005e-02, 1.10491298e-01, 1.08842015e-01, 9.89490077e-02,\n",
       "         1.07820198e-01, 9.15997475e-02, 9.61341038e-02, 1.02968432e-01,\n",
       "         9.61207896e-02, 9.90557447e-02],\n",
       "        [8.80187005e-02, 1.10491298e-01, 1.08842015e-01, 9.89490077e-02,\n",
       "         1.07820198e-01, 9.15997475e-02, 9.61341038e-02, 1.02968432e-01,\n",
       "         9.61207896e-02, 9.90557447e-02],\n",
       "        [8.80187005e-02, 1.10491298e-01, 1.08842015e-01, 9.89490077e-02,\n",
       "         1.07820198e-01, 9.15997475e-02, 9.61341038e-02, 1.02968432e-01,\n",
       "         9.61207896e-02, 9.90557447e-02],\n",
       "        [8.80187005e-02, 1.10491298e-01, 1.08842015e-01, 9.89490077e-02,\n",
       "         1.07820198e-01, 9.15997475e-02, 9.61341038e-02, 1.02968432e-01,\n",
       "         9.61207896e-02, 9.90557447e-02],\n",
       "        [8.80187005e-02, 1.10491298e-01, 1.08842015e-01, 9.89490077e-02,\n",
       "         1.07820198e-01, 9.15997475e-02, 9.61341038e-02, 1.02968432e-01,\n",
       "         9.61207896e-02, 9.90557447e-02],\n",
       "        [8.80187005e-02, 1.10491298e-01, 1.08842015e-01, 9.89490077e-02,\n",
       "         1.07820198e-01, 9.15997475e-02, 9.61341038e-02, 1.02968432e-01,\n",
       "         9.61207896e-02, 9.90557447e-02],\n",
       "        [8.80187005e-02, 1.10491298e-01, 1.08842015e-01, 9.89490077e-02,\n",
       "         1.07820198e-01, 9.15997475e-02, 9.61341038e-02, 1.02968432e-01,\n",
       "         9.61207896e-02, 9.90557447e-02],\n",
       "        [8.80187005e-02, 1.10491298e-01, 1.08842015e-01, 9.89490077e-02,\n",
       "         1.07820198e-01, 9.15997475e-02, 9.61341038e-02, 1.02968432e-01,\n",
       "         9.61207896e-02, 9.90557447e-02],\n",
       "        [8.80187005e-02, 1.10491298e-01, 1.08842015e-01, 9.89490077e-02,\n",
       "         1.07820198e-01, 9.15997475e-02, 9.61341038e-02, 1.02968432e-01,\n",
       "         9.61207896e-02, 9.90557447e-02],\n",
       "        [8.80187005e-02, 1.10491298e-01, 1.08842015e-01, 9.89490077e-02,\n",
       "         1.07820198e-01, 9.15997475e-02, 9.61341038e-02, 1.02968432e-01,\n",
       "         9.61207896e-02, 9.90557447e-02],\n",
       "        [8.80187005e-02, 1.10491298e-01, 1.08842015e-01, 9.89490077e-02,\n",
       "         1.07820198e-01, 9.15997475e-02, 9.61341038e-02, 1.02968432e-01,\n",
       "         9.61207896e-02, 9.90557447e-02],\n",
       "        [8.80187005e-02, 1.10491298e-01, 1.08842015e-01, 9.89490077e-02,\n",
       "         1.07820198e-01, 9.15997475e-02, 9.61341038e-02, 1.02968432e-01,\n",
       "         9.61207896e-02, 9.90557447e-02],\n",
       "        [8.80187005e-02, 1.10491298e-01, 1.08842015e-01, 9.89490077e-02,\n",
       "         1.07820198e-01, 9.15997475e-02, 9.61341038e-02, 1.02968432e-01,\n",
       "         9.61207896e-02, 9.90557447e-02],\n",
       "        [8.80187005e-02, 1.10491298e-01, 1.08842015e-01, 9.89490077e-02,\n",
       "         1.07820198e-01, 9.15997475e-02, 9.61341038e-02, 1.02968432e-01,\n",
       "         9.61207896e-02, 9.90557447e-02],\n",
       "        [8.80187005e-02, 1.10491298e-01, 1.08842015e-01, 9.89490077e-02,\n",
       "         1.07820198e-01, 9.15997475e-02, 9.61341038e-02, 1.02968432e-01,\n",
       "         9.61207896e-02, 9.90557447e-02],\n",
       "        [8.80187005e-02, 1.10491298e-01, 1.08842015e-01, 9.89490077e-02,\n",
       "         1.07820198e-01, 9.15997475e-02, 9.61341038e-02, 1.02968432e-01,\n",
       "         9.61207896e-02, 9.90557447e-02],\n",
       "        [8.80187005e-02, 1.10491298e-01, 1.08842015e-01, 9.89490077e-02,\n",
       "         1.07820198e-01, 9.15997475e-02, 9.61341038e-02, 1.02968432e-01,\n",
       "         9.61207896e-02, 9.90557447e-02],\n",
       "        [8.80187005e-02, 1.10491298e-01, 1.08842015e-01, 9.89490077e-02,\n",
       "         1.07820198e-01, 9.15997475e-02, 9.61341038e-02, 1.02968432e-01,\n",
       "         9.61207896e-02, 9.90557447e-02],\n",
       "        [8.80187005e-02, 1.10491298e-01, 1.08842015e-01, 9.89490077e-02,\n",
       "         1.07820198e-01, 9.15997475e-02, 9.61341038e-02, 1.02968432e-01,\n",
       "         9.61207896e-02, 9.90557447e-02],\n",
       "        [8.80187005e-02, 1.10491298e-01, 1.08842015e-01, 9.89490077e-02,\n",
       "         1.07820198e-01, 9.15997475e-02, 9.61341038e-02, 1.02968432e-01,\n",
       "         9.61207896e-02, 9.90557447e-02],\n",
       "        [8.80187005e-02, 1.10491298e-01, 1.08842015e-01, 9.89490077e-02,\n",
       "         1.07820198e-01, 9.15997475e-02, 9.61341038e-02, 1.02968432e-01,\n",
       "         9.61207896e-02, 9.90557447e-02],\n",
       "        [8.80187005e-02, 1.10491298e-01, 1.08842015e-01, 9.89490077e-02,\n",
       "         1.07820198e-01, 9.15997475e-02, 9.61341038e-02, 1.02968432e-01,\n",
       "         9.61207896e-02, 9.90557447e-02],\n",
       "        [8.80187005e-02, 1.10491298e-01, 1.08842015e-01, 9.89490077e-02,\n",
       "         1.07820198e-01, 9.15997475e-02, 9.61341038e-02, 1.02968432e-01,\n",
       "         9.61207896e-02, 9.90557447e-02],\n",
       "        [8.80187005e-02, 1.10491298e-01, 1.08842015e-01, 9.89490077e-02,\n",
       "         1.07820198e-01, 9.15997475e-02, 9.61341038e-02, 1.02968432e-01,\n",
       "         9.61207896e-02, 9.90557447e-02],\n",
       "        [8.80187005e-02, 1.10491298e-01, 1.08842015e-01, 9.89490077e-02,\n",
       "         1.07820198e-01, 9.15997475e-02, 9.61341038e-02, 1.02968432e-01,\n",
       "         9.61207896e-02, 9.90557447e-02],\n",
       "        [8.80187005e-02, 1.10491298e-01, 1.08842015e-01, 9.89490077e-02,\n",
       "         1.07820198e-01, 9.15997475e-02, 9.61341038e-02, 1.02968432e-01,\n",
       "         9.61207896e-02, 9.90557447e-02],\n",
       "        [8.80187005e-02, 1.10491298e-01, 1.08842015e-01, 9.89490077e-02,\n",
       "         1.07820198e-01, 9.15997475e-02, 9.61341038e-02, 1.02968432e-01,\n",
       "         9.61207896e-02, 9.90557447e-02],\n",
       "        [8.80187005e-02, 1.10491298e-01, 1.08842015e-01, 9.89490077e-02,\n",
       "         1.07820198e-01, 9.15997475e-02, 9.61341038e-02, 1.02968432e-01,\n",
       "         9.61207896e-02, 9.90557447e-02],\n",
       "        [8.80187005e-02, 1.10491298e-01, 1.08842015e-01, 9.89490077e-02,\n",
       "         1.07820198e-01, 9.15997475e-02, 9.61341038e-02, 1.02968432e-01,\n",
       "         9.61207896e-02, 9.90557447e-02],\n",
       "        [8.80187005e-02, 1.10491298e-01, 1.08842015e-01, 9.89490077e-02,\n",
       "         1.07820198e-01, 9.15997475e-02, 9.61341038e-02, 1.02968432e-01,\n",
       "         9.61207896e-02, 9.90557447e-02],\n",
       "        [8.80187005e-02, 1.10491298e-01, 1.08842015e-01, 9.89490077e-02,\n",
       "         1.07820198e-01, 9.15997475e-02, 9.61341038e-02, 1.02968432e-01,\n",
       "         9.61207896e-02, 9.90557447e-02],\n",
       "        [8.80187005e-02, 1.10491298e-01, 1.08842015e-01, 9.89490077e-02,\n",
       "         1.07820198e-01, 9.15997475e-02, 9.61341038e-02, 1.02968432e-01,\n",
       "         9.61207896e-02, 9.90557447e-02],\n",
       "        [8.80187005e-02, 1.10491298e-01, 1.08842015e-01, 9.89490077e-02,\n",
       "         1.07820198e-01, 9.15997475e-02, 9.61341038e-02, 1.02968432e-01,\n",
       "         9.61207896e-02, 9.90557447e-02],\n",
       "        [8.80187005e-02, 1.10491298e-01, 1.08842015e-01, 9.89490077e-02,\n",
       "         1.07820198e-01, 9.15997475e-02, 9.61341038e-02, 1.02968432e-01,\n",
       "         9.61207896e-02, 9.90557447e-02],\n",
       "        [8.80187005e-02, 1.10491298e-01, 1.08842015e-01, 9.89490077e-02,\n",
       "         1.07820198e-01, 9.15997475e-02, 9.61341038e-02, 1.02968432e-01,\n",
       "         9.61207896e-02, 9.90557447e-02],\n",
       "        [8.80187005e-02, 1.10491298e-01, 1.08842015e-01, 9.89490077e-02,\n",
       "         1.07820198e-01, 9.15997475e-02, 9.61341038e-02, 1.02968432e-01,\n",
       "         9.61207896e-02, 9.90557447e-02],\n",
       "        [8.80187005e-02, 1.10491298e-01, 1.08842015e-01, 9.89490077e-02,\n",
       "         1.07820198e-01, 9.15997475e-02, 9.61341038e-02, 1.02968432e-01,\n",
       "         9.61207896e-02, 9.90557447e-02],\n",
       "        [8.80187005e-02, 1.10491298e-01, 1.08842015e-01, 9.89490077e-02,\n",
       "         1.07820198e-01, 9.15997475e-02, 9.61341038e-02, 1.02968432e-01,\n",
       "         9.61207896e-02, 9.90557447e-02],\n",
       "        [8.80187005e-02, 1.10491298e-01, 1.08842015e-01, 9.89490077e-02,\n",
       "         1.07820198e-01, 9.15997475e-02, 9.61341038e-02, 1.02968432e-01,\n",
       "         9.61207896e-02, 9.90557447e-02],\n",
       "        [8.80187005e-02, 1.10491298e-01, 1.08842015e-01, 9.89490077e-02,\n",
       "         1.07820198e-01, 9.15997475e-02, 9.61341038e-02, 1.02968432e-01,\n",
       "         9.61207896e-02, 9.90557447e-02],\n",
       "        [8.80187005e-02, 1.10491298e-01, 1.08842015e-01, 9.89490077e-02,\n",
       "         1.07820198e-01, 9.15997475e-02, 9.61341038e-02, 1.02968432e-01,\n",
       "         9.61207896e-02, 9.90557447e-02],\n",
       "        [8.80187005e-02, 1.10491298e-01, 1.08842015e-01, 9.89490077e-02,\n",
       "         1.07820198e-01, 9.15997475e-02, 9.61341038e-02, 1.02968432e-01,\n",
       "         9.61207896e-02, 9.90557447e-02],\n",
       "        [8.80187005e-02, 1.10491298e-01, 1.08842015e-01, 9.89490077e-02,\n",
       "         1.07820198e-01, 9.15997475e-02, 9.61341038e-02, 1.02968432e-01,\n",
       "         9.61207896e-02, 9.90557447e-02],\n",
       "        [8.80187005e-02, 1.10491298e-01, 1.08842015e-01, 9.89490077e-02,\n",
       "         1.07820198e-01, 9.15997475e-02, 9.61341038e-02, 1.02968432e-01,\n",
       "         9.61207896e-02, 9.90557447e-02],\n",
       "        [8.80187005e-02, 1.10491298e-01, 1.08842015e-01, 9.89490077e-02,\n",
       "         1.07820198e-01, 9.15997475e-02, 9.61341038e-02, 1.02968432e-01,\n",
       "         9.61207896e-02, 9.90557447e-02],\n",
       "        [8.80187005e-02, 1.10491298e-01, 1.08842015e-01, 9.89490077e-02,\n",
       "         1.07820198e-01, 9.15997475e-02, 9.61341038e-02, 1.02968432e-01,\n",
       "         9.61207896e-02, 9.90557447e-02],\n",
       "        [8.80187005e-02, 1.10491298e-01, 1.08842015e-01, 9.89490077e-02,\n",
       "         1.07820198e-01, 9.15997475e-02, 9.61341038e-02, 1.02968432e-01,\n",
       "         9.61207896e-02, 9.90557447e-02],\n",
       "        [8.80187005e-02, 1.10491298e-01, 1.08842015e-01, 9.89490077e-02,\n",
       "         1.07820198e-01, 9.15997475e-02, 9.61341038e-02, 1.02968432e-01,\n",
       "         9.61207896e-02, 9.90557447e-02],\n",
       "        [8.80187005e-02, 1.10491298e-01, 1.08842015e-01, 9.89490077e-02,\n",
       "         1.07820198e-01, 9.15997475e-02, 9.61341038e-02, 1.02968432e-01,\n",
       "         9.61207896e-02, 9.90557447e-02],\n",
       "        [8.80187005e-02, 1.10491298e-01, 1.08842015e-01, 9.89490077e-02,\n",
       "         1.07820198e-01, 9.15997475e-02, 9.61341038e-02, 1.02968432e-01,\n",
       "         9.61207896e-02, 9.90557447e-02],\n",
       "        [8.80187005e-02, 1.10491298e-01, 1.08842015e-01, 9.89490077e-02,\n",
       "         1.07820198e-01, 9.15997475e-02, 9.61341038e-02, 1.02968432e-01,\n",
       "         9.61207896e-02, 9.90557447e-02],\n",
       "        [8.80187005e-02, 1.10491298e-01, 1.08842015e-01, 9.89490077e-02,\n",
       "         1.07820198e-01, 9.15997475e-02, 9.61341038e-02, 1.02968432e-01,\n",
       "         9.61207896e-02, 9.90557447e-02],\n",
       "        [8.80187005e-02, 1.10491298e-01, 1.08842015e-01, 9.89490077e-02,\n",
       "         1.07820198e-01, 9.15997475e-02, 9.61341038e-02, 1.02968432e-01,\n",
       "         9.61207896e-02, 9.90557447e-02],\n",
       "        [8.80187005e-02, 1.10491298e-01, 1.08842015e-01, 9.89490077e-02,\n",
       "         1.07820198e-01, 9.15997475e-02, 9.61341038e-02, 1.02968432e-01,\n",
       "         9.61207896e-02, 9.90557447e-02],\n",
       "        [8.80187005e-02, 1.10491298e-01, 1.08842015e-01, 9.89490077e-02,\n",
       "         1.07820198e-01, 9.15997475e-02, 9.61341038e-02, 1.02968432e-01,\n",
       "         9.61207896e-02, 9.90557447e-02],\n",
       "        [8.80187005e-02, 1.10491298e-01, 1.08842015e-01, 9.89490077e-02,\n",
       "         1.07820198e-01, 9.15997475e-02, 9.61341038e-02, 1.02968432e-01,\n",
       "         9.61207896e-02, 9.90557447e-02],\n",
       "        [8.80187005e-02, 1.10491298e-01, 1.08842015e-01, 9.89490077e-02,\n",
       "         1.07820198e-01, 9.15997475e-02, 9.61341038e-02, 1.02968432e-01,\n",
       "         9.61207896e-02, 9.90557447e-02],\n",
       "        [8.80187005e-02, 1.10491298e-01, 1.08842015e-01, 9.89490077e-02,\n",
       "         1.07820198e-01, 9.15997475e-02, 9.61341038e-02, 1.02968432e-01,\n",
       "         9.61207896e-02, 9.90557447e-02],\n",
       "        [8.80187005e-02, 1.10491298e-01, 1.08842015e-01, 9.89490077e-02,\n",
       "         1.07820198e-01, 9.15997475e-02, 9.61341038e-02, 1.02968432e-01,\n",
       "         9.61207896e-02, 9.90557447e-02],\n",
       "        [8.80187005e-02, 1.10491298e-01, 1.08842015e-01, 9.89490077e-02,\n",
       "         1.07820198e-01, 9.15997475e-02, 9.61341038e-02, 1.02968432e-01,\n",
       "         9.61207896e-02, 9.90557447e-02],\n",
       "        [8.80187005e-02, 1.10491298e-01, 1.08842015e-01, 9.89490077e-02,\n",
       "         1.07820198e-01, 9.15997475e-02, 9.61341038e-02, 1.02968432e-01,\n",
       "         9.61207896e-02, 9.90557447e-02],\n",
       "        [8.80187005e-02, 1.10491298e-01, 1.08842015e-01, 9.89490077e-02,\n",
       "         1.07820198e-01, 9.15997475e-02, 9.61341038e-02, 1.02968432e-01,\n",
       "         9.61207896e-02, 9.90557447e-02],\n",
       "        [8.80187005e-02, 1.10491298e-01, 1.08842015e-01, 9.89490077e-02,\n",
       "         1.07820198e-01, 9.15997475e-02, 9.61341038e-02, 1.02968432e-01,\n",
       "         9.61207896e-02, 9.90557447e-02],\n",
       "        [8.80187005e-02, 1.10491298e-01, 1.08842015e-01, 9.89490077e-02,\n",
       "         1.07820198e-01, 9.15997475e-02, 9.61341038e-02, 1.02968432e-01,\n",
       "         9.61207896e-02, 9.90557447e-02]]], dtype=float32)"
      ]
     },
     "execution_count": 83,
     "metadata": {},
     "output_type": "execute_result"
    }
   ],
   "source": [
    "y_predicted"
   ]
  },
  {
   "cell_type": "code",
   "execution_count": 84,
   "id": "d5ba2277",
   "metadata": {},
   "outputs": [],
   "source": [
    "#확률 벡터를 정수 레이블로 변경\n",
    "y_predicted= np.argmax(y_predicted, axis=-1)"
   ]
  },
  {
   "cell_type": "code",
   "execution_count": 85,
   "id": "816f8783",
   "metadata": {},
   "outputs": [
    {
     "data": {
      "text/plain": [
       "array([[1, 1, 1, 1, 1, 1, 1, 1, 1, 1, 1, 1, 1, 1, 1, 1, 1, 1, 1, 1, 1, 1,\n",
       "        1, 1, 1, 1, 1, 1, 1, 1, 1, 1, 1, 1, 1, 1, 1, 1, 1, 1, 1, 1, 1, 1,\n",
       "        1, 1, 1, 1, 1, 1, 1, 1, 1, 1, 1, 1, 1, 1, 1, 1, 1, 1, 1, 1, 1, 1,\n",
       "        1, 1, 1, 1]])"
      ]
     },
     "execution_count": 85,
     "metadata": {},
     "output_type": "execute_result"
    }
   ],
   "source": [
    "y_predicted"
   ]
  },
  {
   "cell_type": "code",
   "execution_count": 86,
   "id": "244f953f",
   "metadata": {},
   "outputs": [
    {
     "data": {
      "text/plain": [
       "array([1, 1, 1, 0, 0, 0, 0, 0, 0, 0, 0, 0, 0, 0, 0, 0, 0, 0, 0, 0, 0, 0,\n",
       "       0, 0, 0, 0, 0, 0, 0, 0, 0, 0, 0, 0, 0, 0, 0, 0, 0, 0, 0, 0, 0, 0,\n",
       "       0, 0, 0, 0, 0, 0, 0, 0, 0, 0, 0, 0, 0, 0, 0, 0, 0, 0, 0, 0, 0, 0,\n",
       "       0, 0, 0, 0])"
      ]
     },
     "execution_count": 86,
     "metadata": {},
     "output_type": "execute_result"
    }
   ],
   "source": [
    "#원핫 백터를 정수로 인코딩\n",
    "labels= np.argmax(y_test[0], axis=-1)\n",
    "labels"
   ]
  },
  {
   "cell_type": "code",
   "execution_count": 92,
   "id": "4dc602b0",
   "metadata": {},
   "outputs": [
    {
     "name": "stdout",
     "output_type": "stream",
     "text": [
      "단어             | 실제값   예측값\n",
      "========================================\n",
      "attendance        : o       o\n",
      ":                 : o       o\n",
      "OOV               : o       o\n"
     ]
    }
   ],
   "source": [
    "print('{:15}| {:5} {}'.format('단어','실제값','예측값'))\n",
    "print(\"=\"*40)\n",
    "for word, tag, pred in zip(X_test[0], labels, y_predicted[0]):\n",
    "    if word != 0: #을 제외/ PAD값\n",
    "        print(\"{:17} : {:7} {}\".format(index_to_word[word] , index_to_ner[tag] ,index_to_ner[pred]))"
   ]
  },
  {
   "cell_type": "code",
   "execution_count": 97,
   "id": "27c042b7",
   "metadata": {},
   "outputs": [
    {
     "name": "stdout",
     "output_type": "stream",
     "text": [
      "1/1 [==============================] - 0s 23ms/step\n",
      "단어             | 실제값   예측값\n",
      "----------------------------------------\n",
      "\"                 : o       o\n",
      "i                 : o       o\n",
      "looked            : o       o\n",
      "at                : o       o\n",
      "it                : o       o\n",
      "as                : o       o\n",
      "not               : o       o\n",
      "a                 : o       o\n",
      "first             : o       o\n",
      "round             : o       o\n",
      "match             : o       o\n",
      ",                 : o       o\n",
      "just              : o       o\n",
      "a                 : o       o\n",
      "great             : o       o\n",
      "challenge         : o       o\n",
      "for               : o       o\n",
      "me                : o       o\n",
      ",                 : o       o\n",
      "\"                 : o       o\n",
      "said              : o       o\n",
      "coetzer           : b-per   b-per\n",
      ",                 : o       o\n",
      "24                : o       o\n",
      ".                 : o       o\n",
      "\"                 : o       o\n"
     ]
    }
   ],
   "source": [
    "#입력한 테스트용 샘플 데이터 y를 리턴\n",
    "y_predicted = model.predict(np.array([X_test[90]]))\n",
    "y_predicted= np.argmax(y_predicted, axis=-1)\n",
    "labels= np.argmax(y_test[90], axis=-1)\n",
    "\n",
    "print('{:15}| {:5} {}'.format('단어','실제값','예측값'))\n",
    "print(\"-\"*40)\n",
    "for word, tag, pred in zip(X_test[90], labels, y_predicted[0]):\n",
    "    if word != 0: #을 제외/ PAD값\n",
    "        print(\"{:17} : {:7} {}\".format(index_to_word[word] , index_to_ner[tag] ,index_to_ner[pred]))"
   ]
  },
  {
   "cell_type": "code",
   "execution_count": null,
   "id": "92910d0f",
   "metadata": {},
   "outputs": [],
   "source": []
  }
 ],
 "metadata": {
  "kernelspec": {
   "display_name": "Python 3 (ipykernel)",
   "language": "python",
   "name": "python3"
  },
  "language_info": {
   "codemirror_mode": {
    "name": "ipython",
    "version": 3
   },
   "file_extension": ".py",
   "mimetype": "text/x-python",
   "name": "python",
   "nbconvert_exporter": "python",
   "pygments_lexer": "ipython3",
   "version": "3.10.10"
  }
 },
 "nbformat": 4,
 "nbformat_minor": 5
}
