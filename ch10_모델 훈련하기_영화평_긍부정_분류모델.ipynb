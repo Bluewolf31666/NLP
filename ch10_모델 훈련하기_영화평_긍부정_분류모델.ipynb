{
 "cells": [
  {
   "cell_type": "code",
   "execution_count": 1,
   "id": "4dde62c7",
   "metadata": {},
   "outputs": [
    {
     "name": "stdout",
     "output_type": "stream",
     "text": [
      "\u001b[33mWARNING: The directory '/home/jovyan/.cache/pip' or its parent directory is not owned or is not writable by the current user. The cache has been disabled. Check the permissions and owner of that directory. If executing pip with sudo, you should use sudo's -H flag.\u001b[0m\u001b[33m\n",
      "\u001b[0mRequirement already satisfied: TPOT in /opt/conda/lib/python3.10/site-packages (0.11.7)\n",
      "Requirement already satisfied: numpy>=1.16.3 in /opt/conda/lib/python3.10/site-packages (from TPOT) (1.23.5)\n",
      "Requirement already satisfied: scipy>=1.3.1 in /opt/conda/lib/python3.10/site-packages (from TPOT) (1.9.3)\n",
      "Requirement already satisfied: scikit-learn>=0.22.0 in /opt/conda/lib/python3.10/site-packages (from TPOT) (1.2.2)\n",
      "Requirement already satisfied: deap>=1.2 in /opt/conda/lib/python3.10/site-packages (from TPOT) (1.3.3)\n",
      "Requirement already satisfied: update-checker>=0.16 in /opt/conda/lib/python3.10/site-packages (from TPOT) (0.18.0)\n",
      "Requirement already satisfied: tqdm>=4.36.1 in /opt/conda/lib/python3.10/site-packages (from TPOT) (4.64.1)\n",
      "Requirement already satisfied: stopit>=1.1.1 in /opt/conda/lib/python3.10/site-packages (from TPOT) (1.1.2)\n",
      "Requirement already satisfied: pandas>=0.24.2 in /opt/conda/lib/python3.10/site-packages (from TPOT) (1.5.3)\n",
      "Requirement already satisfied: joblib>=0.13.2 in /opt/conda/lib/python3.10/site-packages (from TPOT) (1.2.0)\n",
      "Requirement already satisfied: xgboost>=1.1.0 in /opt/conda/lib/python3.10/site-packages (from TPOT) (1.7.5)\n",
      "Requirement already satisfied: python-dateutil>=2.8.1 in /opt/conda/lib/python3.10/site-packages (from pandas>=0.24.2->TPOT) (2.8.2)\n",
      "Requirement already satisfied: pytz>=2020.1 in /opt/conda/lib/python3.10/site-packages (from pandas>=0.24.2->TPOT) (2023.3)\n",
      "Requirement already satisfied: threadpoolctl>=2.0.0 in /opt/conda/lib/python3.10/site-packages (from scikit-learn>=0.22.0->TPOT) (3.1.0)\n",
      "Requirement already satisfied: requests>=2.3.0 in /opt/conda/lib/python3.10/site-packages (from update-checker>=0.16->TPOT) (2.28.2)\n",
      "Requirement already satisfied: six>=1.5 in /opt/conda/lib/python3.10/site-packages (from python-dateutil>=2.8.1->pandas>=0.24.2->TPOT) (1.16.0)\n",
      "Requirement already satisfied: charset-normalizer<4,>=2 in /opt/conda/lib/python3.10/site-packages (from requests>=2.3.0->update-checker>=0.16->TPOT) (3.1.0)\n",
      "Requirement already satisfied: idna<4,>=2.5 in /opt/conda/lib/python3.10/site-packages (from requests>=2.3.0->update-checker>=0.16->TPOT) (3.4)\n",
      "Requirement already satisfied: urllib3<1.27,>=1.21.1 in /opt/conda/lib/python3.10/site-packages (from requests>=2.3.0->update-checker>=0.16->TPOT) (1.26.15)\n",
      "Requirement already satisfied: certifi>=2017.4.17 in /opt/conda/lib/python3.10/site-packages (from requests>=2.3.0->update-checker>=0.16->TPOT) (2022.12.7)\n",
      "\u001b[33mWARNING: Running pip as the 'root' user can result in broken permissions and conflicting behaviour with the system package manager. It is recommended to use a virtual environment instead: https://pip.pypa.io/warnings/venv\u001b[0m\u001b[33m\n",
      "\u001b[0m"
     ]
    }
   ],
   "source": [
    "!pip install TPOT"
   ]
  },
  {
   "cell_type": "code",
   "execution_count": 2,
   "id": "f615d3b2",
   "metadata": {},
   "outputs": [],
   "source": [
    "import numpy as np\n",
    "import pandas as pd\n",
    "\n",
    "from sklearn.linear_model import LogisticRegression\n",
    "from sklearn.neighbors import KNeighborsClassifier\n",
    "from sklearn.tree import DecisionTreeClassifier\n",
    "from sklearn.ensemble import RandomForestClassifier\n",
    "from sklearn.neural_network import MLPClassifier\n",
    "\n",
    "from sklearn.ensemble import VotingClassifier\n",
    "\n",
    "from sklearn.semi_supervised import SelfTrainingClassifier\n",
    "\n",
    "from sklearn.metrics import classification_report\n",
    "\n",
    "from tqdm import tqdm\n"
   ]
  },
  {
   "cell_type": "code",
   "execution_count": 3,
   "id": "0d688928",
   "metadata": {},
   "outputs": [
    {
     "name": "stderr",
     "output_type": "stream",
     "text": [
      "/opt/conda/lib/python3.10/site-packages/tpot/builtins/__init__.py:36: UserWarning: Warning: optional dependency `torch` is not available. - skipping import of NN models.\n",
      "  warnings.warn(\"Warning: optional dependency `torch` is not available. - skipping import of NN models.\")\n"
     ]
    }
   ],
   "source": [
    "from tpot import TPOTClassifier"
   ]
  },
  {
   "cell_type": "code",
   "execution_count": 4,
   "id": "1b7a7b1a",
   "metadata": {
    "scrolled": true
   },
   "outputs": [
    {
     "name": "stdout",
     "output_type": "stream",
     "text": [
      "\u001b[33mWARNING: The directory '/home/jovyan/.cache/pip' or its parent directory is not owned or is not writable by the current user. The cache has been disabled. Check the permissions and owner of that directory. If executing pip with sudo, you should use sudo's -H flag.\u001b[0m\u001b[33m\n",
      "\u001b[0mRequirement already satisfied: xgboost in /opt/conda/lib/python3.10/site-packages (1.7.5)\n",
      "Requirement already satisfied: numpy in /opt/conda/lib/python3.10/site-packages (from xgboost) (1.23.5)\n",
      "Requirement already satisfied: scipy in /opt/conda/lib/python3.10/site-packages (from xgboost) (1.9.3)\n",
      "\u001b[33mWARNING: Running pip as the 'root' user can result in broken permissions and conflicting behaviour with the system package manager. It is recommended to use a virtual environment instead: https://pip.pypa.io/warnings/venv\u001b[0m\u001b[33m\n",
      "\u001b[0m"
     ]
    }
   ],
   "source": [
    "!pip install xgboost"
   ]
  },
  {
   "cell_type": "code",
   "execution_count": 5,
   "id": "556e732f",
   "metadata": {},
   "outputs": [],
   "source": [
    "from xgboost import XGBClassifier"
   ]
  },
  {
   "cell_type": "code",
   "execution_count": 6,
   "id": "44cc28b3",
   "metadata": {},
   "outputs": [],
   "source": [
    "from nlp_preprocessing import TrainTransfromVect"
   ]
  },
  {
   "cell_type": "markdown",
   "id": "5b1cff3a",
   "metadata": {},
   "source": [
    "## 데이터 로드"
   ]
  },
  {
   "cell_type": "code",
   "execution_count": 7,
   "id": "14fa3450",
   "metadata": {},
   "outputs": [],
   "source": [
    "train_df=pd.read_csv('ratings_train.csv')"
   ]
  },
  {
   "cell_type": "code",
   "execution_count": 8,
   "id": "6425c493",
   "metadata": {},
   "outputs": [],
   "source": [
    "test_df = pd.read_csv('ratings_test.csv')"
   ]
  },
  {
   "cell_type": "code",
   "execution_count": 9,
   "id": "eb23f057",
   "metadata": {},
   "outputs": [],
   "source": [
    "train_df.dropna(inplace=True)"
   ]
  },
  {
   "cell_type": "code",
   "execution_count": 10,
   "id": "cbcfe4fd",
   "metadata": {},
   "outputs": [],
   "source": [
    "test_df.dropna(inplace=True)"
   ]
  },
  {
   "cell_type": "code",
   "execution_count": 11,
   "id": "3ceff8a4",
   "metadata": {
    "scrolled": true
   },
   "outputs": [
    {
     "data": {
      "text/html": [
       "<div>\n",
       "<style scoped>\n",
       "    .dataframe tbody tr th:only-of-type {\n",
       "        vertical-align: middle;\n",
       "    }\n",
       "\n",
       "    .dataframe tbody tr th {\n",
       "        vertical-align: top;\n",
       "    }\n",
       "\n",
       "    .dataframe thead th {\n",
       "        text-align: right;\n",
       "    }\n",
       "</style>\n",
       "<table border=\"1\" class=\"dataframe\">\n",
       "  <thead>\n",
       "    <tr style=\"text-align: right;\">\n",
       "      <th></th>\n",
       "      <th>Unnamed: 0</th>\n",
       "      <th>id</th>\n",
       "      <th>document</th>\n",
       "      <th>label</th>\n",
       "    </tr>\n",
       "  </thead>\n",
       "  <tbody>\n",
       "    <tr>\n",
       "      <th>0</th>\n",
       "      <td>0</td>\n",
       "      <td>9976970</td>\n",
       "      <td>아 더빙.. 진짜 짜증나네요 목소리</td>\n",
       "      <td>0</td>\n",
       "    </tr>\n",
       "    <tr>\n",
       "      <th>1</th>\n",
       "      <td>1</td>\n",
       "      <td>3819312</td>\n",
       "      <td>흠...포스터보고 초딩영화줄....오버연기조차 가볍지 않구나</td>\n",
       "      <td>1</td>\n",
       "    </tr>\n",
       "    <tr>\n",
       "      <th>2</th>\n",
       "      <td>2</td>\n",
       "      <td>10265843</td>\n",
       "      <td>너무재밓었다그래서보는것을추천한다</td>\n",
       "      <td>0</td>\n",
       "    </tr>\n",
       "    <tr>\n",
       "      <th>3</th>\n",
       "      <td>3</td>\n",
       "      <td>9045019</td>\n",
       "      <td>교도소 이야기구먼 ..솔직히 재미는 없다..평점 조정</td>\n",
       "      <td>0</td>\n",
       "    </tr>\n",
       "    <tr>\n",
       "      <th>4</th>\n",
       "      <td>4</td>\n",
       "      <td>6483659</td>\n",
       "      <td>사이몬페그의 익살스런 연기가 돋보였던 영화!스파이더맨에서 늙어보이기만 했던 커스틴 ...</td>\n",
       "      <td>1</td>\n",
       "    </tr>\n",
       "    <tr>\n",
       "      <th>...</th>\n",
       "      <td>...</td>\n",
       "      <td>...</td>\n",
       "      <td>...</td>\n",
       "      <td>...</td>\n",
       "    </tr>\n",
       "    <tr>\n",
       "      <th>149995</th>\n",
       "      <td>149995</td>\n",
       "      <td>6222902</td>\n",
       "      <td>인간이 문제지.. 소는 뭔죄인가..</td>\n",
       "      <td>0</td>\n",
       "    </tr>\n",
       "    <tr>\n",
       "      <th>149996</th>\n",
       "      <td>149996</td>\n",
       "      <td>8549745</td>\n",
       "      <td>평점이 너무 낮아서...</td>\n",
       "      <td>1</td>\n",
       "    </tr>\n",
       "    <tr>\n",
       "      <th>149997</th>\n",
       "      <td>149997</td>\n",
       "      <td>9311800</td>\n",
       "      <td>이게 뭐요? 한국인은 거들먹거리고 필리핀 혼혈은 착하다?</td>\n",
       "      <td>0</td>\n",
       "    </tr>\n",
       "    <tr>\n",
       "      <th>149998</th>\n",
       "      <td>149998</td>\n",
       "      <td>2376369</td>\n",
       "      <td>청춘 영화의 최고봉.방황과 우울했던 날들의 자화상</td>\n",
       "      <td>1</td>\n",
       "    </tr>\n",
       "    <tr>\n",
       "      <th>149999</th>\n",
       "      <td>149999</td>\n",
       "      <td>9619869</td>\n",
       "      <td>한국 영화 최초로 수간하는 내용이 담긴 영화</td>\n",
       "      <td>0</td>\n",
       "    </tr>\n",
       "  </tbody>\n",
       "</table>\n",
       "<p>149995 rows × 4 columns</p>\n",
       "</div>"
      ],
      "text/plain": [
       "        Unnamed: 0        id  \\\n",
       "0                0   9976970   \n",
       "1                1   3819312   \n",
       "2                2  10265843   \n",
       "3                3   9045019   \n",
       "4                4   6483659   \n",
       "...            ...       ...   \n",
       "149995      149995   6222902   \n",
       "149996      149996   8549745   \n",
       "149997      149997   9311800   \n",
       "149998      149998   2376369   \n",
       "149999      149999   9619869   \n",
       "\n",
       "                                                 document  label  \n",
       "0                                     아 더빙.. 진짜 짜증나네요 목소리      0  \n",
       "1                       흠...포스터보고 초딩영화줄....오버연기조차 가볍지 않구나      1  \n",
       "2                                       너무재밓었다그래서보는것을추천한다      0  \n",
       "3                           교도소 이야기구먼 ..솔직히 재미는 없다..평점 조정      0  \n",
       "4       사이몬페그의 익살스런 연기가 돋보였던 영화!스파이더맨에서 늙어보이기만 했던 커스틴 ...      1  \n",
       "...                                                   ...    ...  \n",
       "149995                                인간이 문제지.. 소는 뭔죄인가..      0  \n",
       "149996                                      평점이 너무 낮아서...      1  \n",
       "149997                    이게 뭐요? 한국인은 거들먹거리고 필리핀 혼혈은 착하다?      0  \n",
       "149998                        청춘 영화의 최고봉.방황과 우울했던 날들의 자화상      1  \n",
       "149999                           한국 영화 최초로 수간하는 내용이 담긴 영화      0  \n",
       "\n",
       "[149995 rows x 4 columns]"
      ]
     },
     "execution_count": 11,
     "metadata": {},
     "output_type": "execute_result"
    }
   ],
   "source": [
    "train_df"
   ]
  },
  {
   "cell_type": "code",
   "execution_count": 12,
   "id": "ce66be96",
   "metadata": {},
   "outputs": [
    {
     "data": {
      "text/plain": [
       "(array([0, 1]), 149995)"
      ]
     },
     "execution_count": 12,
     "metadata": {},
     "output_type": "execute_result"
    }
   ],
   "source": [
    "train_df['label'].unique(), len(train_df)"
   ]
  },
  {
   "cell_type": "code",
   "execution_count": 13,
   "id": "d62fcfd0",
   "metadata": {},
   "outputs": [
    {
     "data": {
      "text/plain": [
       "(array([1, 0]), 49997)"
      ]
     },
     "execution_count": 13,
     "metadata": {},
     "output_type": "execute_result"
    }
   ],
   "source": [
    "test_df['label'].unique(), len(test_df)"
   ]
  },
  {
   "cell_type": "markdown",
   "id": "811c3fe3",
   "metadata": {},
   "source": [
    "### 분석 모델 훈련에서 사용할 옵션값"
   ]
  },
  {
   "cell_type": "code",
   "execution_count": 14,
   "id": "7568aeb1",
   "metadata": {},
   "outputs": [],
   "source": [
    "## 모델 훈련시 사용할 랜덤 변수(계속 모델 훈련해도 고정된 결과가 나옴)\n",
    "random_seed_num = 42\n"
   ]
  },
  {
   "cell_type": "code",
   "execution_count": 15,
   "id": "c6d916f8",
   "metadata": {},
   "outputs": [],
   "source": [
    "train_df_num=10000 #훈련 데이터 중에서 훈련에 사용할 데이터 수"
   ]
  },
  {
   "cell_type": "code",
   "execution_count": 16,
   "id": "381ad79f",
   "metadata": {},
   "outputs": [],
   "source": [
    "test_df_num= 5000 #테스트 데이터 중에서 훈련에 사용할 데이터 수"
   ]
  },
  {
   "cell_type": "markdown",
   "id": "d3939f56",
   "metadata": {},
   "source": [
    "## 데이터 전처리"
   ]
  },
  {
   "cell_type": "markdown",
   "id": "c1703b09",
   "metadata": {},
   "source": [
    "1. 데이터 분리\n",
    "    1) X, y 데이터 분리 (train과 test 데이터 분리: 네이버 영화 리뷰는 이미 분리되어 해당프로세스 생략)\n",
    "    2) X 데이터 벡터화"
   ]
  },
  {
   "cell_type": "code",
   "execution_count": 17,
   "id": "f25e3079",
   "metadata": {},
   "outputs": [],
   "source": [
    "# 1. 데이터 분리\n",
    "x_train, y_train = train_df['document'][:train_df_num], train_df['label'][:train_df_num]\n",
    "x_test, y_test = test_df['document'][:test_df_num], test_df['label'][:test_df_num]"
   ]
  },
  {
   "cell_type": "code",
   "execution_count": 18,
   "id": "f2b7a673",
   "metadata": {},
   "outputs": [
    {
     "name": "stdout",
     "output_type": "stream",
     "text": [
      "       Unnamed: 0    id  document\n",
      "label                            \n",
      "0            5021  5021      5021\n",
      "1            4979  4979      4979\n",
      "       Unnamed: 0    id  document\n",
      "label                            \n",
      "0            2478  2478      2478\n",
      "1            2522  2522      2522\n"
     ]
    }
   ],
   "source": [
    "## 인덱스로 데이터를 분리하여, 훈련데이터와 테스트 데이터의 0과 1의 수를 확인\n",
    "print(train_df[:train_df_num].groupby('label').count())\n",
    "print(test_df[:test_df_num].groupby('label').count())"
   ]
  },
  {
   "cell_type": "markdown",
   "id": "9c827dab",
   "metadata": {},
   "source": [
    "#### 분류모델에서 y값의 순서, 분포에 따라 모델 학습 결과가 달라질수 있다.\n",
    "ex) y=[0,0,0,0,0,0,0,0,0,....0,0,1,1,1,1,1,1,1,1,]\n",
    "\n",
    "    모델 학습시 y1=[0,0,0,0,0,]. y2=[0,0,0,0,0,] y3= ...., yn-1=[1,1,1,1,1,] yn=[1,1,1,1,]\n",
    "    1) 1번 모델은 0을 예측, 2모델 0을 예측... n-1인 경우에는 1만 예측...\n",
    "    2) 각 모델들은 극단적인 값만 학습해서 최종적으로 앙상블 된 모델 결과가 않 좋을 수 있음\n",
    "\n",
    "#### 분류 모델의 데이터를 넣는 방법\n",
    "ex) y= [0,1,0,1,0,1,0,1,....]\n",
    "    y= [0,1,2,0,1,2..2,2,2,1,0,1,1,,0,2]\n",
    "\n",
    "* 간편하게 하는 방법\n",
    "    * sklearn.model_selection.train_test_split(~ , shuffle=True)'\n",
    "    \n",
    "* 특정 아이디에 따른 예측이 필요한경우\n",
    "    * 모델 훈련 < \"서비스 모델 적용\"\n",
    "        * sklearn.model_selection.train_test_split 파리미터 'shuffle=False'\n",
    "        * 이미 저장된 모델을 이용해서 predict를 하는 경우는 상관이 없음\n",
    "        "
   ]
  },
  {
   "cell_type": "code",
   "execution_count": 19,
   "id": "8b9c2744",
   "metadata": {},
   "outputs": [],
   "source": [
    "## 커스텀화한 벡터 훈련 + 변경 클래스 선언"
   ]
  },
  {
   "cell_type": "code",
   "execution_count": 20,
   "id": "fe61e7f9",
   "metadata": {},
   "outputs": [],
   "source": [
    "tv = TrainTransfromVect()"
   ]
  },
  {
   "cell_type": "code",
   "execution_count": 21,
   "id": "8b5ff3f2",
   "metadata": {},
   "outputs": [
    {
     "name": "stderr",
     "output_type": "stream",
     "text": [
      "/opt/conda/lib/python3.10/site-packages/sklearn/feature_extraction/text.py:528: UserWarning: The parameter 'token_pattern' will not be used since 'tokenizer' is not None'\n",
      "  warnings.warn(\n"
     ]
    }
   ],
   "source": [
    "tv.fit_run('wp',x_train)"
   ]
  },
  {
   "cell_type": "code",
   "execution_count": 22,
   "id": "e848a85f",
   "metadata": {},
   "outputs": [
    {
     "name": "stderr",
     "output_type": "stream",
     "text": [
      "100%|█████████████████████████████████████████████████████████████████████████████████| 100/100 [00:05<00:00, 17.37it/s]\n",
      "100%|███████████████████████████████████████████████████████████████████████████████████| 50/50 [00:01<00:00, 35.53it/s]\n"
     ]
    }
   ],
   "source": [
    "wp_vec_train = tv.transform_run(x_train, chunk_size=100)\n",
    "wp_vec_test = tv.transform_run(x_test, chunk_size=100)"
   ]
  },
  {
   "cell_type": "code",
   "execution_count": 23,
   "id": "49dcf570",
   "metadata": {},
   "outputs": [
    {
     "name": "stderr",
     "output_type": "stream",
     "text": [
      "100%|█████████████████████████████████████████████████████████████████████████████████| 100/100 [00:06<00:00, 16.60it/s]\n",
      "100%|███████████████████████████████████████████████████████████████████████████████████| 50/50 [00:01<00:00, 33.52it/s]\n"
     ]
    }
   ],
   "source": [
    "tv.fit_run('bpe',x_train)\n",
    "bpe_vec_train = tv.transform_run(x_train, chunk_size=100)\n",
    "bpe_vec_test = tv.transform_run(x_test, chunk_size=100)"
   ]
  },
  {
   "cell_type": "code",
   "execution_count": 24,
   "id": "0df57b9c",
   "metadata": {},
   "outputs": [],
   "source": [
    "#tv.fit_run('kkma',x_train)\n",
    "#kkma_vec_train = tv.transform_run(x_train, chunk_size=100)\n",
    "#kkma_vec_test = tv.transform_run(x_test, chunk_size=100)"
   ]
  },
  {
   "cell_type": "code",
   "execution_count": 25,
   "id": "b7270704",
   "metadata": {},
   "outputs": [],
   "source": [
    "#tv.fit_run('mp',x_train)\n",
    "#mp_vec_train = tv.transform_run(x_train, chunk_size=100)\n",
    "#mp_vec_test = tv.transform_run(x_test, chunk_size=100)"
   ]
  },
  {
   "cell_type": "markdown",
   "id": "d12e1b13",
   "metadata": {},
   "source": [
    "### 긍정과 부정을 예측하는 분류모델을 학습"
   ]
  },
  {
   "cell_type": "code",
   "execution_count": 26,
   "id": "86730ae7",
   "metadata": {},
   "outputs": [],
   "source": [
    "clf_decision= DecisionTreeClassifier(random_state=random_seed_num, max_depth=7)"
   ]
  },
  {
   "cell_type": "code",
   "execution_count": 27,
   "id": "9ea95db4",
   "metadata": {},
   "outputs": [
    {
     "data": {
      "text/html": [
       "<style>#sk-container-id-1 {color: black;background-color: white;}#sk-container-id-1 pre{padding: 0;}#sk-container-id-1 div.sk-toggleable {background-color: white;}#sk-container-id-1 label.sk-toggleable__label {cursor: pointer;display: block;width: 100%;margin-bottom: 0;padding: 0.3em;box-sizing: border-box;text-align: center;}#sk-container-id-1 label.sk-toggleable__label-arrow:before {content: \"▸\";float: left;margin-right: 0.25em;color: #696969;}#sk-container-id-1 label.sk-toggleable__label-arrow:hover:before {color: black;}#sk-container-id-1 div.sk-estimator:hover label.sk-toggleable__label-arrow:before {color: black;}#sk-container-id-1 div.sk-toggleable__content {max-height: 0;max-width: 0;overflow: hidden;text-align: left;background-color: #f0f8ff;}#sk-container-id-1 div.sk-toggleable__content pre {margin: 0.2em;color: black;border-radius: 0.25em;background-color: #f0f8ff;}#sk-container-id-1 input.sk-toggleable__control:checked~div.sk-toggleable__content {max-height: 200px;max-width: 100%;overflow: auto;}#sk-container-id-1 input.sk-toggleable__control:checked~label.sk-toggleable__label-arrow:before {content: \"▾\";}#sk-container-id-1 div.sk-estimator input.sk-toggleable__control:checked~label.sk-toggleable__label {background-color: #d4ebff;}#sk-container-id-1 div.sk-label input.sk-toggleable__control:checked~label.sk-toggleable__label {background-color: #d4ebff;}#sk-container-id-1 input.sk-hidden--visually {border: 0;clip: rect(1px 1px 1px 1px);clip: rect(1px, 1px, 1px, 1px);height: 1px;margin: -1px;overflow: hidden;padding: 0;position: absolute;width: 1px;}#sk-container-id-1 div.sk-estimator {font-family: monospace;background-color: #f0f8ff;border: 1px dotted black;border-radius: 0.25em;box-sizing: border-box;margin-bottom: 0.5em;}#sk-container-id-1 div.sk-estimator:hover {background-color: #d4ebff;}#sk-container-id-1 div.sk-parallel-item::after {content: \"\";width: 100%;border-bottom: 1px solid gray;flex-grow: 1;}#sk-container-id-1 div.sk-label:hover label.sk-toggleable__label {background-color: #d4ebff;}#sk-container-id-1 div.sk-serial::before {content: \"\";position: absolute;border-left: 1px solid gray;box-sizing: border-box;top: 0;bottom: 0;left: 50%;z-index: 0;}#sk-container-id-1 div.sk-serial {display: flex;flex-direction: column;align-items: center;background-color: white;padding-right: 0.2em;padding-left: 0.2em;position: relative;}#sk-container-id-1 div.sk-item {position: relative;z-index: 1;}#sk-container-id-1 div.sk-parallel {display: flex;align-items: stretch;justify-content: center;background-color: white;position: relative;}#sk-container-id-1 div.sk-item::before, #sk-container-id-1 div.sk-parallel-item::before {content: \"\";position: absolute;border-left: 1px solid gray;box-sizing: border-box;top: 0;bottom: 0;left: 50%;z-index: -1;}#sk-container-id-1 div.sk-parallel-item {display: flex;flex-direction: column;z-index: 1;position: relative;background-color: white;}#sk-container-id-1 div.sk-parallel-item:first-child::after {align-self: flex-end;width: 50%;}#sk-container-id-1 div.sk-parallel-item:last-child::after {align-self: flex-start;width: 50%;}#sk-container-id-1 div.sk-parallel-item:only-child::after {width: 0;}#sk-container-id-1 div.sk-dashed-wrapped {border: 1px dashed gray;margin: 0 0.4em 0.5em 0.4em;box-sizing: border-box;padding-bottom: 0.4em;background-color: white;}#sk-container-id-1 div.sk-label label {font-family: monospace;font-weight: bold;display: inline-block;line-height: 1.2em;}#sk-container-id-1 div.sk-label-container {text-align: center;}#sk-container-id-1 div.sk-container {/* jupyter's `normalize.less` sets `[hidden] { display: none; }` but bootstrap.min.css set `[hidden] { display: none !important; }` so we also need the `!important` here to be able to override the default hidden behavior on the sphinx rendered scikit-learn.org. See: https://github.com/scikit-learn/scikit-learn/issues/21755 */display: inline-block !important;position: relative;}#sk-container-id-1 div.sk-text-repr-fallback {display: none;}</style><div id=\"sk-container-id-1\" class=\"sk-top-container\"><div class=\"sk-text-repr-fallback\"><pre>DecisionTreeClassifier(max_depth=7, random_state=42)</pre><b>In a Jupyter environment, please rerun this cell to show the HTML representation or trust the notebook. <br />On GitHub, the HTML representation is unable to render, please try loading this page with nbviewer.org.</b></div><div class=\"sk-container\" hidden><div class=\"sk-item\"><div class=\"sk-estimator sk-toggleable\"><input class=\"sk-toggleable__control sk-hidden--visually\" id=\"sk-estimator-id-1\" type=\"checkbox\" checked><label for=\"sk-estimator-id-1\" class=\"sk-toggleable__label sk-toggleable__label-arrow\">DecisionTreeClassifier</label><div class=\"sk-toggleable__content\"><pre>DecisionTreeClassifier(max_depth=7, random_state=42)</pre></div></div></div></div></div>"
      ],
      "text/plain": [
       "DecisionTreeClassifier(max_depth=7, random_state=42)"
      ]
     },
     "execution_count": 27,
     "metadata": {},
     "output_type": "execute_result"
    }
   ],
   "source": [
    "clf_decision.fit(wp_vec_train,y_train)"
   ]
  },
  {
   "cell_type": "code",
   "execution_count": 28,
   "id": "60169372",
   "metadata": {},
   "outputs": [],
   "source": [
    "#워드 피스 토크나이저 적용\n",
    "y_train_pred= clf_decision.predict(wp_vec_train)\n",
    "y_test_pred= clf_decision.predict(wp_vec_test)"
   ]
  },
  {
   "cell_type": "code",
   "execution_count": 29,
   "id": "18b306ac",
   "metadata": {},
   "outputs": [
    {
     "name": "stdout",
     "output_type": "stream",
     "text": [
      "              precision    recall  f1-score   support\n",
      "\n",
      "           0       0.55      0.96      0.70      5021\n",
      "           1       0.85      0.20      0.33      4979\n",
      "\n",
      "    accuracy                           0.59     10000\n",
      "   macro avg       0.70      0.58      0.51     10000\n",
      "weighted avg       0.70      0.59      0.52     10000\n",
      "\n"
     ]
    }
   ],
   "source": [
    "print(classification_report(y_train,y_train_pred))"
   ]
  },
  {
   "cell_type": "code",
   "execution_count": 30,
   "id": "5cdea9ec",
   "metadata": {},
   "outputs": [
    {
     "name": "stdout",
     "output_type": "stream",
     "text": [
      "              precision    recall  f1-score   support\n",
      "\n",
      "           0       0.54      0.95      0.69      2478\n",
      "           1       0.80      0.19      0.30      2522\n",
      "\n",
      "    accuracy                           0.57      5000\n",
      "   macro avg       0.67      0.57      0.49      5000\n",
      "weighted avg       0.67      0.57      0.49      5000\n",
      "\n"
     ]
    }
   ],
   "source": [
    "print(classification_report(y_test,y_test_pred))"
   ]
  },
  {
   "cell_type": "markdown",
   "id": "99b4b2d4",
   "metadata": {},
   "source": [
    "#### BPE 토크나이저로 벡터화한 x 데이터 모델 훈련"
   ]
  },
  {
   "cell_type": "code",
   "execution_count": 31,
   "id": "d2a571c0",
   "metadata": {},
   "outputs": [],
   "source": [
    "clf_decision= DecisionTreeClassifier(random_state=random_seed_num, max_depth=7)"
   ]
  },
  {
   "cell_type": "code",
   "execution_count": 32,
   "id": "20670560",
   "metadata": {},
   "outputs": [],
   "source": [
    "clf_decision.fit(bpe_vec_train,y_train)\n",
    "y_train_pred= clf_decision.predict(bpe_vec_train)\n",
    "y_test_pred= clf_decision.predict(bpe_vec_test)"
   ]
  },
  {
   "cell_type": "code",
   "execution_count": 33,
   "id": "3aa0ba82",
   "metadata": {},
   "outputs": [
    {
     "name": "stdout",
     "output_type": "stream",
     "text": [
      "              precision    recall  f1-score   support\n",
      "\n",
      "           0       0.55      0.96      0.70      5021\n",
      "           1       0.84      0.19      0.31      4979\n",
      "\n",
      "    accuracy                           0.58     10000\n",
      "   macro avg       0.69      0.58      0.50     10000\n",
      "weighted avg       0.69      0.58      0.50     10000\n",
      "\n"
     ]
    }
   ],
   "source": [
    "print(classification_report(y_train,y_train_pred))"
   ]
  },
  {
   "cell_type": "code",
   "execution_count": 34,
   "id": "85c9ef48",
   "metadata": {},
   "outputs": [
    {
     "name": "stdout",
     "output_type": "stream",
     "text": [
      "              precision    recall  f1-score   support\n",
      "\n",
      "           0       0.53      0.95      0.68      2478\n",
      "           1       0.78      0.17      0.28      2522\n",
      "\n",
      "    accuracy                           0.56      5000\n",
      "   macro avg       0.66      0.56      0.48      5000\n",
      "weighted avg       0.66      0.56      0.48      5000\n",
      "\n"
     ]
    }
   ],
   "source": [
    "print(classification_report(y_test,y_test_pred))"
   ]
  },
  {
   "cell_type": "markdown",
   "id": "5275bb59",
   "metadata": {},
   "source": [
    "## 랜덤 포레스트 분류 모델"
   ]
  },
  {
   "cell_type": "code",
   "execution_count": 35,
   "id": "9f4cbb44",
   "metadata": {},
   "outputs": [
    {
     "name": "stdout",
     "output_type": "stream",
     "text": [
      "              precision    recall  f1-score   support\n",
      "\n",
      "           0       0.70      0.88      0.78      5021\n",
      "           1       0.84      0.63      0.72      4979\n",
      "\n",
      "    accuracy                           0.75     10000\n",
      "   macro avg       0.77      0.75      0.75     10000\n",
      "weighted avg       0.77      0.75      0.75     10000\n",
      "\n",
      "              precision    recall  f1-score   support\n",
      "\n",
      "           0       0.66      0.83      0.74      2478\n",
      "           1       0.78      0.58      0.66      2522\n",
      "\n",
      "    accuracy                           0.70      5000\n",
      "   macro avg       0.72      0.71      0.70      5000\n",
      "weighted avg       0.72      0.70      0.70      5000\n",
      "\n"
     ]
    }
   ],
   "source": [
    "rfc_decision= RandomForestClassifier(random_state=random_seed_num, max_depth=7)\n",
    "rfc_decision.fit(wp_vec_train,y_train)\n",
    "y_train_pred= rfc_decision.predict(wp_vec_train)\n",
    "y_test_pred= rfc_decision.predict(wp_vec_test)\n",
    "print(classification_report(y_train,y_train_pred))\n",
    "print(classification_report(y_test,y_test_pred))"
   ]
  },
  {
   "cell_type": "markdown",
   "id": "22c38841",
   "metadata": {},
   "source": [
    "#### Kneighbors 분류모델\n",
    "\n",
    "* 언발란스 데이터에 대한 분류모델로 성능이 좋은 편임\n",
    " * 비대칭 데이터 관련 패키지 참조(10프로 미만)\n",
    " * 현재 데이터에서는 과적합되어잇는 것으로 보임"
   ]
  },
  {
   "cell_type": "code",
   "execution_count": 36,
   "id": "0f97c783",
   "metadata": {},
   "outputs": [
    {
     "name": "stdout",
     "output_type": "stream",
     "text": [
      "              precision    recall  f1-score   support\n",
      "\n",
      "           0       0.99      1.00      1.00      5021\n",
      "           1       1.00      0.99      1.00      4979\n",
      "\n",
      "    accuracy                           1.00     10000\n",
      "   macro avg       1.00      1.00      1.00     10000\n",
      "weighted avg       1.00      1.00      1.00     10000\n",
      "\n",
      "              precision    recall  f1-score   support\n",
      "\n",
      "           0       0.68      0.68      0.68      2478\n",
      "           1       0.69      0.68      0.69      2522\n",
      "\n",
      "    accuracy                           0.68      5000\n",
      "   macro avg       0.68      0.68      0.68      5000\n",
      "weighted avg       0.68      0.68      0.68      5000\n",
      "\n"
     ]
    }
   ],
   "source": [
    "clf_kneighbors= KNeighborsClassifier(n_neighbors=2, weights='distance', leaf_size=50)\n",
    "clf_kneighbors.fit(wp_vec_train,y_train)\n",
    "y_train_pred= clf_kneighbors.predict(wp_vec_train)\n",
    "y_test_pred= clf_kneighbors.predict(wp_vec_test)\n",
    "\n",
    "### 트레이닝 에서 분석결과가 너무 좋으면 의심해야 한다.\n",
    "print(classification_report(y_train,y_train_pred))\n",
    "## 테스트에서 떨어짐. 훈련데이터에 너무 학습된 모델임\n",
    "print(classification_report(y_test,y_test_pred))"
   ]
  },
  {
   "cell_type": "markdown",
   "id": "9b04dba3",
   "metadata": {},
   "source": [
    "### LogisticRegression 분류모델"
   ]
  },
  {
   "cell_type": "code",
   "execution_count": 39,
   "id": "2c618a49",
   "metadata": {},
   "outputs": [
    {
     "name": "stdout",
     "output_type": "stream",
     "text": [
      "              precision    recall  f1-score   support\n",
      "\n",
      "           0       0.90      0.92      0.91      5021\n",
      "           1       0.92      0.90      0.91      4979\n",
      "\n",
      "    accuracy                           0.91     10000\n",
      "   macro avg       0.91      0.91      0.91     10000\n",
      "weighted avg       0.91      0.91      0.91     10000\n",
      "\n",
      "              precision    recall  f1-score   support\n",
      "\n",
      "           0       0.79      0.82      0.80      2478\n",
      "           1       0.81      0.78      0.80      2522\n",
      "\n",
      "    accuracy                           0.80      5000\n",
      "   macro avg       0.80      0.80      0.80      5000\n",
      "weighted avg       0.80      0.80      0.80      5000\n",
      "\n"
     ]
    }
   ],
   "source": [
    "clf_logistic= LogisticRegression(max_iter=5000,random_state=random_seed_num)\n",
    "clf_logistic.fit(wp_vec_train,y_train)\n",
    "y_train_pred= clf_logistic.predict(wp_vec_train)\n",
    "y_test_pred= clf_logistic.predict(wp_vec_test)\n",
    "print(classification_report(y_train,y_train_pred))\n",
    "print(classification_report(y_test,y_test_pred))"
   ]
  },
  {
   "cell_type": "code",
   "execution_count": 40,
   "id": "01dd8c7f",
   "metadata": {},
   "outputs": [
    {
     "name": "stdout",
     "output_type": "stream",
     "text": [
      "              precision    recall  f1-score   support\n",
      "\n",
      "           0       0.90      0.92      0.91      5021\n",
      "           1       0.92      0.90      0.91      4979\n",
      "\n",
      "    accuracy                           0.91     10000\n",
      "   macro avg       0.91      0.91      0.91     10000\n",
      "weighted avg       0.91      0.91      0.91     10000\n",
      "\n",
      "              precision    recall  f1-score   support\n",
      "\n",
      "           0       0.78      0.82      0.80      2478\n",
      "           1       0.81      0.78      0.79      2522\n",
      "\n",
      "    accuracy                           0.80      5000\n",
      "   macro avg       0.80      0.80      0.80      5000\n",
      "weighted avg       0.80      0.80      0.80      5000\n",
      "\n"
     ]
    }
   ],
   "source": [
    "clf_logistic= LogisticRegression(max_iter=5000,random_state=random_seed_num)\n",
    "clf_logistic.fit(bpe_vec_train,y_train)\n",
    "y_train_pred= clf_logistic.predict(bpe_vec_train)\n",
    "y_test_pred= clf_logistic.predict(bpe_vec_test)\n",
    "print(classification_report(y_train,y_train_pred))\n",
    "print(classification_report(y_test,y_test_pred))"
   ]
  },
  {
   "cell_type": "markdown",
   "id": "691b4d1d",
   "metadata": {},
   "source": [
    "## MLP"
   ]
  },
  {
   "cell_type": "code",
   "execution_count": 41,
   "id": "6538f2f6",
   "metadata": {},
   "outputs": [
    {
     "name": "stderr",
     "output_type": "stream",
     "text": [
      "/opt/conda/lib/python3.10/site-packages/sklearn/neural_network/_multilayer_perceptron.py:541: ConvergenceWarning: lbfgs failed to converge (status=1):\n",
      "STOP: TOTAL NO. of ITERATIONS REACHED LIMIT.\n",
      "\n",
      "Increase the number of iterations (max_iter) or scale the data as shown in:\n",
      "    https://scikit-learn.org/stable/modules/preprocessing.html\n",
      "  self.n_iter_ = _check_optimize_result(\"lbfgs\", opt_res, self.max_iter)\n"
     ]
    },
    {
     "name": "stdout",
     "output_type": "stream",
     "text": [
      "              precision    recall  f1-score   support\n",
      "\n",
      "           0       1.00      0.99      1.00      5021\n",
      "           1       0.99      1.00      1.00      4979\n",
      "\n",
      "    accuracy                           1.00     10000\n",
      "   macro avg       1.00      1.00      1.00     10000\n",
      "weighted avg       1.00      1.00      1.00     10000\n",
      "\n",
      "              precision    recall  f1-score   support\n",
      "\n",
      "           0       0.78      0.79      0.78      2478\n",
      "           1       0.79      0.78      0.78      2522\n",
      "\n",
      "    accuracy                           0.78      5000\n",
      "   macro avg       0.78      0.78      0.78      5000\n",
      "weighted avg       0.78      0.78      0.78      5000\n",
      "\n"
     ]
    }
   ],
   "source": [
    "clf_mlp= MLPClassifier(solver='lbfgs',alpha=0.5,max_iter=100,random_state=random_seed_num)\n",
    "clf_mlp.fit(wp_vec_train,y_train)\n",
    "y_train_pred= clf_mlp.predict(wp_vec_train)\n",
    "y_test_pred= clf_mlp.predict(wp_vec_test)\n",
    "print(classification_report(y_train,y_train_pred))\n",
    "print(classification_report(y_test,y_test_pred))"
   ]
  },
  {
   "cell_type": "markdown",
   "id": "39a041cf",
   "metadata": {},
   "source": [
    "### Xgboost"
   ]
  },
  {
   "cell_type": "code",
   "execution_count": 42,
   "id": "d3919446",
   "metadata": {},
   "outputs": [
    {
     "name": "stdout",
     "output_type": "stream",
     "text": [
      "              precision    recall  f1-score   support\n",
      "\n",
      "           0       0.81      0.90      0.85      5021\n",
      "           1       0.89      0.78      0.83      4979\n",
      "\n",
      "    accuracy                           0.84     10000\n",
      "   macro avg       0.85      0.84      0.84     10000\n",
      "weighted avg       0.85      0.84      0.84     10000\n",
      "\n",
      "              precision    recall  f1-score   support\n",
      "\n",
      "           0       0.69      0.80      0.74      2478\n",
      "           1       0.77      0.65      0.70      2522\n",
      "\n",
      "    accuracy                           0.72      5000\n",
      "   macro avg       0.73      0.72      0.72      5000\n",
      "weighted avg       0.73      0.72      0.72      5000\n",
      "\n"
     ]
    }
   ],
   "source": [
    "clf_xgb= XGBClassifier(random_state=random_seed_num, max_depth=7)\n",
    "clf_xgb.fit(wp_vec_train,y_train)\n",
    "y_train_pred= clf_xgb.predict(wp_vec_train)\n",
    "y_test_pred= clf_xgb.predict(wp_vec_test)\n",
    "print(classification_report(y_train,y_train_pred))\n",
    "print(classification_report(y_test,y_test_pred))"
   ]
  },
  {
   "cell_type": "markdown",
   "id": "2fe51713",
   "metadata": {},
   "source": [
    "### 어떤 모델,  어떤 백터가 좋은 예측 모델을 만들었는지 확인\n",
    "\n",
    "1. wp,bpe, kkma, mp(okt)\n",
    "    * wp: 분류모델에 사용하기 적합( 다른 토크나이저보다 소요시간, 모델성능에서 유리함)\n",
    "    * bpe : kkma, mp 보다는 모델 훈련에서 시간소요가 덜하지만, wp 보다는 모델 성능에서 효과가 낮음 (의사결정, 로지스틱)\n",
    "    * kkma :모델 훈련 적용 불가\n",
    "    * mp: 모델 훈련 적용 불가\n",
    "    \n",
    "2. 분류 모델 중에서 사용할만한 모델 선택\n",
    "    * DecisionTreeClassifier(의사결정나무): 모델의 성능평가가 가장 낮음\n",
    "    * RandomForestClassifier : 의사결정보다는 높은 모델 성능 평가, 하지만 다른 모델보다는 성능이 낮음\n",
    "    * xgboost : 모델 성능에서는 활용할 수 있을 정도로 판단됨. 다른 모델보다 훈련 시간이 필요함 (과적합 낮은 편)\n",
    "    * LogisticRegression : 다른 모델보다 적합한 모델로 보임 (과적합 낮은편, 모델 성능 준수한 편)\n",
    "    * MLPClassifier : 모델의 과적합 된것으로 보임 (f1-score : train=test+0.2)\n",
    "    * KNeighborsClassifier : 모델이 과적합된것으로 보임 (f1-score : train=test+0.3)\n",
    "\n"
   ]
  },
  {
   "cell_type": "markdown",
   "id": "3f92674b",
   "metadata": {},
   "source": [
    "### 앙상블 분류 모델\n",
    "\n",
    "- 앙상블 1: 랜덤포레스트 / xgboost/ 로지스틱\n",
    "\n",
    "- 앙상블 2: mlp/xgboost/로지스틱"
   ]
  },
  {
   "cell_type": "code",
   "execution_count": 44,
   "id": "5c623bcb",
   "metadata": {},
   "outputs": [],
   "source": [
    "clf_randomf = RandomForestClassifier(random_state=random_seed_num, max_depth=7)\n",
    "clf_xgboost= XGBClassifier(random_state=random_seed_num, max_depth=7)\n",
    "clf_logistic= LogisticRegression(max_iter=5000,random_state=random_seed_num)\n",
    "clf_ensemble_1=VotingClassifier(estimators=[('xgoboost',clf_xgboost),('randomforest',clf_randomf),('logistic',clf_logistic)], voting='hard')"
   ]
  },
  {
   "cell_type": "code",
   "execution_count": 45,
   "id": "f496b17a",
   "metadata": {},
   "outputs": [
    {
     "name": "stdout",
     "output_type": "stream",
     "text": [
      "              precision    recall  f1-score   support\n",
      "\n",
      "           0       0.81      0.91      0.86      5021\n",
      "           1       0.90      0.78      0.84      4979\n",
      "\n",
      "    accuracy                           0.85     10000\n",
      "   macro avg       0.85      0.85      0.85     10000\n",
      "weighted avg       0.85      0.85      0.85     10000\n",
      "\n",
      "              precision    recall  f1-score   support\n",
      "\n",
      "           0       0.71      0.84      0.77      2478\n",
      "           1       0.81      0.66      0.73      2522\n",
      "\n",
      "    accuracy                           0.75      5000\n",
      "   macro avg       0.76      0.75      0.75      5000\n",
      "weighted avg       0.76      0.75      0.75      5000\n",
      "\n"
     ]
    }
   ],
   "source": [
    "clf_ensemble_1.fit(wp_vec_train,y_train)\n",
    "y_train_pred= clf_ensemble_1.predict(wp_vec_train)\n",
    "y_test_pred= clf_ensemble_1.predict(wp_vec_test)\n",
    "print(classification_report(y_train,y_train_pred))\n",
    "print(classification_report(y_test,y_test_pred))"
   ]
  },
  {
   "cell_type": "code",
   "execution_count": 46,
   "id": "5a6a0b16",
   "metadata": {},
   "outputs": [],
   "source": [
    "clf_mlp= MLPClassifier(solver='lbfgs',alpha=0.5,max_iter=100,random_state=random_seed_num)\n",
    "clf_xgboost= XGBClassifier(random_state=random_seed_num, max_depth=7)\n",
    "clf_logistic= LogisticRegression(max_iter=5000,random_state=random_seed_num)\n",
    "clf_ensemble_2=VotingClassifier(estimators=[('xgoboost',clf_xgboost),('mlp',clf_mlp),('logistic',clf_logistic)], voting='hard')"
   ]
  },
  {
   "cell_type": "code",
   "execution_count": 47,
   "id": "d11fdc37",
   "metadata": {},
   "outputs": [
    {
     "name": "stderr",
     "output_type": "stream",
     "text": [
      "/opt/conda/lib/python3.10/site-packages/sklearn/neural_network/_multilayer_perceptron.py:541: ConvergenceWarning: lbfgs failed to converge (status=1):\n",
      "STOP: TOTAL NO. of ITERATIONS REACHED LIMIT.\n",
      "\n",
      "Increase the number of iterations (max_iter) or scale the data as shown in:\n",
      "    https://scikit-learn.org/stable/modules/preprocessing.html\n",
      "  self.n_iter_ = _check_optimize_result(\"lbfgs\", opt_res, self.max_iter)\n"
     ]
    },
    {
     "name": "stdout",
     "output_type": "stream",
     "text": [
      "              precision    recall  f1-score   support\n",
      "\n",
      "           0       0.93      0.96      0.94      5021\n",
      "           1       0.95      0.93      0.94      4979\n",
      "\n",
      "    accuracy                           0.94     10000\n",
      "   macro avg       0.94      0.94      0.94     10000\n",
      "weighted avg       0.94      0.94      0.94     10000\n",
      "\n",
      "              precision    recall  f1-score   support\n",
      "\n",
      "           0       0.78      0.82      0.80      2478\n",
      "           1       0.81      0.77      0.79      2522\n",
      "\n",
      "    accuracy                           0.80      5000\n",
      "   macro avg       0.80      0.80      0.80      5000\n",
      "weighted avg       0.80      0.80      0.80      5000\n",
      "\n"
     ]
    }
   ],
   "source": [
    "clf_ensemble_2.fit(wp_vec_train,y_train)\n",
    "y_train_pred= clf_ensemble_2.predict(wp_vec_train)\n",
    "y_test_pred= clf_ensemble_2.predict(wp_vec_test)\n",
    "print(classification_report(y_train,y_train_pred))\n",
    "print(classification_report(y_test,y_test_pred))"
   ]
  },
  {
   "cell_type": "markdown",
   "id": "9e650432",
   "metadata": {},
   "source": [
    "#### 모델 훈련 및 모델을 선택하기\n",
    "\n",
    "1. 개별 모델을 하나씩 훈련시키고 평가\n",
    "2. 각 모델들의 성능을 비교해서 앙상블 모델로 만들기\n",
    "    - 알고리즘끼리 유사한 모델들은 제외\n",
    "    - 모델 훈련 시간이 오래걸리는 것은 제외\n",
    "    - hardvoting : 각 모델의 분류된 라벨에 대한 voting, 다수결\n",
    "    - softvoting : 각 모델에서 라벨에 대한 예측 확률"
   ]
  },
  {
   "cell_type": "markdown",
   "id": "e7a15ebc",
   "metadata": {},
   "source": [
    "### 준지도학습\n",
    "\n",
    "* 지도학습 base 모델로 사용\n",
    "* y 라벨 일부 masking -> masking label을 예측 -> 훈련 데이터셋 활용\n",
    "* 이유: 새로운 데이터에 예측율을 높히기 위해"
   ]
  },
  {
   "cell_type": "code",
   "execution_count": null,
   "id": "36a6aa4c",
   "metadata": {},
   "outputs": [],
   "source": [
    "from sklearn.semi_supervised  import SelfTrainingClassifier"
   ]
  },
  {
   "cell_type": "code",
   "execution_count": 48,
   "id": "32e5c457",
   "metadata": {},
   "outputs": [],
   "source": [
    "semi_clf_xgboost= XGBClassifier(random_state=random_seed_num, max_depth=7)\n",
    "self_train_model= SelfTrainingClassifier(semi_clf_xgboost)"
   ]
  },
  {
   "cell_type": "code",
   "execution_count": 49,
   "id": "7a90fadd",
   "metadata": {},
   "outputs": [
    {
     "name": "stderr",
     "output_type": "stream",
     "text": [
      "/opt/conda/lib/python3.10/site-packages/sklearn/semi_supervised/_self_training.py:212: UserWarning: y contains no unlabeled samples\n",
      "  warnings.warn(\"y contains no unlabeled samples\", UserWarning)\n"
     ]
    },
    {
     "data": {
      "text/html": [
       "<style>#sk-container-id-2 {color: black;background-color: white;}#sk-container-id-2 pre{padding: 0;}#sk-container-id-2 div.sk-toggleable {background-color: white;}#sk-container-id-2 label.sk-toggleable__label {cursor: pointer;display: block;width: 100%;margin-bottom: 0;padding: 0.3em;box-sizing: border-box;text-align: center;}#sk-container-id-2 label.sk-toggleable__label-arrow:before {content: \"▸\";float: left;margin-right: 0.25em;color: #696969;}#sk-container-id-2 label.sk-toggleable__label-arrow:hover:before {color: black;}#sk-container-id-2 div.sk-estimator:hover label.sk-toggleable__label-arrow:before {color: black;}#sk-container-id-2 div.sk-toggleable__content {max-height: 0;max-width: 0;overflow: hidden;text-align: left;background-color: #f0f8ff;}#sk-container-id-2 div.sk-toggleable__content pre {margin: 0.2em;color: black;border-radius: 0.25em;background-color: #f0f8ff;}#sk-container-id-2 input.sk-toggleable__control:checked~div.sk-toggleable__content {max-height: 200px;max-width: 100%;overflow: auto;}#sk-container-id-2 input.sk-toggleable__control:checked~label.sk-toggleable__label-arrow:before {content: \"▾\";}#sk-container-id-2 div.sk-estimator input.sk-toggleable__control:checked~label.sk-toggleable__label {background-color: #d4ebff;}#sk-container-id-2 div.sk-label input.sk-toggleable__control:checked~label.sk-toggleable__label {background-color: #d4ebff;}#sk-container-id-2 input.sk-hidden--visually {border: 0;clip: rect(1px 1px 1px 1px);clip: rect(1px, 1px, 1px, 1px);height: 1px;margin: -1px;overflow: hidden;padding: 0;position: absolute;width: 1px;}#sk-container-id-2 div.sk-estimator {font-family: monospace;background-color: #f0f8ff;border: 1px dotted black;border-radius: 0.25em;box-sizing: border-box;margin-bottom: 0.5em;}#sk-container-id-2 div.sk-estimator:hover {background-color: #d4ebff;}#sk-container-id-2 div.sk-parallel-item::after {content: \"\";width: 100%;border-bottom: 1px solid gray;flex-grow: 1;}#sk-container-id-2 div.sk-label:hover label.sk-toggleable__label {background-color: #d4ebff;}#sk-container-id-2 div.sk-serial::before {content: \"\";position: absolute;border-left: 1px solid gray;box-sizing: border-box;top: 0;bottom: 0;left: 50%;z-index: 0;}#sk-container-id-2 div.sk-serial {display: flex;flex-direction: column;align-items: center;background-color: white;padding-right: 0.2em;padding-left: 0.2em;position: relative;}#sk-container-id-2 div.sk-item {position: relative;z-index: 1;}#sk-container-id-2 div.sk-parallel {display: flex;align-items: stretch;justify-content: center;background-color: white;position: relative;}#sk-container-id-2 div.sk-item::before, #sk-container-id-2 div.sk-parallel-item::before {content: \"\";position: absolute;border-left: 1px solid gray;box-sizing: border-box;top: 0;bottom: 0;left: 50%;z-index: -1;}#sk-container-id-2 div.sk-parallel-item {display: flex;flex-direction: column;z-index: 1;position: relative;background-color: white;}#sk-container-id-2 div.sk-parallel-item:first-child::after {align-self: flex-end;width: 50%;}#sk-container-id-2 div.sk-parallel-item:last-child::after {align-self: flex-start;width: 50%;}#sk-container-id-2 div.sk-parallel-item:only-child::after {width: 0;}#sk-container-id-2 div.sk-dashed-wrapped {border: 1px dashed gray;margin: 0 0.4em 0.5em 0.4em;box-sizing: border-box;padding-bottom: 0.4em;background-color: white;}#sk-container-id-2 div.sk-label label {font-family: monospace;font-weight: bold;display: inline-block;line-height: 1.2em;}#sk-container-id-2 div.sk-label-container {text-align: center;}#sk-container-id-2 div.sk-container {/* jupyter's `normalize.less` sets `[hidden] { display: none; }` but bootstrap.min.css set `[hidden] { display: none !important; }` so we also need the `!important` here to be able to override the default hidden behavior on the sphinx rendered scikit-learn.org. See: https://github.com/scikit-learn/scikit-learn/issues/21755 */display: inline-block !important;position: relative;}#sk-container-id-2 div.sk-text-repr-fallback {display: none;}</style><div id=\"sk-container-id-2\" class=\"sk-top-container\"><div class=\"sk-text-repr-fallback\"><pre>SelfTrainingClassifier(base_estimator=XGBClassifier(base_score=None,\n",
       "                                                    booster=None,\n",
       "                                                    callbacks=None,\n",
       "                                                    colsample_bylevel=None,\n",
       "                                                    colsample_bynode=None,\n",
       "                                                    colsample_bytree=None,\n",
       "                                                    early_stopping_rounds=None,\n",
       "                                                    enable_categorical=False,\n",
       "                                                    eval_metric=None,\n",
       "                                                    feature_types=None,\n",
       "                                                    gamma=None, gpu_id=None,\n",
       "                                                    grow_policy=None,\n",
       "                                                    importance_type=None,\n",
       "                                                    interaction_constraints=None,\n",
       "                                                    learning_rate=None,\n",
       "                                                    max_bin=None,\n",
       "                                                    max_cat_threshold=None,\n",
       "                                                    max_cat_to_onehot=None,\n",
       "                                                    max_delta_step=None,\n",
       "                                                    max_depth=7,\n",
       "                                                    max_leaves=None,\n",
       "                                                    min_child_weight=None,\n",
       "                                                    missing=nan,\n",
       "                                                    monotone_constraints=None,\n",
       "                                                    n_estimators=100,\n",
       "                                                    n_jobs=None,\n",
       "                                                    num_parallel_tree=None,\n",
       "                                                    predictor=None,\n",
       "                                                    random_state=42, ...))</pre><b>In a Jupyter environment, please rerun this cell to show the HTML representation or trust the notebook. <br />On GitHub, the HTML representation is unable to render, please try loading this page with nbviewer.org.</b></div><div class=\"sk-container\" hidden><div class=\"sk-item sk-dashed-wrapped\"><div class=\"sk-label-container\"><div class=\"sk-label sk-toggleable\"><input class=\"sk-toggleable__control sk-hidden--visually\" id=\"sk-estimator-id-2\" type=\"checkbox\" ><label for=\"sk-estimator-id-2\" class=\"sk-toggleable__label sk-toggleable__label-arrow\">SelfTrainingClassifier</label><div class=\"sk-toggleable__content\"><pre>SelfTrainingClassifier(base_estimator=XGBClassifier(base_score=None,\n",
       "                                                    booster=None,\n",
       "                                                    callbacks=None,\n",
       "                                                    colsample_bylevel=None,\n",
       "                                                    colsample_bynode=None,\n",
       "                                                    colsample_bytree=None,\n",
       "                                                    early_stopping_rounds=None,\n",
       "                                                    enable_categorical=False,\n",
       "                                                    eval_metric=None,\n",
       "                                                    feature_types=None,\n",
       "                                                    gamma=None, gpu_id=None,\n",
       "                                                    grow_policy=None,\n",
       "                                                    importance_type=None,\n",
       "                                                    interaction_constraints=None,\n",
       "                                                    learning_rate=None,\n",
       "                                                    max_bin=None,\n",
       "                                                    max_cat_threshold=None,\n",
       "                                                    max_cat_to_onehot=None,\n",
       "                                                    max_delta_step=None,\n",
       "                                                    max_depth=7,\n",
       "                                                    max_leaves=None,\n",
       "                                                    min_child_weight=None,\n",
       "                                                    missing=nan,\n",
       "                                                    monotone_constraints=None,\n",
       "                                                    n_estimators=100,\n",
       "                                                    n_jobs=None,\n",
       "                                                    num_parallel_tree=None,\n",
       "                                                    predictor=None,\n",
       "                                                    random_state=42, ...))</pre></div></div></div><div class=\"sk-parallel\"><div class=\"sk-parallel-item\"><div class=\"sk-item\"><div class=\"sk-label-container\"><div class=\"sk-label sk-toggleable\"><input class=\"sk-toggleable__control sk-hidden--visually\" id=\"sk-estimator-id-3\" type=\"checkbox\" ><label for=\"sk-estimator-id-3\" class=\"sk-toggleable__label sk-toggleable__label-arrow\">base_estimator: XGBClassifier</label><div class=\"sk-toggleable__content\"><pre>XGBClassifier(base_score=None, booster=None, callbacks=None,\n",
       "              colsample_bylevel=None, colsample_bynode=None,\n",
       "              colsample_bytree=None, early_stopping_rounds=None,\n",
       "              enable_categorical=False, eval_metric=None, feature_types=None,\n",
       "              gamma=None, gpu_id=None, grow_policy=None, importance_type=None,\n",
       "              interaction_constraints=None, learning_rate=None, max_bin=None,\n",
       "              max_cat_threshold=None, max_cat_to_onehot=None,\n",
       "              max_delta_step=None, max_depth=7, max_leaves=None,\n",
       "              min_child_weight=None, missing=nan, monotone_constraints=None,\n",
       "              n_estimators=100, n_jobs=None, num_parallel_tree=None,\n",
       "              predictor=None, random_state=42, ...)</pre></div></div></div><div class=\"sk-serial\"><div class=\"sk-item\"><div class=\"sk-estimator sk-toggleable\"><input class=\"sk-toggleable__control sk-hidden--visually\" id=\"sk-estimator-id-4\" type=\"checkbox\" ><label for=\"sk-estimator-id-4\" class=\"sk-toggleable__label sk-toggleable__label-arrow\">XGBClassifier</label><div class=\"sk-toggleable__content\"><pre>XGBClassifier(base_score=None, booster=None, callbacks=None,\n",
       "              colsample_bylevel=None, colsample_bynode=None,\n",
       "              colsample_bytree=None, early_stopping_rounds=None,\n",
       "              enable_categorical=False, eval_metric=None, feature_types=None,\n",
       "              gamma=None, gpu_id=None, grow_policy=None, importance_type=None,\n",
       "              interaction_constraints=None, learning_rate=None, max_bin=None,\n",
       "              max_cat_threshold=None, max_cat_to_onehot=None,\n",
       "              max_delta_step=None, max_depth=7, max_leaves=None,\n",
       "              min_child_weight=None, missing=nan, monotone_constraints=None,\n",
       "              n_estimators=100, n_jobs=None, num_parallel_tree=None,\n",
       "              predictor=None, random_state=42, ...)</pre></div></div></div></div></div></div></div></div></div></div>"
      ],
      "text/plain": [
       "SelfTrainingClassifier(base_estimator=XGBClassifier(base_score=None,\n",
       "                                                    booster=None,\n",
       "                                                    callbacks=None,\n",
       "                                                    colsample_bylevel=None,\n",
       "                                                    colsample_bynode=None,\n",
       "                                                    colsample_bytree=None,\n",
       "                                                    early_stopping_rounds=None,\n",
       "                                                    enable_categorical=False,\n",
       "                                                    eval_metric=None,\n",
       "                                                    feature_types=None,\n",
       "                                                    gamma=None, gpu_id=None,\n",
       "                                                    grow_policy=None,\n",
       "                                                    importance_type=None,\n",
       "                                                    interaction_constraints=None,\n",
       "                                                    learning_rate=None,\n",
       "                                                    max_bin=None,\n",
       "                                                    max_cat_threshold=None,\n",
       "                                                    max_cat_to_onehot=None,\n",
       "                                                    max_delta_step=None,\n",
       "                                                    max_depth=7,\n",
       "                                                    max_leaves=None,\n",
       "                                                    min_child_weight=None,\n",
       "                                                    missing=nan,\n",
       "                                                    monotone_constraints=None,\n",
       "                                                    n_estimators=100,\n",
       "                                                    n_jobs=None,\n",
       "                                                    num_parallel_tree=None,\n",
       "                                                    predictor=None,\n",
       "                                                    random_state=42, ...))"
      ]
     },
     "execution_count": 49,
     "metadata": {},
     "output_type": "execute_result"
    }
   ],
   "source": [
    "self_train_model.fit(wp_vec_train,y_train)"
   ]
  },
  {
   "cell_type": "code",
   "execution_count": 50,
   "id": "6f7e8693",
   "metadata": {},
   "outputs": [],
   "source": [
    "y_train_pred=self_train_model.predict(wp_vec_train)\n",
    "y_test_pred=self_train_model.predict(wp_vec_test)"
   ]
  },
  {
   "cell_type": "code",
   "execution_count": 51,
   "id": "dae3df76",
   "metadata": {},
   "outputs": [
    {
     "name": "stdout",
     "output_type": "stream",
     "text": [
      "              precision    recall  f1-score   support\n",
      "\n",
      "           0       0.81      0.90      0.85      5021\n",
      "           1       0.89      0.78      0.83      4979\n",
      "\n",
      "    accuracy                           0.84     10000\n",
      "   macro avg       0.85      0.84      0.84     10000\n",
      "weighted avg       0.85      0.84      0.84     10000\n",
      "\n"
     ]
    }
   ],
   "source": [
    "print(classification_report(y_train, y_train_pred))"
   ]
  },
  {
   "cell_type": "code",
   "execution_count": 52,
   "id": "c2b92419",
   "metadata": {},
   "outputs": [
    {
     "name": "stdout",
     "output_type": "stream",
     "text": [
      "              precision    recall  f1-score   support\n",
      "\n",
      "           0       0.69      0.80      0.74      2478\n",
      "           1       0.77      0.65      0.70      2522\n",
      "\n",
      "    accuracy                           0.72      5000\n",
      "   macro avg       0.73      0.72      0.72      5000\n",
      "weighted avg       0.73      0.72      0.72      5000\n",
      "\n"
     ]
    }
   ],
   "source": [
    "print(classification_report(y_test, y_test_pred))"
   ]
  },
  {
   "cell_type": "code",
   "execution_count": 53,
   "id": "a38a69bb",
   "metadata": {},
   "outputs": [],
   "source": [
    "semi_clf_dc= DecisionTreeClassifier(random_state=random_seed_num, max_depth=7)\n",
    "self_train_model2= SelfTrainingClassifier(semi_clf_dc)"
   ]
  },
  {
   "cell_type": "code",
   "execution_count": 55,
   "id": "695b5929",
   "metadata": {},
   "outputs": [
    {
     "name": "stderr",
     "output_type": "stream",
     "text": [
      "/opt/conda/lib/python3.10/site-packages/sklearn/semi_supervised/_self_training.py:212: UserWarning: y contains no unlabeled samples\n",
      "  warnings.warn(\"y contains no unlabeled samples\", UserWarning)\n"
     ]
    },
    {
     "data": {
      "text/html": [
       "<style>#sk-container-id-3 {color: black;background-color: white;}#sk-container-id-3 pre{padding: 0;}#sk-container-id-3 div.sk-toggleable {background-color: white;}#sk-container-id-3 label.sk-toggleable__label {cursor: pointer;display: block;width: 100%;margin-bottom: 0;padding: 0.3em;box-sizing: border-box;text-align: center;}#sk-container-id-3 label.sk-toggleable__label-arrow:before {content: \"▸\";float: left;margin-right: 0.25em;color: #696969;}#sk-container-id-3 label.sk-toggleable__label-arrow:hover:before {color: black;}#sk-container-id-3 div.sk-estimator:hover label.sk-toggleable__label-arrow:before {color: black;}#sk-container-id-3 div.sk-toggleable__content {max-height: 0;max-width: 0;overflow: hidden;text-align: left;background-color: #f0f8ff;}#sk-container-id-3 div.sk-toggleable__content pre {margin: 0.2em;color: black;border-radius: 0.25em;background-color: #f0f8ff;}#sk-container-id-3 input.sk-toggleable__control:checked~div.sk-toggleable__content {max-height: 200px;max-width: 100%;overflow: auto;}#sk-container-id-3 input.sk-toggleable__control:checked~label.sk-toggleable__label-arrow:before {content: \"▾\";}#sk-container-id-3 div.sk-estimator input.sk-toggleable__control:checked~label.sk-toggleable__label {background-color: #d4ebff;}#sk-container-id-3 div.sk-label input.sk-toggleable__control:checked~label.sk-toggleable__label {background-color: #d4ebff;}#sk-container-id-3 input.sk-hidden--visually {border: 0;clip: rect(1px 1px 1px 1px);clip: rect(1px, 1px, 1px, 1px);height: 1px;margin: -1px;overflow: hidden;padding: 0;position: absolute;width: 1px;}#sk-container-id-3 div.sk-estimator {font-family: monospace;background-color: #f0f8ff;border: 1px dotted black;border-radius: 0.25em;box-sizing: border-box;margin-bottom: 0.5em;}#sk-container-id-3 div.sk-estimator:hover {background-color: #d4ebff;}#sk-container-id-3 div.sk-parallel-item::after {content: \"\";width: 100%;border-bottom: 1px solid gray;flex-grow: 1;}#sk-container-id-3 div.sk-label:hover label.sk-toggleable__label {background-color: #d4ebff;}#sk-container-id-3 div.sk-serial::before {content: \"\";position: absolute;border-left: 1px solid gray;box-sizing: border-box;top: 0;bottom: 0;left: 50%;z-index: 0;}#sk-container-id-3 div.sk-serial {display: flex;flex-direction: column;align-items: center;background-color: white;padding-right: 0.2em;padding-left: 0.2em;position: relative;}#sk-container-id-3 div.sk-item {position: relative;z-index: 1;}#sk-container-id-3 div.sk-parallel {display: flex;align-items: stretch;justify-content: center;background-color: white;position: relative;}#sk-container-id-3 div.sk-item::before, #sk-container-id-3 div.sk-parallel-item::before {content: \"\";position: absolute;border-left: 1px solid gray;box-sizing: border-box;top: 0;bottom: 0;left: 50%;z-index: -1;}#sk-container-id-3 div.sk-parallel-item {display: flex;flex-direction: column;z-index: 1;position: relative;background-color: white;}#sk-container-id-3 div.sk-parallel-item:first-child::after {align-self: flex-end;width: 50%;}#sk-container-id-3 div.sk-parallel-item:last-child::after {align-self: flex-start;width: 50%;}#sk-container-id-3 div.sk-parallel-item:only-child::after {width: 0;}#sk-container-id-3 div.sk-dashed-wrapped {border: 1px dashed gray;margin: 0 0.4em 0.5em 0.4em;box-sizing: border-box;padding-bottom: 0.4em;background-color: white;}#sk-container-id-3 div.sk-label label {font-family: monospace;font-weight: bold;display: inline-block;line-height: 1.2em;}#sk-container-id-3 div.sk-label-container {text-align: center;}#sk-container-id-3 div.sk-container {/* jupyter's `normalize.less` sets `[hidden] { display: none; }` but bootstrap.min.css set `[hidden] { display: none !important; }` so we also need the `!important` here to be able to override the default hidden behavior on the sphinx rendered scikit-learn.org. See: https://github.com/scikit-learn/scikit-learn/issues/21755 */display: inline-block !important;position: relative;}#sk-container-id-3 div.sk-text-repr-fallback {display: none;}</style><div id=\"sk-container-id-3\" class=\"sk-top-container\"><div class=\"sk-text-repr-fallback\"><pre>SelfTrainingClassifier(base_estimator=DecisionTreeClassifier(max_depth=7,\n",
       "                                                             random_state=42))</pre><b>In a Jupyter environment, please rerun this cell to show the HTML representation or trust the notebook. <br />On GitHub, the HTML representation is unable to render, please try loading this page with nbviewer.org.</b></div><div class=\"sk-container\" hidden><div class=\"sk-item sk-dashed-wrapped\"><div class=\"sk-label-container\"><div class=\"sk-label sk-toggleable\"><input class=\"sk-toggleable__control sk-hidden--visually\" id=\"sk-estimator-id-5\" type=\"checkbox\" ><label for=\"sk-estimator-id-5\" class=\"sk-toggleable__label sk-toggleable__label-arrow\">SelfTrainingClassifier</label><div class=\"sk-toggleable__content\"><pre>SelfTrainingClassifier(base_estimator=DecisionTreeClassifier(max_depth=7,\n",
       "                                                             random_state=42))</pre></div></div></div><div class=\"sk-parallel\"><div class=\"sk-parallel-item\"><div class=\"sk-item\"><div class=\"sk-label-container\"><div class=\"sk-label sk-toggleable\"><input class=\"sk-toggleable__control sk-hidden--visually\" id=\"sk-estimator-id-6\" type=\"checkbox\" ><label for=\"sk-estimator-id-6\" class=\"sk-toggleable__label sk-toggleable__label-arrow\">base_estimator: DecisionTreeClassifier</label><div class=\"sk-toggleable__content\"><pre>DecisionTreeClassifier(max_depth=7, random_state=42)</pre></div></div></div><div class=\"sk-serial\"><div class=\"sk-item\"><div class=\"sk-estimator sk-toggleable\"><input class=\"sk-toggleable__control sk-hidden--visually\" id=\"sk-estimator-id-7\" type=\"checkbox\" ><label for=\"sk-estimator-id-7\" class=\"sk-toggleable__label sk-toggleable__label-arrow\">DecisionTreeClassifier</label><div class=\"sk-toggleable__content\"><pre>DecisionTreeClassifier(max_depth=7, random_state=42)</pre></div></div></div></div></div></div></div></div></div></div>"
      ],
      "text/plain": [
       "SelfTrainingClassifier(base_estimator=DecisionTreeClassifier(max_depth=7,\n",
       "                                                             random_state=42))"
      ]
     },
     "execution_count": 55,
     "metadata": {},
     "output_type": "execute_result"
    }
   ],
   "source": [
    "self_train_model2.fit(wp_vec_train,y_train)"
   ]
  },
  {
   "cell_type": "code",
   "execution_count": 56,
   "id": "63f05596",
   "metadata": {},
   "outputs": [],
   "source": [
    "y_train_pred=self_train_model2.predict(wp_vec_train)\n",
    "y_test_pred=self_train_model2.predict(wp_vec_test)"
   ]
  },
  {
   "cell_type": "code",
   "execution_count": 57,
   "id": "4e47acc7",
   "metadata": {},
   "outputs": [
    {
     "name": "stdout",
     "output_type": "stream",
     "text": [
      "              precision    recall  f1-score   support\n",
      "\n",
      "           0       0.55      0.96      0.70      5021\n",
      "           1       0.85      0.20      0.33      4979\n",
      "\n",
      "    accuracy                           0.59     10000\n",
      "   macro avg       0.70      0.58      0.51     10000\n",
      "weighted avg       0.70      0.59      0.52     10000\n",
      "\n"
     ]
    }
   ],
   "source": [
    "print(classification_report(y_train, y_train_pred))"
   ]
  },
  {
   "cell_type": "code",
   "execution_count": 58,
   "id": "8ff03940",
   "metadata": {},
   "outputs": [
    {
     "name": "stdout",
     "output_type": "stream",
     "text": [
      "              precision    recall  f1-score   support\n",
      "\n",
      "           0       0.54      0.95      0.69      2478\n",
      "           1       0.80      0.19      0.30      2522\n",
      "\n",
      "    accuracy                           0.57      5000\n",
      "   macro avg       0.67      0.57      0.49      5000\n",
      "weighted avg       0.67      0.57      0.49      5000\n",
      "\n"
     ]
    }
   ],
   "source": [
    "print(classification_report(y_test, y_test_pred))"
   ]
  },
  {
   "cell_type": "markdown",
   "id": "e277cd12",
   "metadata": {},
   "source": [
    "### 준지도 학습모델을 사용했던 경험\n",
    "\n",
    "1. 지도학습과 준지도학습 모델 훈련 결과 비슷\n",
    "    -> 데이터 양이 많음\n",
    "    -> 전처리에서 이미 주요 피쳐 추출에서 모델 훈련\n",
    "    \n",
    "2. 지도학습과 준지도학습의 모델 훈련 결과가 차이가 난 경우\n",
    "    -> 데이터양이 적음\n",
    "    -> 준지도학습에서 성능이 떨어진경우, 비대칭 데이터의 경우 다수 발생\n",
    "    -> 약간의 모델 성능, test에서 좀더 좋은 성능 내는 편임"
   ]
  },
  {
   "cell_type": "markdown",
   "id": "e680505b",
   "metadata": {},
   "source": [
    "#### TPOT AutoML"
   ]
  },
  {
   "cell_type": "code",
   "execution_count": 38,
   "id": "cbfb2097",
   "metadata": {},
   "outputs": [],
   "source": [
    "# tpot = TPOTClassifier(generations=5, population_size=50, verbosity=2, random_state=42)\n",
    "# tpot.fit(wp_vec_train, y_train)\n",
    "# print(tpot.score(wp_vec_test, y_test))"
   ]
  }
 ],
 "metadata": {
  "kernelspec": {
   "display_name": "Python 3 (ipykernel)",
   "language": "python",
   "name": "python3"
  },
  "language_info": {
   "codemirror_mode": {
    "name": "ipython",
    "version": 3
   },
   "file_extension": ".py",
   "mimetype": "text/x-python",
   "name": "python",
   "nbconvert_exporter": "python",
   "pygments_lexer": "ipython3",
   "version": "3.10.10"
  }
 },
 "nbformat": 4,
 "nbformat_minor": 5
}
